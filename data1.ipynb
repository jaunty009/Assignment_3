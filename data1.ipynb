{
  "nbformat": 4,
  "nbformat_minor": 0,
  "metadata": {
    "colab": {
      "provenance": [],
      "authorship_tag": "ABX9TyPAS32ZOLkm0B7TAVsxKfl/",
      "include_colab_link": true
    },
    "kernelspec": {
      "name": "python3",
      "display_name": "Python 3"
    },
    "language_info": {
      "name": "python"
    }
  },
  "cells": [
    {
      "cell_type": "markdown",
      "metadata": {
        "id": "view-in-github",
        "colab_type": "text"
      },
      "source": [
        "<a href=\"https://colab.research.google.com/github/jaunty009/Assignment_3/blob/main/data1.ipynb\" target=\"_parent\"><img src=\"https://colab.research.google.com/assets/colab-badge.svg\" alt=\"Open In Colab\"/></a>"
      ]
    },
    {
      "cell_type": "code",
      "execution_count": 5,
      "metadata": {
        "colab": {
          "base_uri": "https://localhost:8080/"
        },
        "id": "OTBdVLxmokSY",
        "outputId": "9f1c7b33-2cad-48db-a8fa-737a9cf37c56"
      },
      "outputs": [
        {
          "output_type": "execute_result",
          "data": {
            "text/plain": [
              "<sqlite3.Cursor at 0x7b8dfeaf08c0>"
            ]
          },
          "metadata": {},
          "execution_count": 5
        }
      ],
      "source": [
        "import sqlite3\n",
        "\n",
        "\n",
        "conn = sqlite3.connect(\"school.db\",  timeout=10)\n",
        "cursor = conn.cursor()\n",
        "\n",
        "cursor.execute('''\n",
        "    CREATE TABLE IF NOT EXISTS students (\n",
        "        roll_no INTEGER PRIMARY KEY,\n",
        "        name TEXT NOT NULL,\n",
        "        address TEXT NOT NULL,\n",
        "        section TEXT NOT NULL\n",
        "    )\n",
        "''')"
      ]
    },
    {
      "cell_type": "code",
      "source": [
        "cursor.execute('select * from students')"
      ],
      "metadata": {
        "colab": {
          "base_uri": "https://localhost:8080/"
        },
        "id": "9y9T0u0ev6Si",
        "outputId": "54a9b0d7-b852-47f1-afdf-6e04ef02ae1d"
      },
      "execution_count": null,
      "outputs": [
        {
          "output_type": "execute_result",
          "data": {
            "text/plain": [
              "<sqlite3.Cursor at 0x7bb01096a040>"
            ]
          },
          "metadata": {},
          "execution_count": 55
        }
      ]
    },
    {
      "cell_type": "markdown",
      "source": [
        "school = {1: {\"roll_no\" : 101 , \"name\" : \"ravi\" , \"address\" : \"10th ln \" , \"section\" : \"A\"},\n",
        "          2: {\"roll_no\" : 102 , \"name\" : \"sunny\" , \"address\" : \"11th ln\" , \"section\" : \"A\"},\n",
        "         \n",
        "          4: {\"roll_no\" : 104 , \"name\" : \"funny\" , \"address\" : \"13th ln\" , \"section\" : \"A\"},\n",
        "          5: {\"roll_no\" : 105 , \"name\" : \"nanni\" , \"address\" : \"14th ln\" , \"section\" : \"A\"},\n",
        "          6: {\"roll_no\" : 106 , \"name\" : \"munni\" , \"address\" : \"15th ln\" , \"section\" : \"A\"},\n",
        "          7: {\"roll_no\" : 107 , \"name\" : \"nani\" , \"address\" : \"16th ln\" , \"section\" : \"A\"},\n",
        "          8: {\"roll_no\" : 108 , \"name\" : \"benny\" , \"address\" : \"17th ln\" , \"section\" : \"A\"},\n",
        "          9: {\"roll_no\" : 109 , \"name\" : \"chinni\" , \"address\" : \"18th ln\" , \"section\" : \"A\"},\n",
        "         10: {\"roll_no\" : 110 , \"name\" : \"kanni\" , \"address\" : \"19th ln\" , \"section\" : \"A\"},\n",
        "         11: {\"roll_no\" : 111 , \"name\" : \"danny\" , \"address\" : \"20thln\" , \"section\" : \"A\"},\n",
        "         12: {\"roll_no\" : 112 , \"name\" : \"manny\" , \"address\" : \"21st ln\" , \"section\" : \"A\"},\n",
        "         13: {\"roll_no\" : 113 , \"name\" : \"gunny\" , \"address\" : \"22nd ln\" , \"section\" : \"A\"},\n",
        "         14: {\"roll_no\" : 114 , \"name\" : \"ranny\" , \"address\" : \"23rd ln\" , \"section\" : \"A\"},\n",
        "         15: {\"roll_no\" : 115 , \"name\" : \"unnie\" , \"address\" : \"24th ln\" , \"section\" : \"A\"},\n",
        "         16: {\"roll_no\" : 116 , \"name\" : \"lanny\" , \"address\" : \"25th ln\" , \"section\" : \"A\"},\n",
        "         17: {\"roll_no\" : 117 , \"name\" : \"wanny\" , \"address\" : \"26th ln\" , \"section\" : \"A\"},\n",
        "         18: {\"roll_no\" : 118 , \"name\" : \"kanny\" , \"address\" : \"27th ln\" , \"section\" : \"A\"},\n",
        "         19: {\"roll_no\" : 119 , \"name\" : \"tanny\" , \"address\" : \"28th ln\" , \"section\" : \"A\"},\n",
        "         20: {\"roll_no\" : 120 , \"name\" : \"tunny\" , \"address\" : \"29th ln\" , \"section\" : \"A\"},\n",
        "         21: {\"roll_no\" : 121 , \"name\" : \"annie\" , \"address\" : \"30th ln\" , \"section\" : \"A\"},\n",
        "         22: {\"roll_no\" : 122 , \"name\" : \"joney\" , \"address\" : \"31st ln\" , \"section\" : \"A\"},\n",
        "         23: {\"roll_no\" : 123 , \"name\" : \"banny\" , \"address\" : \"32nd ln\" , \"section\" : \"A\"},\n",
        "         24: {\"roll_no\" : 124 , \"name\" : \"vanny\" , \"address\" : \"33rd ln\" , \"section\" : \"A\"},\n",
        "         25: {\"roll_no\" : 125 , \"name\" : \"lanny\" , \"address\" : \"34th ln\" , \"section\" : \"A\"},\n",
        "         26: {\"roll_no\" : 126 , \"name\" : \"panny\" , \"address\" : \"35th ln\" , \"section\" : \"A\"},\n",
        "         27: {\"roll_no\" : 127 , \"name\" : \"wunny\" , \"address\" : \"36th ln\" , \"section\" : \"A\"},\n",
        "         28: {\"roll_no\" : 128 , \"name\" : \"runny\" , \"address\" : \"37th ln\" , \"section\" : \"A\"},\n",
        "         29: {\"roll_no\" : 129 , \"name\" : \"munny\" , \"address\" : \"38th ln\" , \"section\" : \"A\"},\n",
        "         30: {\"roll_no\" : 130 , \"name\" : \"lunny\" , \"address\" : \"39th ln\" , \"section\" : \"A\"},\n",
        "         31: {\"roll_no\" : 131 , \"name\" : \"junny\" , \"address\" : \"40th ln\" , \"section\" : \"A\"},\n",
        "         32: {\"roll_no\" : 132 , \"name\" : \"nunny\" , \"address\" : \"41st ln\" , \"section\" : \"A\"},\n",
        "         33: {\"roll_no\" : 133 , \"name\" : \"chiku\" , \"address\" : \"42nd ln\" , \"section\" : \"A\"},\n",
        "         34: {\"roll_no\" : 134 , \"name\" : \"pinku\" , \"address\" : \"43rd ln\" , \"section\" : \"A\"},\n",
        "         35: {\"roll_no\" : 135 , \"name\" : \"miku\" , \"address\" : \"44th ln\" , \"section\" : \"A\"},\n",
        "         36: {\"roll_no\" : 136 , \"name\" : \"niku\" , \"address\" : \"45th ln\" , \"section\" : \"A\"},\n",
        "         37: {\"roll_no\" : 137 , \"name\" : \"tinku\" , \"address\" : \"46th ln\" , \"section\" : \"A\"}\n",
        "          }\n",
        "for key, value in school.items():\n",
        "        cursor.execute('''\n",
        "        INSERT INTO students (roll_no, name, address, section)\n",
        "        VALUES (:roll_no, :name, :address, :section)\n",
        "    ''', value)\n",
        "\n",
        "conn.commit()\n",
        "cursor.execute('SELECT * FROM students')\n",
        "print(f\"Inserted {len(cursor.fetchall())} records\")\n",
        "conn.close()\n",
        "print(\"Data inserted successfully!\")"
      ],
      "metadata": {
        "id": "YuMC7o_OEdj9"
      }
    },
    {
      "cell_type": "code",
      "source": [
        "conn = sqlite3.connect('school.db')"
      ],
      "metadata": {
        "colab": {
          "base_uri": "https://localhost:8080/",
          "height": 141
        },
        "id": "4rbBHECQlcwX",
        "outputId": "d4591641-1836-44df-b596-e568ea6dccb7"
      },
      "execution_count": 4,
      "outputs": [
        {
          "output_type": "error",
          "ename": "NameError",
          "evalue": "name 'sqlite3' is not defined",
          "traceback": [
            "\u001b[0;31m---------------------------------------------------------------------------\u001b[0m",
            "\u001b[0;31mNameError\u001b[0m                                 Traceback (most recent call last)",
            "\u001b[0;32m<ipython-input-4-415e2bc3b579>\u001b[0m in \u001b[0;36m<cell line: 0>\u001b[0;34m()\u001b[0m\n\u001b[0;32m----> 1\u001b[0;31m \u001b[0mconn\u001b[0m \u001b[0;34m=\u001b[0m \u001b[0msqlite3\u001b[0m\u001b[0;34m.\u001b[0m\u001b[0mconnect\u001b[0m\u001b[0;34m(\u001b[0m\u001b[0;34m'school.db'\u001b[0m\u001b[0;34m)\u001b[0m\u001b[0;34m\u001b[0m\u001b[0;34m\u001b[0m\u001b[0m\n\u001b[0m",
            "\u001b[0;31mNameError\u001b[0m: name 'sqlite3' is not defined"
          ]
        }
      ]
    },
    {
      "cell_type": "code",
      "source": [
        "cursor = conn.cursor()"
      ],
      "metadata": {
        "colab": {
          "base_uri": "https://localhost:8080/",
          "height": 141
        },
        "id": "rwgkr2fglVOT",
        "outputId": "51008c07-4c0e-445b-8939-d35cc29d1893"
      },
      "execution_count": 3,
      "outputs": [
        {
          "output_type": "error",
          "ename": "NameError",
          "evalue": "name 'conn' is not defined",
          "traceback": [
            "\u001b[0;31m---------------------------------------------------------------------------\u001b[0m",
            "\u001b[0;31mNameError\u001b[0m                                 Traceback (most recent call last)",
            "\u001b[0;32m<ipython-input-3-4bc25eab5223>\u001b[0m in \u001b[0;36m<cell line: 0>\u001b[0;34m()\u001b[0m\n\u001b[0;32m----> 1\u001b[0;31m \u001b[0mcursor\u001b[0m \u001b[0;34m=\u001b[0m \u001b[0mconn\u001b[0m\u001b[0;34m.\u001b[0m\u001b[0mcursor\u001b[0m\u001b[0;34m(\u001b[0m\u001b[0;34m)\u001b[0m\u001b[0;34m\u001b[0m\u001b[0;34m\u001b[0m\u001b[0m\n\u001b[0m",
            "\u001b[0;31mNameError\u001b[0m: name 'conn' is not defined"
          ]
        }
      ]
    },
    {
      "cell_type": "code",
      "source": [
        "cursor.execute('select * from students')\n",
        "row = cursor.fetchone()\n",
        "rows = cursor.fetchall()\n",
        "for row in rows:\n",
        "  print(row)"
      ],
      "metadata": {
        "id": "1-tK5Hbxl9FB"
      },
      "execution_count": 12,
      "outputs": []
    },
    {
      "cell_type": "code",
      "source": [
        "cursor.execute('select * from students')\n",
        "rows = cursor.fetchall()\n",
        "for row in rows:\n",
        "  print(row)"
      ],
      "metadata": {
        "id": "LBriy-GaI0c0",
        "colab": {
          "base_uri": "https://localhost:8080/"
        },
        "outputId": "738332ae-ac9d-49db-b548-36e01de9858b"
      },
      "execution_count": 60,
      "outputs": [
        {
          "output_type": "stream",
          "name": "stdout",
          "text": [
            "(100, 'candy', '100th ln', 'A')\n",
            "(101, 'mandy', '101th ln', 'A')\n",
            "(102, 'landy', '102th ln', 'A')\n",
            "(103, 'bandy', '1003th ln', 'A')\n",
            "(104, 'randy', '102th ln', 'A')\n",
            "(105, 'tandy', '104th ln', 'A')\n",
            "(106, 'qandy', '105th ln', 'A')\n",
            "(107, 'sandy', '106th ln', 'A')\n",
            "(108, 'yandy', '107th ln', 'A')\n"
          ]
        }
      ]
    },
    {
      "cell_type": "code",
      "source": [
        "cursor.execute(\"INSERT INTO students(roll_no, name, address, section) VALUES(?,?,?,?)\", (202, \"don\", \"102th ln\", \"A\"))\n",
        "cursor.execute(\"INSERT INTO students(roll_no, name, address, section) VALUES(?,?,?,?)\", (203, \"moon\", \"103th ln\", \"A\"))\n",
        "cursor.execute(\"INSERT INTO students(roll_no, name, address, section) VALUES(?,?,?,?)\", (204, \"sun\", \"104th ln\", \"A\"))\n",
        "cursor.execute(\"INSERT INTO students(roll_no, name, address, section) VALUES(?,?,?,?)\", (205, \"noon\", \"105th ln\", \"A\"))\n",
        "cursor.execute(\"INSERT INTO students(roll_no, name, address, section) VALUES(?,?,?,?)\", (206, \"bon\", \"106th ln\", \"A\"))\n",
        "cursor.execute(\"INSERT INTO students(roll_no, name, address, section) VALUES(?,?,?,?)\", (207, \"lon\", \"107th ln\", \"A\"))\n",
        "cursor.execute(\"INSERT INTO students(roll_no, name, address, section) VALUES(?,?,?,?)\", (103, \"lan\", \"2003th ln\", \"A\"))"
      ],
      "metadata": {
        "id": "MHAnijogJF_S",
        "colab": {
          "base_uri": "https://localhost:8080/",
          "height": 211
        },
        "outputId": "0328fdda-1160-4fff-cae8-fb9c33db7792"
      },
      "execution_count": 26,
      "outputs": [
        {
          "output_type": "error",
          "ename": "IntegrityError",
          "evalue": "UNIQUE constraint failed: students.roll_no",
          "traceback": [
            "\u001b[0;31m---------------------------------------------------------------------------\u001b[0m",
            "\u001b[0;31mIntegrityError\u001b[0m                            Traceback (most recent call last)",
            "\u001b[0;32m<ipython-input-26-6459080f6f3d>\u001b[0m in \u001b[0;36m<cell line: 0>\u001b[0;34m()\u001b[0m\n\u001b[0;32m----> 1\u001b[0;31m \u001b[0mcursor\u001b[0m\u001b[0;34m.\u001b[0m\u001b[0mexecute\u001b[0m\u001b[0;34m(\u001b[0m\u001b[0;34m\"INSERT INTO students(roll_no, name, address, section) VALUES(?,?,?,?)\"\u001b[0m\u001b[0;34m,\u001b[0m \u001b[0;34m(\u001b[0m\u001b[0;36m202\u001b[0m\u001b[0;34m,\u001b[0m \u001b[0;34m\"don\"\u001b[0m\u001b[0;34m,\u001b[0m \u001b[0;34m\"102th ln\"\u001b[0m\u001b[0;34m,\u001b[0m \u001b[0;34m\"A\"\u001b[0m\u001b[0;34m)\u001b[0m\u001b[0;34m)\u001b[0m\u001b[0;34m\u001b[0m\u001b[0;34m\u001b[0m\u001b[0m\n\u001b[0m\u001b[1;32m      2\u001b[0m \u001b[0mcursor\u001b[0m\u001b[0;34m.\u001b[0m\u001b[0mexecute\u001b[0m\u001b[0;34m(\u001b[0m\u001b[0;34m\"INSERT INTO students(roll_no, name, address, section) VALUES(?,?,?,?)\"\u001b[0m\u001b[0;34m,\u001b[0m \u001b[0;34m(\u001b[0m\u001b[0;36m203\u001b[0m\u001b[0;34m,\u001b[0m \u001b[0;34m\"moon\"\u001b[0m\u001b[0;34m,\u001b[0m \u001b[0;34m\"103th ln\"\u001b[0m\u001b[0;34m,\u001b[0m \u001b[0;34m\"A\"\u001b[0m\u001b[0;34m)\u001b[0m\u001b[0;34m)\u001b[0m\u001b[0;34m\u001b[0m\u001b[0;34m\u001b[0m\u001b[0m\n\u001b[1;32m      3\u001b[0m \u001b[0mcursor\u001b[0m\u001b[0;34m.\u001b[0m\u001b[0mexecute\u001b[0m\u001b[0;34m(\u001b[0m\u001b[0;34m\"INSERT INTO students(roll_no, name, address, section) VALUES(?,?,?,?)\"\u001b[0m\u001b[0;34m,\u001b[0m \u001b[0;34m(\u001b[0m\u001b[0;36m204\u001b[0m\u001b[0;34m,\u001b[0m \u001b[0;34m\"sun\"\u001b[0m\u001b[0;34m,\u001b[0m \u001b[0;34m\"104th ln\"\u001b[0m\u001b[0;34m,\u001b[0m \u001b[0;34m\"A\"\u001b[0m\u001b[0;34m)\u001b[0m\u001b[0;34m)\u001b[0m\u001b[0;34m\u001b[0m\u001b[0;34m\u001b[0m\u001b[0m\n\u001b[1;32m      4\u001b[0m \u001b[0mcursor\u001b[0m\u001b[0;34m.\u001b[0m\u001b[0mexecute\u001b[0m\u001b[0;34m(\u001b[0m\u001b[0;34m\"INSERT INTO students(roll_no, name, address, section) VALUES(?,?,?,?)\"\u001b[0m\u001b[0;34m,\u001b[0m \u001b[0;34m(\u001b[0m\u001b[0;36m205\u001b[0m\u001b[0;34m,\u001b[0m \u001b[0;34m\"noon\"\u001b[0m\u001b[0;34m,\u001b[0m \u001b[0;34m\"105th ln\"\u001b[0m\u001b[0;34m,\u001b[0m \u001b[0;34m\"A\"\u001b[0m\u001b[0;34m)\u001b[0m\u001b[0;34m)\u001b[0m\u001b[0;34m\u001b[0m\u001b[0;34m\u001b[0m\u001b[0m\n\u001b[1;32m      5\u001b[0m \u001b[0mcursor\u001b[0m\u001b[0;34m.\u001b[0m\u001b[0mexecute\u001b[0m\u001b[0;34m(\u001b[0m\u001b[0;34m\"INSERT INTO students(roll_no, name, address, section) VALUES(?,?,?,?)\"\u001b[0m\u001b[0;34m,\u001b[0m \u001b[0;34m(\u001b[0m\u001b[0;36m206\u001b[0m\u001b[0;34m,\u001b[0m \u001b[0;34m\"bon\"\u001b[0m\u001b[0;34m,\u001b[0m \u001b[0;34m\"106th ln\"\u001b[0m\u001b[0;34m,\u001b[0m \u001b[0;34m\"A\"\u001b[0m\u001b[0;34m)\u001b[0m\u001b[0;34m)\u001b[0m\u001b[0;34m\u001b[0m\u001b[0;34m\u001b[0m\u001b[0m\n",
            "\u001b[0;31mIntegrityError\u001b[0m: UNIQUE constraint failed: students.roll_no"
          ]
        }
      ]
    },
    {
      "cell_type": "code",
      "source": [
        "cursor.execute(\"DELETE FROM students WHERE roll_no = ?\", (203,))"
      ],
      "metadata": {
        "colab": {
          "base_uri": "https://localhost:8080/"
        },
        "id": "YTMyl3Ktn3h3",
        "outputId": "f07ea497-bd68-44af-8114-795924b6270b"
      },
      "execution_count": 24,
      "outputs": [
        {
          "output_type": "execute_result",
          "data": {
            "text/plain": [
              "<sqlite3.Cursor at 0x7b8dfeaf08c0>"
            ]
          },
          "metadata": {},
          "execution_count": 24
        }
      ]
    },
    {
      "cell_type": "code",
      "source": [
        "cursor.execute(\"INSERT INTO students(roll_no, name, address, section) VALUES(?,?,?,?)\", (103, \"man\", \"1003th ln\", \"A\"))"
      ],
      "metadata": {
        "colab": {
          "base_uri": "https://localhost:8080/"
        },
        "id": "M2LKPISJodIb",
        "outputId": "17fe0983-7f12-41ec-a132-0776d9324be1"
      },
      "execution_count": 27,
      "outputs": [
        {
          "output_type": "execute_result",
          "data": {
            "text/plain": [
              "<sqlite3.Cursor at 0x7b8dfeaf08c0>"
            ]
          },
          "metadata": {},
          "execution_count": 27
        }
      ]
    },
    {
      "cell_type": "code",
      "source": [
        "cursor.execute(\"UPDATE students SET roll_no = ? where roll_no = ?\", (104, 202))"
      ],
      "metadata": {
        "colab": {
          "base_uri": "https://localhost:8080/"
        },
        "id": "sCntrxXEpw37",
        "outputId": "4c5582ec-6401-4569-8858-4d41488d66d5"
      },
      "execution_count": 30,
      "outputs": [
        {
          "output_type": "execute_result",
          "data": {
            "text/plain": [
              "<sqlite3.Cursor at 0x7b8dfeaf08c0>"
            ]
          },
          "metadata": {},
          "execution_count": 30
        }
      ]
    },
    {
      "cell_type": "code",
      "source": [
        "for i in range(105,109):\n",
        " for j in range(204,208):\n",
        "   dict1 = {204 : 105, 205 : 106, 206 : 107, 207 : 108}\n",
        "\n",
        "for key, value in dict1.items():\n",
        "  cursor.execute(\"UPDATE students SET roll_no = ? where roll_no = ?\", (value, key))"
      ],
      "metadata": {
        "id": "fE2sXupTqum9"
      },
      "execution_count": 57,
      "outputs": []
    },
    {
      "cell_type": "code",
      "source": [
        "dict2 = {100 : \"candy\", 101 : \"mandy\", 102 : \"landy\" , 103 : \"bandy\" , 104 : \"randy\" , 105 : \"tandy\" , 106 : \"qandy\" , 107 : \"sandy\" , 108 : \"yandy\"}\n",
        "for key, value in dict2.items():\n",
        "  cursor.execute(\"UPDATE students SET name = ? where roll_no = ?\", (value, key))"
      ],
      "metadata": {
        "id": "dduPS1nH72Px"
      },
      "execution_count": 59,
      "outputs": []
    }
  ]
}