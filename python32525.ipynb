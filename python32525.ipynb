{
  "nbformat": 4,
  "nbformat_minor": 0,
  "metadata": {
    "colab": {
      "provenance": [],
      "authorship_tag": "ABX9TyMLHJ/9aLUTtfiEfOHaTbmY",
      "include_colab_link": true
    },
    "kernelspec": {
      "name": "python3",
      "display_name": "Python 3"
    },
    "language_info": {
      "name": "python"
    }
  },
  "cells": [
    {
      "cell_type": "markdown",
      "metadata": {
        "id": "view-in-github",
        "colab_type": "text"
      },
      "source": [
        "<a href=\"https://colab.research.google.com/github/jaunty009/Assignment_3/blob/main/python32425.ipynb\" target=\"_parent\"><img src=\"https://colab.research.google.com/assets/colab-badge.svg\" alt=\"Open In Colab\"/></a>"
      ]
    },
    {
      "cell_type": "code",
      "source": [
        "starting_point = int(input(\"Enter the starting point: \"))\n",
        "ending_point = int(input(\"Enter the ending point: \"))\n",
        "print(\"The even numbers between\", starting_point, ending_point)\n",
        "for x in range(starting_point, ending_point + 1 ):\n",
        "    if x % 2 == 0:\n",
        "        print(x)"
      ],
      "metadata": {
        "colab": {
          "base_uri": "https://localhost:8080/"
        },
        "id": "ZWDueWEwku9I",
        "outputId": "426d760b-86c3-4f39-b4de-aa03b06d7395"
      },
      "execution_count": 32,
      "outputs": [
        {
          "output_type": "stream",
          "name": "stdout",
          "text": [
            "Enter the starting point: 2\n",
            "Enter the ending point: 72\n",
            "The even numbers between 2 72\n",
            "2\n",
            "4\n",
            "6\n",
            "8\n",
            "10\n",
            "12\n",
            "14\n",
            "16\n",
            "18\n",
            "20\n",
            "22\n",
            "24\n",
            "26\n",
            "28\n",
            "30\n",
            "32\n",
            "34\n",
            "36\n",
            "38\n",
            "40\n",
            "42\n",
            "44\n",
            "46\n",
            "48\n",
            "50\n",
            "52\n",
            "54\n",
            "56\n",
            "58\n",
            "60\n",
            "62\n",
            "64\n",
            "66\n",
            "68\n",
            "70\n",
            "72\n"
          ]
        }
      ]
    },
    {
      "cell_type": "code",
      "source": [
        "num = float(input(\"Enter the number: \"))\n",
        "if num > 0:\n",
        "  print(\"The number is positive\")\n",
        "elif num < 0:\n",
        "  print(\"The number is negative\")\n",
        "elif num == 0:\n",
        "  print(\"The number is zero\")"
      ],
      "metadata": {
        "colab": {
          "base_uri": "https://localhost:8080/"
        },
        "id": "GQU5Zm7VS03A",
        "outputId": "6dddc789-cb13-4ec7-b5a5-226b7bf7c40b"
      },
      "execution_count": 28,
      "outputs": [
        {
          "output_type": "stream",
          "name": "stdout",
          "text": [
            "Enter the number: 0\n",
            "The number is zero\n"
          ]
        }
      ]
    },
    {
      "cell_type": "code",
      "source": [
        "numbers = [\n",
        "    386, 462, 47, 418, 907, 344, 236, 375, 823, 566, 597, 978, 328, 615, 953, 345,\n",
        "    399, 162, 758, 219, 918, 237, 412, 566, 826, 248, 866, 950, 626, 949, 687, 217,\n",
        "    815, 67, 104, 58, 512, 24, 892, 894, 767, 553, 81, 379, 843, 831, 445, 742, 717,\n",
        "    958, 743, 527\n",
        "]\n",
        "\n",
        "for x in numbers:\n",
        "    if x == 237:\n",
        "        break;\n",
        "    if x % 2 == 0:\n",
        "        print(x)"
      ],
      "metadata": {
        "colab": {
          "base_uri": "https://localhost:8080/"
        },
        "id": "L1GiCWRxZzic",
        "outputId": "ee1301f6-764f-4ee8-b074-56f99db9734b"
      },
      "execution_count": 31,
      "outputs": [
        {
          "output_type": "stream",
          "name": "stdout",
          "text": [
            "386\n",
            "462\n",
            "418\n",
            "344\n",
            "236\n",
            "566\n",
            "978\n",
            "328\n",
            "162\n",
            "758\n",
            "918\n"
          ]
        }
      ]
    },
    {
      "cell_type": "code",
      "source": [
        "\n",
        "for i in range(1, 5+1):\n",
        "    for j in range(1, i+1):\n",
        "          print(\"*\", end=(' ') )\n",
        "\n",
        "    print()\n",
        "\n",
        "\n",
        "\n",
        "\n",
        ""
      ],
      "metadata": {
        "colab": {
          "base_uri": "https://localhost:8080/"
        },
        "id": "0CRvOixdeVS7",
        "outputId": "2688798a-8226-46e2-d7c9-8b0f410a8d86"
      },
      "execution_count": 63,
      "outputs": [
        {
          "output_type": "stream",
          "name": "stdout",
          "text": [
            "* \n",
            "* * \n",
            "* * * \n",
            "* * * * \n",
            "* * * * * \n"
          ]
        }
      ]
    },
    {
      "cell_type": "markdown",
      "source": [],
      "metadata": {
        "id": "yrsI7AlO1B6E"
      }
    },
    {
      "cell_type": "code",
      "source": [
        "numbers = [\n",
        "    386, 462, 47, 418, 907, 344, 236, 375, 823, 566, 597, 978, 328, 615, 953, 345,\n",
        "    399, 162, 758, 219, 918, 237, 412, 566, 826, 248, 866, 950, 626, 949, 687, 217,\n",
        "    815, 67, 104, 58, 512, 24, 892, 894, 767, 553, 81, 379, 843, 831, 445, 742, 717,\n",
        "    958, 743, 527\n",
        "]\n",
        "\n",
        "found_237 = False\n",
        "for x in numbers:\n",
        "    if x == 237:\n",
        "        found_237 = True\n",
        "        continue\n",
        "    if found_237 and x % 2 == 0:\n",
        "        print(x)"
      ],
      "metadata": {
        "colab": {
          "base_uri": "https://localhost:8080/"
        },
        "id": "vmqhhTZms3oV",
        "outputId": "c78ebf9b-44c7-4a8e-da91-a35809a7a038"
      },
      "execution_count": 74,
      "outputs": [
        {
          "output_type": "stream",
          "name": "stdout",
          "text": [
            "412\n",
            "566\n",
            "826\n",
            "248\n",
            "866\n",
            "950\n",
            "626\n",
            "104\n",
            "58\n",
            "512\n",
            "24\n",
            "892\n",
            "894\n",
            "742\n",
            "958\n"
          ]
        }
      ]
    },
    {
      "cell_type": "code",
      "source": [
        "X = 5\n",
        "while X < 8:\n",
        "  print(X)\n",
        "  X += 1\n",
        "\n",
        "\n"
      ],
      "metadata": {
        "colab": {
          "base_uri": "https://localhost:8080/"
        },
        "id": "4-tcSGC1zUIN",
        "outputId": "bc3e8708-311c-4f73-9af3-c940e1715a70"
      },
      "execution_count": 76,
      "outputs": [
        {
          "output_type": "stream",
          "name": "stdout",
          "text": [
            "5\n",
            "6\n",
            "7\n"
          ]
        }
      ]
    }
  ]
}
