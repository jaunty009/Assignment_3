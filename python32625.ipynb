{
  "nbformat": 4,
  "nbformat_minor": 0,
  "metadata": {
    "colab": {
      "provenance": [],
      "authorship_tag": "ABX9TyPDKfzC/KHRZ9qaklCz3uxx",
      "include_colab_link": true
    },
    "kernelspec": {
      "name": "python3",
      "display_name": "Python 3"
    },
    "language_info": {
      "name": "python"
    }
  },
  "cells": [
    {
      "cell_type": "markdown",
      "metadata": {
        "id": "view-in-github",
        "colab_type": "text"
      },
      "source": [
        "<a href=\"https://colab.research.google.com/github/jaunty009/Assignment_3/blob/main/python32625.ipynb\" target=\"_parent\"><img src=\"https://colab.research.google.com/assets/colab-badge.svg\" alt=\"Open In Colab\"/></a>"
      ]
    },
    {
      "cell_type": "markdown",
      "source": [
        "python program for factorial"
      ],
      "metadata": {
        "id": "-ygKkfm7ujKU"
      }
    },
    {
      "cell_type": "code",
      "execution_count": 28,
      "metadata": {
        "colab": {
          "base_uri": "https://localhost:8080/"
        },
        "id": "-kiH9B7dpk4h",
        "outputId": "75293c61-ce7b-4fa7-cdb1-ef419f32ec62"
      },
      "outputs": [
        {
          "output_type": "stream",
          "name": "stdout",
          "text": [
            "enter the number24\n",
            "the factorial of 24 is 620448401733239439360000\n"
          ]
        }
      ],
      "source": [
        "numb = int(input(\"enter the number\"))\n",
        "factorial=1\n",
        "if numb < 0:\n",
        "  print(\"factorial does not have negative numbers\")\n",
        "elif numb == 0:\n",
        "  print(\"factorial of 0 is 1\")\n",
        "else:\n",
        "  for i in range(1,numb+1):\n",
        "        factorial = factorial*i\n",
        "  print(\"the factorial of\",numb,\"is\",factorial)"
      ]
    },
    {
      "cell_type": "code",
      "source": [
        "n = int(input(\"enter the number\"))\n",
        "print(\"The Multiplication Table: \")\n",
        "for i in range(1,10+1):\n",
        "  print(n,\"x\",i,\"=\",n*i)"
      ],
      "metadata": {
        "colab": {
          "base_uri": "https://localhost:8080/"
        },
        "id": "B_Werc0rzcu_",
        "outputId": "de30f5d1-4d82-466e-e46c-f7b70c34b821"
      },
      "execution_count": 29,
      "outputs": [
        {
          "output_type": "stream",
          "name": "stdout",
          "text": [
            "enter the number10\n",
            "The Multiplication Table: \n",
            "10 x 1 = 10\n",
            "10 x 2 = 20\n",
            "10 x 3 = 30\n",
            "10 x 4 = 40\n",
            "10 x 5 = 50\n",
            "10 x 6 = 60\n",
            "10 x 7 = 70\n",
            "10 x 8 = 80\n",
            "10 x 9 = 90\n",
            "10 x 10 = 100\n"
          ]
        }
      ]
    },
    {
      "cell_type": "code",
      "source": [
        "num = int(input(\"enter the number\"))\n",
        "for i in range(2,num):\n",
        "  if num % i == 0:\n",
        "    print(\"not prime\")\n",
        "    break\n",
        "else:\n",
        "    print(\"prime\")"
      ],
      "metadata": {
        "colab": {
          "base_uri": "https://localhost:8080/"
        },
        "id": "ieFN506k2OW2",
        "outputId": "a6a1199d-5bf2-44ad-a018-d7b9ba75fd4e"
      },
      "execution_count": 43,
      "outputs": [
        {
          "output_type": "stream",
          "name": "stdout",
          "text": [
            "enter the number7\n",
            "prime\n"
          ]
        }
      ]
    },
    {
      "cell_type": "code",
      "source": [],
      "metadata": {
        "id": "MqgMM3tYB3iV"
      },
      "execution_count": null,
      "outputs": []
    }
  ]
}