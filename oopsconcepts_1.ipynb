{
  "nbformat": 4,
  "nbformat_minor": 0,
  "metadata": {
    "colab": {
      "provenance": [],
      "authorship_tag": "ABX9TyP0R9pKWdX5u+dimyUJclXP",
      "include_colab_link": true
    },
    "kernelspec": {
      "name": "python3",
      "display_name": "Python 3"
    },
    "language_info": {
      "name": "python"
    }
  },
  "cells": [
    {
      "cell_type": "markdown",
      "metadata": {
        "id": "view-in-github",
        "colab_type": "text"
      },
      "source": [
        "<a href=\"https://colab.research.google.com/github/jaunty009/Assignment_3/blob/main/oopsconcepts_1.ipynb\" target=\"_parent\"><img src=\"https://colab.research.google.com/assets/colab-badge.svg\" alt=\"Open In Colab\"/></a>"
      ]
    },
    {
      "cell_type": "markdown",
      "source": [
        "Single Inheritance"
      ],
      "metadata": {
        "id": "hR7ZwUL0oVdZ"
      }
    },
    {
      "cell_type": "code",
      "execution_count": null,
      "metadata": {
        "id": "2I-ILSOwEWxV"
      },
      "outputs": [],
      "source": [
        "🔹 1. Create a class Vehicle with a method start(). Inherit it in a class Car and call the start() method using an object of Car."
      ]
    },
    {
      "cell_type": "code",
      "source": [
        "class Vehicle:\n",
        "    def start(self):\n",
        "        print(\"Vehicle started\")\n",
        "\n",
        "class Car(Vehicle):\n",
        "    def start(self):\n",
        "        print(\"kia started\")\n",
        "\n",
        "car = Car()\n",
        "car.start()"
      ],
      "metadata": {
        "colab": {
          "base_uri": "https://localhost:8080/"
        },
        "id": "1wBkaHVud8XD",
        "outputId": "802a045f-7cb8-462a-cdf4-fb29ad598ecf"
      },
      "execution_count": null,
      "outputs": [
        {
          "output_type": "stream",
          "name": "stdout",
          "text": [
            "kia started\n"
          ]
        }
      ]
    },
    {
      "cell_type": "markdown",
      "source": [
        "🔹 2. Create a parent class Person with attributes name and age. Inherit it in a class Student and add an attribute student_id. Initialize all attributes."
      ],
      "metadata": {
        "id": "MrJtuXGMee-3"
      }
    },
    {
      "cell_type": "code",
      "source": [
        "class Person:\n",
        "    def __init__(self, name, age):\n",
        "        self.name = name\n",
        "        self.age = age\n",
        "class Student(Person):\n",
        "    def __init__(self, name, age, student_id):\n",
        "        Person.__init__(self, name, age)\n",
        "        self.student_id = student_id\n",
        "student = Student(\"john\", 29, \"13fe1a05a5\")\n",
        "print(student.name)\n",
        "print(student.age)\n",
        "print(student.student_id)"
      ],
      "metadata": {
        "colab": {
          "base_uri": "https://localhost:8080/"
        },
        "id": "45sKbeeJfZSN",
        "outputId": "888bfe5c-882b-4cdf-e09f-76a9fe2d3775"
      },
      "execution_count": null,
      "outputs": [
        {
          "output_type": "stream",
          "name": "stdout",
          "text": [
            "john\n",
            "29\n",
            "13fe1a05a5\n"
          ]
        }
      ]
    },
    {
      "cell_type": "markdown",
      "source": [
        "🔹 3. In a class Animal, define a method sound() that prints \"Animal sound\". In a child class Dog, override sound() to print \"Bark\". Create an object of Dog and call sound()."
      ],
      "metadata": {
        "id": "5i8G7cSrhQRt"
      }
    },
    {
      "cell_type": "code",
      "source": [
        "class Animal:\n",
        "    def sound(self):\n",
        "        print(\"Animal sound\")\n",
        "class Dog(Animal):\n",
        "    def sound(self):\n",
        "        print(\"Bark\")\n",
        "dog = Dog()\n",
        "dog.sound()"
      ],
      "metadata": {
        "colab": {
          "base_uri": "https://localhost:8080/"
        },
        "id": "oZ1NlzWRhRRq",
        "outputId": "b6228b78-005e-4387-d798-a205fc9466a5"
      },
      "execution_count": null,
      "outputs": [
        {
          "output_type": "stream",
          "name": "stdout",
          "text": [
            "Bark\n"
          ]
        }
      ]
    },
    {
      "cell_type": "markdown",
      "source": [
        "🔹 4. Define a class Shape with method area(). Create a class Square that inherits from Shape and implements the area() method using side length."
      ],
      "metadata": {
        "id": "Q4THkN9bhtr4"
      }
    },
    {
      "cell_type": "code",
      "source": [
        "class Shape:\n",
        "    def area(self):\n",
        "        pass\n",
        "class Square(Shape):\n",
        "    def __init__(self, side_length):\n",
        "        self.side_length = side_length\n",
        "    def area(self):\n",
        "        return self.side_length ** 2\n",
        "square = Square(2)\n",
        "print(square.area())"
      ],
      "metadata": {
        "colab": {
          "base_uri": "https://localhost:8080/"
        },
        "id": "JT-IIB_jhvEy",
        "outputId": "bffb40dd-e5a1-4c37-b66a-ea07f333caeb"
      },
      "execution_count": null,
      "outputs": [
        {
          "output_type": "stream",
          "name": "stdout",
          "text": [
            "4\n"
          ]
        }
      ]
    },
    {
      "cell_type": "markdown",
      "source": [
        "🔹 5. Create a class Employee with a constructor that prints \"Employee created\". Inherit it in Manager and print \"Manager created\" from the child constructor. Use super() to call the parent constructor."
      ],
      "metadata": {
        "id": "PkIoF2wRi0wz"
      }
    },
    {
      "cell_type": "code",
      "source": [
        "class Employee:\n",
        "    def __init__(self):\n",
        "        print(\"Employee created\")\n",
        "class Manager(Employee):\n",
        "    def __init__(self):\n",
        "        super().__init__()\n",
        "        print(\"Manager created\")\n",
        "manager = Manager()"
      ],
      "metadata": {
        "colab": {
          "base_uri": "https://localhost:8080/"
        },
        "id": "q2sAvx67i8V_",
        "outputId": "78992d14-5549-47ba-88f1-425e63e75515"
      },
      "execution_count": null,
      "outputs": [
        {
          "output_type": "stream",
          "name": "stdout",
          "text": [
            "Employee created\n",
            "Manager created\n"
          ]
        }
      ]
    },
    {
      "cell_type": "markdown",
      "source": [
        "multiple inheritance"
      ],
      "metadata": {
        "id": "S5XdbwJ_kDwI"
      }
    },
    {
      "cell_type": "markdown",
      "source": [
        "🔹 1. Create two classes Engine and Wheels. Both should have a method info(). Create a class Car that inherits from both and calls both info() methods."
      ],
      "metadata": {
        "id": "Aoo-3D6pj_5r"
      }
    },
    {
      "cell_type": "code",
      "source": [
        "class Engine:\n",
        "    def info(self):\n",
        "        print(\"Engine info\")\n",
        "class Wheels:\n",
        "    def info(self):\n",
        "        print(\"Wheels info\")\n",
        "class Car(Engine, Wheels):\n",
        "    def info(self):\n",
        "        Engine.info(self)\n",
        "        Wheels.info(self)\n",
        "car = Car()\n",
        "car.info()"
      ],
      "metadata": {
        "colab": {
          "base_uri": "https://localhost:8080/"
        },
        "id": "gJYxCCKfkCG8",
        "outputId": "60d3f82c-0695-4cef-83e1-36fbbf0e3b08"
      },
      "execution_count": null,
      "outputs": [
        {
          "output_type": "stream",
          "name": "stdout",
          "text": [
            "Engine info\n",
            "Wheels info\n"
          ]
        }
      ]
    },
    {
      "cell_type": "markdown",
      "source": [
        "🔹 2. Define a class Father with method skills() that prints \"Gardening\". Define a class Mother with skills() that prints \"Cooking\". Create a class Child that inherits both and overrides skills() to print both skills"
      ],
      "metadata": {
        "id": "Yse31wmBkjOo"
      }
    },
    {
      "cell_type": "code",
      "source": [
        "class Father:\n",
        "    def skills(self):\n",
        "        print(\"Gardening\")\n",
        "class Mother:\n",
        "    def skills(self):\n",
        "        print(\"Cooking\")\n",
        "class Child(Father, Mother):\n",
        "    def skills(self):\n",
        "        Father.skills(self)\n",
        "        Mother.skills(self)\n",
        "child = Child()\n",
        "child.skills()"
      ],
      "metadata": {
        "colab": {
          "base_uri": "https://localhost:8080/"
        },
        "id": "VRHX3v-xkoE8",
        "outputId": "277b4af3-f61e-4637-d1e4-ed2431f002e3"
      },
      "execution_count": null,
      "outputs": [
        {
          "output_type": "stream",
          "name": "stdout",
          "text": [
            "Gardening\n",
            "Cooking\n"
          ]
        }
      ]
    },
    {
      "cell_type": "markdown",
      "source": [
        "🔹 3. Create classes Bird with method fly() and Fish with method swim(). Create a class FlyingFish that inherits both and calls both methods."
      ],
      "metadata": {
        "id": "4JtnB-1b_q8g"
      }
    },
    {
      "cell_type": "code",
      "source": [
        "class Bird:\n",
        "    def fly(self):\n",
        "        print(\"Bird is flying\")\n",
        "class Fish:\n",
        "    def swim(self):\n",
        "        print(\"Fish is swimming\")\n",
        "class FlyingFish(Bird, Fish):\n",
        "    def fly(self):\n",
        "        Bird.fly(self)\n",
        "    def swim(self):\n",
        "        Fish.swim(self)\n",
        "flying_fish = FlyingFish()\n",
        "flying_fish.fly()\n",
        "flying_fish.swim()"
      ],
      "metadata": {
        "colab": {
          "base_uri": "https://localhost:8080/"
        },
        "id": "JmyPBgdg_qKX",
        "outputId": "a1abc0ae-c6e0-40b4-e58b-e16eef851ea8"
      },
      "execution_count": 9,
      "outputs": [
        {
          "output_type": "stream",
          "name": "stdout",
          "text": [
            "Bird is flying\n",
            "Fish is swimming\n"
          ]
        }
      ]
    },
    {
      "cell_type": "markdown",
      "source": [
        " 4. Create two parent classes A and B, both with constructors. Use super() in a child class C that inherits both, and observe which constructor is called."
      ],
      "metadata": {
        "id": "0EH-GnreAAON"
      }
    },
    {
      "cell_type": "code",
      "source": [
        "class A:\n",
        "    def __init__(self):\n",
        "        print(\"A constructor\")\n",
        "class B:\n",
        "    def __init__(self):\n",
        "        print(\"B constructor\")\n",
        "class C(A, B):\n",
        "    def __init__(self):\n",
        "        super().__init__()\n",
        "        print(\"C constructor\")\n",
        "c = C()"
      ],
      "metadata": {
        "colab": {
          "base_uri": "https://localhost:8080/"
        },
        "id": "fXyrVu97AEMw",
        "outputId": "b98673fe-f2e2-47e2-8b63-8dae86683ec0"
      },
      "execution_count": 12,
      "outputs": [
        {
          "output_type": "stream",
          "name": "stdout",
          "text": [
            "A constructor\n",
            "C constructor\n"
          ]
        }
      ]
    },
    {
      "cell_type": "markdown",
      "source": [
        "🔹 5. Define a class Camera with method click() and class Phone with method call(). Create a class Smartphone that inherits both and can call both methods."
      ],
      "metadata": {
        "id": "Mtrd1pFTAgW3"
      }
    },
    {
      "cell_type": "code",
      "source": [
        "class camera:\n",
        "  def click(self):\n",
        "    print(\"click\")\n",
        "class phone:\n",
        "  def call(self):\n",
        "    print(\"call\")\n",
        "class smartphone(camera,phone):\n",
        "  def click(self):\n",
        "    camera.click(self)\n",
        "  def call(self):\n",
        "    phone.call(self)\n",
        "s=smartphone()\n",
        "s.click()\n",
        "s.call()\n"
      ],
      "metadata": {
        "colab": {
          "base_uri": "https://localhost:8080/"
        },
        "id": "eezFTtPaAj_E",
        "outputId": "329f79eb-a3c3-4236-eefe-5487f398cb20"
      },
      "execution_count": 15,
      "outputs": [
        {
          "output_type": "stream",
          "name": "stdout",
          "text": [
            "click\n",
            "call\n"
          ]
        }
      ]
    },
    {
      "cell_type": "markdown",
      "source": [
        "Multilevel Inheritance"
      ],
      "metadata": {
        "id": "kT3fxmn-CAtw"
      }
    },
    {
      "cell_type": "markdown",
      "source": [
        "🔹 1. Create a class Grandfather with method grand_info(). Inherit it in class Father, and from Father inherit class Son. Access grand_info() from Son object."
      ],
      "metadata": {
        "id": "5Z11I8MQB_GL"
      }
    },
    {
      "cell_type": "code",
      "source": [
        "class Grandfather:\n",
        "    def grand_info(self):\n",
        "        print(\"Grandpa\")\n",
        "class Father(Grandfather):\n",
        "    def father_info(self):\n",
        "        print(\"Dad\")\n",
        "class Son(Father):\n",
        "    def son_info(self):\n",
        "        print(\"son\")\n",
        "s = Son()\n",
        "s.grand_info()"
      ],
      "metadata": {
        "colab": {
          "base_uri": "https://localhost:8080/"
        },
        "id": "XDtqwOUyCIoD",
        "outputId": "8429a3e8-9813-4c56-c914-782d7d42cf06"
      },
      "execution_count": 28,
      "outputs": [
        {
          "output_type": "stream",
          "name": "stdout",
          "text": [
            "Grandpa\n"
          ]
        }
      ]
    },
    {
      "cell_type": "markdown",
      "source": [
        "🔹 2. Define class A with a method msg(). Inherit class B from A and class C from B. Override msg() in C. Call msg() from an object of C."
      ],
      "metadata": {
        "id": "2Q1BfOY7DwAx"
      }
    },
    {
      "cell_type": "code",
      "source": [
        "class A:\n",
        "    def msg(self):\n",
        "        print(\"A\")\n",
        "class B(A):\n",
        "    def msg(self):\n",
        "        print(\"B\")\n",
        "class C(B):\n",
        "    def msg(self):\n",
        "        print(\"C\")\n",
        "c = C()\n",
        "c.msg()"
      ],
      "metadata": {
        "colab": {
          "base_uri": "https://localhost:8080/"
        },
        "id": "3G3uDJ-MD0cR",
        "outputId": "7f679928-db26-47eb-f1c9-196ed42d6387"
      },
      "execution_count": 19,
      "outputs": [
        {
          "output_type": "stream",
          "name": "stdout",
          "text": [
            "C\n"
          ]
        }
      ]
    },
    {
      "cell_type": "markdown",
      "source": [
        "🔹 3. Create a class Animal with a method eat(). Inherit class Mammal from Animal with method walk(). Then create class Dog from Mammal with method bark(). Call all methods from Dog object."
      ],
      "metadata": {
        "id": "gDBK3Sg3E7ED"
      }
    },
    {
      "cell_type": "code",
      "source": [
        "class Animal:\n",
        "    def eat(self):\n",
        "        print(\"Animal eating meat\")\n",
        "class Mammal(Animal):\n",
        "    def walk(self):\n",
        "        print(\"Mammal walking on grass\")\n",
        "class Dog(Mammal):\n",
        "    def bark(self):\n",
        "        print(\"Dog barking\")\n",
        "        Animal.eat(self)\n",
        "        Mammal.walk(self)\n",
        "d = Dog()\n",
        "d.bark()"
      ],
      "metadata": {
        "colab": {
          "base_uri": "https://localhost:8080/"
        },
        "id": "ttI4WayQFCPq",
        "outputId": "893b3be7-05ec-499e-b6ff-ddf123702b62"
      },
      "execution_count": 32,
      "outputs": [
        {
          "output_type": "stream",
          "name": "stdout",
          "text": [
            "Dog barking\n",
            "Animal eating meat\n",
            "Mammal walking on grass\n"
          ]
        }
      ]
    },
    {
      "cell_type": "markdown",
      "source": [
        "🔹 4. Write a class Base with a constructor that prints \"Base created\". Inherit Level1 from Base, and Level2 from Level1. Call constructors from Level2 using super()."
      ],
      "metadata": {
        "id": "AzdWUi7_Fpb3"
      }
    },
    {
      "cell_type": "code",
      "source": [
        "class Base:\n",
        "    def __init__(self):\n",
        "        print(\"Base created\")\n",
        "class Level1(Base):\n",
        "    def __init__(self):\n",
        "        super().__init__()\n",
        "        print(\"Level1 created\")\n",
        "class Level2(Level1):\n",
        "    def __init__(self):\n",
        "        super().__init__()\n",
        "        print(\"Level2 created\")\n",
        "l2 = Level2()"
      ],
      "metadata": {
        "colab": {
          "base_uri": "https://localhost:8080/"
        },
        "id": "w2RPFogJGFFr",
        "outputId": "72e70d06-f29b-4a8d-b35f-a7619653f655"
      },
      "execution_count": 33,
      "outputs": [
        {
          "output_type": "stream",
          "name": "stdout",
          "text": [
            "Base created\n",
            "Level1 created\n",
            "Level2 created\n"
          ]
        }
      ]
    },
    {
      "cell_type": "markdown",
      "source": [],
      "metadata": {
        "id": "Kp-SXA0GHhvK"
      }
    },
    {
      "cell_type": "markdown",
      "source": [
        "# Create a class Vehicle with method start(): prints \"Vehicle started\".\n",
        "# Create two child classes: Car and Bike, both inheriting from Vehicle.\n",
        "# Call start() from objects of both Car and Bike."
      ],
      "metadata": {
        "id": "czV9lQTeHd7A"
      }
    },
    {
      "cell_type": "markdown",
      "source": [
        "Encapsulation"
      ],
      "metadata": {
        "id": "2tlN7c-dsgmo"
      }
    },
    {
      "cell_type": "markdown",
      "source": [
        "public\n",
        "private\n",
        "protected"
      ],
      "metadata": {
        "id": "E9wkszfuGbuk"
      }
    },
    {
      "cell_type": "markdown",
      "source": [
        "getters and setters"
      ],
      "metadata": {
        "id": "rABLBl7b7wZY"
      }
    },
    {
      "cell_type": "code",
      "source": [
        "class wallet:\n",
        "  def __init__(self, balance, cards, photo):\n",
        "    self.balance = balance #public\n",
        "    self._cards = cards #protected\n",
        "    self.__photo = photo #private\n",
        "  @property\n",
        "  def g_cards(self):\n",
        "    return self.__cards\n",
        "\n",
        "  @g_cards.setter\n",
        "  def g_cards(self, cards):\n",
        "    if cards >= 1:\n",
        "     self.__cards = cards\n",
        "    else:\n",
        "      print(\"no cards\")\n",
        "\n",
        "  @property\n",
        "  def g_photo(self):\n",
        "    return self.__photo\n",
        "\n",
        "  @g_photo.setter\n",
        "  def g_photo(self, photo):\n",
        "    if photo >= 1:\n",
        "     self.__photo = photo\n",
        "    else:\n",
        "      print(\"no photo\")\n",
        "\n",
        "  w = wallet(2000, 3 , 1)\n",
        "\n",
        "  print(w.balance)\n",
        "  print(w.g_cards)\n",
        "  print(w.g_photo)\n",
        "\n",
        "\n",
        "\n"
      ],
      "metadata": {
        "colab": {
          "base_uri": "https://localhost:8080/"
        },
        "id": "juUQzAtJ2fIb",
        "outputId": "84f49316-27eb-449f-fef4-efe61790b6c6"
      },
      "execution_count": 13,
      "outputs": [
        {
          "output_type": "stream",
          "name": "stdout",
          "text": [
            "2000\n",
            "3\n",
            "1\n"
          ]
        }
      ]
    },
    {
      "cell_type": "markdown",
      "source": [
        "Getters and setters"
      ],
      "metadata": {
        "id": "R2lFAiNPrlDs"
      }
    },
    {
      "cell_type": "code",
      "source": [
        "class wallet:\n",
        "    def __init__(self, balance, cards, photo):\n",
        "        self.balance = balance  # public\n",
        "        self._cards = cards  # protected\n",
        "        self.__photo = photo  # private\n",
        "\n",
        "    @property\n",
        "    def g_cards(self):\n",
        "        return self._cards\n",
        "\n",
        "    @g_cards.setter\n",
        "    def g_cards(self, cards):\n",
        "        if cards >= 1:  # Assuming 'cards' is intended here\n",
        "            self.__cards = cards\n",
        "        else:\n",
        "            print(\"no cards\")\n",
        "\n",
        "    @property\n",
        "    def g_photo(self):\n",
        "        return self.__photo\n",
        "\n",
        "    @g_photo.setter\n",
        "    def g_photo(self, photo):\n",
        "        if photo >= 1:\n",
        "            self.__photo = photo\n",
        "        else:\n",
        "            print(\"no photo\")\n",
        "\n",
        "# Create an instance of the class outside the class definition\n",
        "w = wallet(2000, 3, 1)\n",
        "\n",
        "print(w.balance)\n",
        "print(w.g_cards)\n",
        "print(w.g_photo)"
      ],
      "metadata": {
        "colab": {
          "base_uri": "https://localhost:8080/"
        },
        "id": "vLwYFR3i6EGf",
        "outputId": "9cd2f0f6-380f-4fa3-9b2c-28816045e9ed"
      },
      "execution_count": 1,
      "outputs": [
        {
          "output_type": "stream",
          "name": "stdout",
          "text": [
            "2000\n",
            "3\n",
            "1\n"
          ]
        }
      ]
    },
    {
      "cell_type": "markdown",
      "source": [
        "Create a class Person with a private attribute name. Write a setter method to update the name"
      ],
      "metadata": {
        "id": "VcJCBYSE6tIh"
      }
    },
    {
      "cell_type": "code",
      "source": [
        "class Person:\n",
        "    def __init__(self, name):\n",
        "        self.__name = name  # Private\n",
        "\n",
        "    # Getter method\n",
        "    @property\n",
        "    def name(self):\n",
        "        return self.__name\n",
        "\n",
        "    # Setter method\n",
        "    @name.setter\n",
        "    def name(self, new_name):\n",
        "        if isinstance(new_name, str) and new_name.strip():\n",
        "            self.__name = new_name.strip()\n",
        "        else:\n",
        "            raise ValueError(\"Name must be a non-empty string\")\n",
        "\n",
        "person = Person(\"jaunty\")\n",
        "print(person.name)\n",
        "\n",
        "person.name = \"bhavya\"\n",
        "print(person.name)\n",
        "\n"
      ],
      "metadata": {
        "colab": {
          "base_uri": "https://localhost:8080/"
        },
        "id": "t_-Tjpuh8Me6",
        "outputId": "41007cea-99d6-4702-cefd-9c5c2e01c31b"
      },
      "execution_count": 6,
      "outputs": [
        {
          "output_type": "stream",
          "name": "stdout",
          "text": [
            "jaunty\n",
            "bhavya\n"
          ]
        }
      ]
    }
  ]
}