{
  "nbformat": 4,
  "nbformat_minor": 0,
  "metadata": {
    "colab": {
      "provenance": [],
      "authorship_tag": "ABX9TyNwtNshJp+cC9QlBkDFhgiy",
      "include_colab_link": true
    },
    "kernelspec": {
      "name": "python3",
      "display_name": "Python 3"
    },
    "language_info": {
      "name": "python"
    }
  },
  "cells": [
    {
      "cell_type": "markdown",
      "metadata": {
        "id": "view-in-github",
        "colab_type": "text"
      },
      "source": [
        "<a href=\"https://colab.research.google.com/github/jaunty009/Assignment_3/blob/main/oopsconcepts_1.ipynb\" target=\"_parent\"><img src=\"https://colab.research.google.com/assets/colab-badge.svg\" alt=\"Open In Colab\"/></a>"
      ]
    },
    {
      "cell_type": "markdown",
      "source": [
        "Single Inheritance"
      ],
      "metadata": {
        "id": "hR7ZwUL0oVdZ"
      }
    },
    {
      "cell_type": "code",
      "execution_count": null,
      "metadata": {
        "id": "2I-ILSOwEWxV"
      },
      "outputs": [],
      "source": [
        "🔹 1. Create a class Vehicle with a method start(). Inherit it in a class Car and call the start() method using an object of Car."
      ]
    },
    {
      "cell_type": "code",
      "source": [
        "class Vehicle:\n",
        "    def start(self):\n",
        "        print(\"Vehicle started\")\n",
        "\n",
        "class Car(Vehicle):\n",
        "    def start(self):\n",
        "        print(\"kia started\")\n",
        "\n",
        "car = Car()\n",
        "car.start()"
      ],
      "metadata": {
        "colab": {
          "base_uri": "https://localhost:8080/"
        },
        "id": "1wBkaHVud8XD",
        "outputId": "802a045f-7cb8-462a-cdf4-fb29ad598ecf"
      },
      "execution_count": null,
      "outputs": [
        {
          "output_type": "stream",
          "name": "stdout",
          "text": [
            "kia started\n"
          ]
        }
      ]
    },
    {
      "cell_type": "markdown",
      "source": [
        "🔹 2. Create a parent class Person with attributes name and age. Inherit it in a class Student and add an attribute student_id. Initialize all attributes."
      ],
      "metadata": {
        "id": "MrJtuXGMee-3"
      }
    },
    {
      "cell_type": "code",
      "source": [
        "class Person:\n",
        "    def __init__(self, name, age):\n",
        "        self.name = name\n",
        "        self.age = age\n",
        "class Student(Person):\n",
        "    def __init__(self, name, age, student_id):\n",
        "        Person.__init__(self, name, age)\n",
        "        self.student_id = student_id\n",
        "student = Student(\"john\", 29, \"13fe1a05a5\")\n",
        "print(student.name)\n",
        "print(student.age)\n",
        "print(student.student_id)"
      ],
      "metadata": {
        "colab": {
          "base_uri": "https://localhost:8080/"
        },
        "id": "45sKbeeJfZSN",
        "outputId": "888bfe5c-882b-4cdf-e09f-76a9fe2d3775"
      },
      "execution_count": null,
      "outputs": [
        {
          "output_type": "stream",
          "name": "stdout",
          "text": [
            "john\n",
            "29\n",
            "13fe1a05a5\n"
          ]
        }
      ]
    },
    {
      "cell_type": "markdown",
      "source": [
        "🔹 3. In a class Animal, define a method sound() that prints \"Animal sound\". In a child class Dog, override sound() to print \"Bark\". Create an object of Dog and call sound()."
      ],
      "metadata": {
        "id": "5i8G7cSrhQRt"
      }
    },
    {
      "cell_type": "code",
      "source": [
        "class Animal:\n",
        "    def sound(self):\n",
        "        print(\"Animal sound\")\n",
        "class Dog(Animal):\n",
        "    def sound(self):\n",
        "        print(\"Bark\")\n",
        "dog = Dog()\n",
        "dog.sound()"
      ],
      "metadata": {
        "colab": {
          "base_uri": "https://localhost:8080/"
        },
        "id": "oZ1NlzWRhRRq",
        "outputId": "b6228b78-005e-4387-d798-a205fc9466a5"
      },
      "execution_count": null,
      "outputs": [
        {
          "output_type": "stream",
          "name": "stdout",
          "text": [
            "Bark\n"
          ]
        }
      ]
    },
    {
      "cell_type": "markdown",
      "source": [
        "🔹 4. Define a class Shape with method area(). Create a class Square that inherits from Shape and implements the area() method using side length."
      ],
      "metadata": {
        "id": "Q4THkN9bhtr4"
      }
    },
    {
      "cell_type": "code",
      "source": [
        "class Shape:\n",
        "    def area(self):\n",
        "        pass\n",
        "class Square(Shape):\n",
        "    def __init__(self, side_length):\n",
        "        self.side_length = side_length\n",
        "    def area(self):\n",
        "        return self.side_length ** 2\n",
        "square = Square(2)\n",
        "print(square.area())"
      ],
      "metadata": {
        "colab": {
          "base_uri": "https://localhost:8080/"
        },
        "id": "JT-IIB_jhvEy",
        "outputId": "bffb40dd-e5a1-4c37-b66a-ea07f333caeb"
      },
      "execution_count": null,
      "outputs": [
        {
          "output_type": "stream",
          "name": "stdout",
          "text": [
            "4\n"
          ]
        }
      ]
    },
    {
      "cell_type": "markdown",
      "source": [
        "🔹 5. Create a class Employee with a constructor that prints \"Employee created\". Inherit it in Manager and print \"Manager created\" from the child constructor. Use super() to call the parent constructor."
      ],
      "metadata": {
        "id": "PkIoF2wRi0wz"
      }
    },
    {
      "cell_type": "code",
      "source": [
        "class Employee:\n",
        "    def __init__(self):\n",
        "        print(\"Employee created\")\n",
        "class Manager(Employee):\n",
        "    def __init__(self):\n",
        "        super().__init__()\n",
        "        print(\"Manager created\")\n",
        "manager = Manager()"
      ],
      "metadata": {
        "colab": {
          "base_uri": "https://localhost:8080/"
        },
        "id": "q2sAvx67i8V_",
        "outputId": "78992d14-5549-47ba-88f1-425e63e75515"
      },
      "execution_count": null,
      "outputs": [
        {
          "output_type": "stream",
          "name": "stdout",
          "text": [
            "Employee created\n",
            "Manager created\n"
          ]
        }
      ]
    },
    {
      "cell_type": "markdown",
      "source": [
        "multiple inheritance"
      ],
      "metadata": {
        "id": "S5XdbwJ_kDwI"
      }
    },
    {
      "cell_type": "markdown",
      "source": [
        "🔹 1. Create two classes Engine and Wheels. Both should have a method info(). Create a class Car that inherits from both and calls both info() methods."
      ],
      "metadata": {
        "id": "Aoo-3D6pj_5r"
      }
    },
    {
      "cell_type": "code",
      "source": [
        "class Engine:\n",
        "    def info(self):\n",
        "        print(\"Engine info\")\n",
        "class Wheels:\n",
        "    def info(self):\n",
        "        print(\"Wheels info\")\n",
        "class Car(Engine, Wheels):\n",
        "    def info(self):\n",
        "        Engine.info(self)\n",
        "        Wheels.info(self)\n",
        "car = Car()\n",
        "car.info()"
      ],
      "metadata": {
        "colab": {
          "base_uri": "https://localhost:8080/"
        },
        "id": "gJYxCCKfkCG8",
        "outputId": "60d3f82c-0695-4cef-83e1-36fbbf0e3b08"
      },
      "execution_count": null,
      "outputs": [
        {
          "output_type": "stream",
          "name": "stdout",
          "text": [
            "Engine info\n",
            "Wheels info\n"
          ]
        }
      ]
    },
    {
      "cell_type": "markdown",
      "source": [
        "🔹 2. Define a class Father with method skills() that prints \"Gardening\". Define a class Mother with skills() that prints \"Cooking\". Create a class Child that inherits both and overrides skills() to print both skills"
      ],
      "metadata": {
        "id": "Yse31wmBkjOo"
      }
    },
    {
      "cell_type": "code",
      "source": [
        "class Father:\n",
        "    def skills(self):\n",
        "        print(\"Gardening\")\n",
        "class Mother:\n",
        "    def skills(self):\n",
        "        print(\"Cooking\")\n",
        "class Child(Father, Mother):\n",
        "    def skills(self):\n",
        "        Father.skills(self)\n",
        "        Mother.skills(self)\n",
        "child = Child()\n",
        "child.skills()"
      ],
      "metadata": {
        "colab": {
          "base_uri": "https://localhost:8080/"
        },
        "id": "VRHX3v-xkoE8",
        "outputId": "277b4af3-f61e-4637-d1e4-ed2431f002e3"
      },
      "execution_count": null,
      "outputs": [
        {
          "output_type": "stream",
          "name": "stdout",
          "text": [
            "Gardening\n",
            "Cooking\n"
          ]
        }
      ]
    },
    {
      "cell_type": "markdown",
      "source": [
        "Encapsulation"
      ],
      "metadata": {
        "id": "2tlN7c-dsgmo"
      }
    },
    {
      "cell_type": "markdown",
      "source": [
        "getters and setters"
      ],
      "metadata": {
        "id": "rABLBl7b7wZY"
      }
    },
    {
      "cell_type": "code",
      "source": [
        "class wallet:\n",
        "  def __init__(self, balance, cards, photo):\n",
        "    self.balance = balance #public\n",
        "    self._cards = cards #protected\n",
        "    self.__photo = photo #private\n",
        "  @property\n",
        "  def g_cards(self):\n",
        "    return self.__cards\n",
        "\n",
        "  @g_cards.setter\n",
        "  def g_cards(self, cards):\n",
        "    if cards >= 1:\n",
        "     self.__cards = cards\n",
        "    else:\n",
        "      print(\"no cards\")\n",
        "\n",
        "  @property\n",
        "  def g_photo(self):\n",
        "    return self.__photo\n",
        "\n",
        "  @g_photo.setter\n",
        "  def g_photo(self, photo):\n",
        "    if photo >= 1:\n",
        "     self.__photo = photo\n",
        "    else:\n",
        "      print(\"no photo\")\n",
        "\n",
        "  w = wallet(2000, 3 , 1)\n",
        "\n",
        "  print(w.balance)\n",
        "  print(w.g_cards)\n",
        "  print(w.g_photo)\n",
        "\n",
        "\n",
        "\n"
      ],
      "metadata": {
        "colab": {
          "base_uri": "https://localhost:8080/",
          "height": 373
        },
        "id": "juUQzAtJ2fIb",
        "outputId": "30825ea2-77a3-457f-cd7b-ef1e5861879b"
      },
      "execution_count": null,
      "outputs": [
        {
          "output_type": "stream",
          "name": "stdout",
          "text": [
            "2000\n"
          ]
        },
        {
          "output_type": "error",
          "ename": "AttributeError",
          "evalue": "'wallet' object has no attribute '_wallet__cards'",
          "traceback": [
            "\u001b[0;31m---------------------------------------------------------------------------\u001b[0m",
            "\u001b[0;31mAttributeError\u001b[0m                            Traceback (most recent call last)",
            "\u001b[0;32m<ipython-input-27-e9b2889f62de>\u001b[0m in \u001b[0;36m<cell line: 0>\u001b[0;34m()\u001b[0m\n\u001b[0;32m----> 1\u001b[0;31m \u001b[0;32mclass\u001b[0m \u001b[0mwallet\u001b[0m\u001b[0;34m:\u001b[0m\u001b[0;34m\u001b[0m\u001b[0;34m\u001b[0m\u001b[0m\n\u001b[0m\u001b[1;32m      2\u001b[0m   \u001b[0;32mdef\u001b[0m \u001b[0m__init__\u001b[0m\u001b[0;34m(\u001b[0m\u001b[0mself\u001b[0m\u001b[0;34m,\u001b[0m \u001b[0mbalance\u001b[0m\u001b[0;34m,\u001b[0m \u001b[0mcards\u001b[0m\u001b[0;34m,\u001b[0m \u001b[0mphoto\u001b[0m\u001b[0;34m)\u001b[0m\u001b[0;34m:\u001b[0m\u001b[0;34m\u001b[0m\u001b[0;34m\u001b[0m\u001b[0m\n\u001b[1;32m      3\u001b[0m     \u001b[0mself\u001b[0m\u001b[0;34m.\u001b[0m\u001b[0mbalance\u001b[0m \u001b[0;34m=\u001b[0m \u001b[0mbalance\u001b[0m \u001b[0;31m#public\u001b[0m\u001b[0;34m\u001b[0m\u001b[0;34m\u001b[0m\u001b[0m\n\u001b[1;32m      4\u001b[0m     \u001b[0mself\u001b[0m\u001b[0;34m.\u001b[0m\u001b[0m_cards\u001b[0m \u001b[0;34m=\u001b[0m \u001b[0mcards\u001b[0m \u001b[0;31m#protected\u001b[0m\u001b[0;34m\u001b[0m\u001b[0;34m\u001b[0m\u001b[0m\n\u001b[1;32m      5\u001b[0m     \u001b[0mself\u001b[0m\u001b[0;34m.\u001b[0m\u001b[0m__photo\u001b[0m \u001b[0;34m=\u001b[0m \u001b[0mphoto\u001b[0m \u001b[0;31m#private\u001b[0m\u001b[0;34m\u001b[0m\u001b[0;34m\u001b[0m\u001b[0m\n",
            "\u001b[0;32m<ipython-input-27-e9b2889f62de>\u001b[0m in \u001b[0;36mwallet\u001b[0;34m()\u001b[0m\n\u001b[1;32m     29\u001b[0m \u001b[0;34m\u001b[0m\u001b[0m\n\u001b[1;32m     30\u001b[0m   \u001b[0mprint\u001b[0m\u001b[0;34m(\u001b[0m\u001b[0mw\u001b[0m\u001b[0;34m.\u001b[0m\u001b[0mbalance\u001b[0m\u001b[0;34m)\u001b[0m\u001b[0;34m\u001b[0m\u001b[0;34m\u001b[0m\u001b[0m\n\u001b[0;32m---> 31\u001b[0;31m   \u001b[0mprint\u001b[0m\u001b[0;34m(\u001b[0m\u001b[0mw\u001b[0m\u001b[0;34m.\u001b[0m\u001b[0mg_cards\u001b[0m\u001b[0;34m)\u001b[0m\u001b[0;34m\u001b[0m\u001b[0;34m\u001b[0m\u001b[0m\n\u001b[0m\u001b[1;32m     32\u001b[0m   \u001b[0mprint\u001b[0m\u001b[0;34m(\u001b[0m\u001b[0mw\u001b[0m\u001b[0;34m.\u001b[0m\u001b[0mg_photo\u001b[0m\u001b[0;34m)\u001b[0m\u001b[0;34m\u001b[0m\u001b[0;34m\u001b[0m\u001b[0m\n\u001b[1;32m     33\u001b[0m \u001b[0;34m\u001b[0m\u001b[0m\n",
            "\u001b[0;32m<ipython-input-24-e9b2889f62de>\u001b[0m in \u001b[0;36mg_cards\u001b[0;34m(self)\u001b[0m\n\u001b[1;32m      6\u001b[0m   \u001b[0;34m@\u001b[0m\u001b[0mproperty\u001b[0m\u001b[0;34m\u001b[0m\u001b[0;34m\u001b[0m\u001b[0m\n\u001b[1;32m      7\u001b[0m   \u001b[0;32mdef\u001b[0m \u001b[0mg_cards\u001b[0m\u001b[0;34m(\u001b[0m\u001b[0mself\u001b[0m\u001b[0;34m)\u001b[0m\u001b[0;34m:\u001b[0m\u001b[0;34m\u001b[0m\u001b[0;34m\u001b[0m\u001b[0m\n\u001b[0;32m----> 8\u001b[0;31m     \u001b[0;32mreturn\u001b[0m \u001b[0mself\u001b[0m\u001b[0;34m.\u001b[0m\u001b[0m__cards\u001b[0m\u001b[0;34m\u001b[0m\u001b[0;34m\u001b[0m\u001b[0m\n\u001b[0m\u001b[1;32m      9\u001b[0m \u001b[0;34m\u001b[0m\u001b[0m\n\u001b[1;32m     10\u001b[0m   \u001b[0;34m@\u001b[0m\u001b[0mg_cards\u001b[0m\u001b[0;34m.\u001b[0m\u001b[0msetter\u001b[0m\u001b[0;34m\u001b[0m\u001b[0;34m\u001b[0m\u001b[0m\n",
            "\u001b[0;31mAttributeError\u001b[0m: 'wallet' object has no attribute '_wallet__cards'"
          ]
        }
      ]
    },
    {
      "cell_type": "markdown",
      "source": [
        "Getters and setters"
      ],
      "metadata": {
        "id": "R2lFAiNPrlDs"
      }
    },
    {
      "cell_type": "code",
      "source": [
        "class wallet:\n",
        "    def __init__(self, balance, cards, photo):\n",
        "        self.balance = balance  # public\n",
        "        self._cards = cards  # protected\n",
        "        self.__photo = photo  # private\n",
        "\n",
        "    @property\n",
        "    def g_cards(self):\n",
        "        return self._cards\n",
        "\n",
        "    @g_cards.setter\n",
        "    def g_cards(self, cards):\n",
        "        if cards >= 1:  # Assuming 'cards' is intended here\n",
        "            self.__cards = cards\n",
        "        else:\n",
        "            print(\"no cards\")\n",
        "\n",
        "    @property\n",
        "    def g_photo(self):\n",
        "        return self.__photo\n",
        "\n",
        "    @g_photo.setter\n",
        "    def g_photo(self, photo):\n",
        "        if photo >= 1:\n",
        "            self.__photo = photo\n",
        "        else:\n",
        "            print(\"no photo\")\n",
        "\n",
        "# Create an instance of the class outside the class definition\n",
        "w = wallet(2000, 3, 1)\n",
        "\n",
        "print(w.balance)\n",
        "print(w.g_cards)\n",
        "print(w.g_photo)"
      ],
      "metadata": {
        "colab": {
          "base_uri": "https://localhost:8080/"
        },
        "id": "vLwYFR3i6EGf",
        "outputId": "9cd2f0f6-380f-4fa3-9b2c-28816045e9ed"
      },
      "execution_count": 1,
      "outputs": [
        {
          "output_type": "stream",
          "name": "stdout",
          "text": [
            "2000\n",
            "3\n",
            "1\n"
          ]
        }
      ]
    },
    {
      "cell_type": "markdown",
      "source": [
        "Create a class Person with a private attribute name. Write a setter method to update the name"
      ],
      "metadata": {
        "id": "VcJCBYSE6tIh"
      }
    },
    {
      "cell_type": "code",
      "source": [
        "class Person:\n",
        "    def __init__(self, name):\n",
        "        self.__name = name  # Private\n",
        "\n",
        "    # Getter method\n",
        "    @property\n",
        "    def name(self):\n",
        "        return self.__name\n",
        "\n",
        "    # Setter method\n",
        "    @name.setter\n",
        "    def name(self, new_name):\n",
        "        if isinstance(new_name, str) and new_name.strip():\n",
        "            self.__name = new_name.strip()\n",
        "        else:\n",
        "            raise ValueError(\"Name must be a non-empty string\")\n",
        "\n",
        "person = Person(\"jaunty\")\n",
        "print(person.name)\n",
        "\n",
        "person.name = \"bhavya\"\n",
        "print(person.name)\n",
        "\n"
      ],
      "metadata": {
        "id": "t_-Tjpuh8Me6",
        "outputId": "41007cea-99d6-4702-cefd-9c5c2e01c31b",
        "colab": {
          "base_uri": "https://localhost:8080/"
        }
      },
      "execution_count": 6,
      "outputs": [
        {
          "output_type": "stream",
          "name": "stdout",
          "text": [
            "jaunty\n",
            "bhavya\n"
          ]
        }
      ]
    }
  ]
}