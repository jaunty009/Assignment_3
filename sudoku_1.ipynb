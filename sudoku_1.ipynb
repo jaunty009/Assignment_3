{
  "nbformat": 4,
  "nbformat_minor": 0,
  "metadata": {
    "colab": {
      "provenance": [],
      "authorship_tag": "ABX9TyPmNeWXDLjBRcprB+ijsRRP",
      "include_colab_link": true
    },
    "kernelspec": {
      "name": "python3",
      "display_name": "Python 3"
    },
    "language_info": {
      "name": "python"
    }
  },
  "cells": [
    {
      "cell_type": "markdown",
      "metadata": {
        "id": "view-in-github",
        "colab_type": "text"
      },
      "source": [
        "<a href=\"https://colab.research.google.com/github/jaunty009/Assignment_3/blob/main/sudoku_1.ipynb\" target=\"_parent\"><img src=\"https://colab.research.google.com/assets/colab-badge.svg\" alt=\"Open In Colab\"/></a>"
      ]
    },
    {
      "cell_type": "code",
      "execution_count": null,
      "metadata": {
        "colab": {
          "base_uri": "https://localhost:8080/"
        },
        "id": "ZyLiEm2bLZ-d",
        "outputId": "ca5efc45-543f-4ced-bea2-a6423d1caaba"
      },
      "outputs": [
        {
          "output_type": "stream",
          "name": "stdout",
          "text": [
            "solve\n",
            "1 3 2 4\n",
            "2 4 1 3\n",
            "3 1 4 2\n",
            "4 2 3 1\n"
          ]
        }
      ],
      "source": [
        "\n",
        "sudoko = [\n",
        "    [1,0,0,4],\n",
        "    [2,0,0,3],\n",
        "    [0,1,4,0],\n",
        "    [4,0,0,1]\n",
        "]\n",
        "\n",
        "\n",
        "def is_valid(board, row, col, num):\n",
        "    for i in range(4):\n",
        "        if board[row][i] == num or board[i][col] == num:\n",
        "            return False\n",
        "    start_row, start_col = 2 * (row // 2), 2 * (col // 2)\n",
        "    for i in range(start_row, start_row+2):\n",
        "        for j in range(start_col, start_col+2):\n",
        "            if board[i][j] == num:\n",
        "                return False\n",
        "    return True\n",
        "\n",
        "\n",
        "def solve_sudoko(board):\n",
        "    for row in range(0,4):\n",
        "        for col in range(0,4):\n",
        "            if board[row][col] == 0:\n",
        "                for num in range(1,5):\n",
        "                    if is_valid(board, row, col, num) == True:\n",
        "                        board[row][col] = num\n",
        "                        if solve_sudoko(board):\n",
        "                            return True\n",
        "                    else:\n",
        "                        board[row][col] = 0\n",
        "                return False\n",
        "    return True\n",
        "def print_board(board):\n",
        "    for row in board:\n",
        "        print(\" \".join(str(num) for num in row))\n",
        "\n",
        "if solve_sudoko(sudoko) == True:\n",
        "    print(\"solve\")\n",
        "    print_board(sudoko)\n",
        "else:\n",
        "    print(\"Not solve\")"
      ]
    },
    {
      "cell_type": "code",
      "source": [
        "sudoko = [\n",
        "    [1,0,0,4],\n",
        "    [0,0,3,0],\n",
        "    [0,3,0,0],\n",
        "    [4,0,0,2]\n",
        "]\n",
        "#      0 1 2 3 ->index_value\n",
        "# 0 -> 1 0 0 4    -> sudoko[0][0] = 1, sudoko[0][1] = 0, sudoko[0][2] = 0, sudoko[0][3] = 4\n",
        "# 1 -> 2 0 3 0    -> sudoko[1][0] = 0, sudoko[1][1] = 0, sudoko[1][2] = 3, sudoko[1][3] = 0\n",
        "# 2 -> 0 3 0 0\n",
        "# 3 -> 4 0 0 2\n",
        "\n",
        "def is_valid(board, row, col, num):\n",
        "    for i in range(4):\n",
        "        if board[row][i] == num or board[i][col] == num:\n",
        "            return False\n",
        "    start_row, start_col = 2 *(row // 2), 2*(col // 2)\n",
        "    for i in range(start_row, start_row+2):\n",
        "        for j in range(start_col, start_col+2):\n",
        "            if board[i][j] == num:\n",
        "                return False\n",
        "    return True\n",
        "\n",
        "\n",
        "def solve_sudoko(board):\n",
        "    for row in range(0,4):\n",
        "        for col in range(0,4):\n",
        "            if board[row][col] == 0:\n",
        "                for num in range(1,5):\n",
        "                    if is_valid(board, row, col, num) == True:\n",
        "                        board[row][col] = num\n",
        "                        if solve_sudoko(board):\n",
        "                            return True\n",
        "                    else:\n",
        "                        board[row][col] = 0\n",
        "                return False\n",
        "    return True\n",
        "def print_board(board):\n",
        "    for row in board:\n",
        "        print(\" \".join(str(num) for num in row))\n",
        "\n",
        "if solve_sudoko(sudoko) == True:\n",
        "    print(\"solve\")\n",
        "    print_board(sudoko)\n",
        "else:\n",
        "    print(\"Not solve\")"
      ],
      "metadata": {
        "colab": {
          "base_uri": "https://localhost:8080/"
        },
        "id": "Nzw3z5PLL9VK",
        "outputId": "418488e8-ec71-4dfa-df45-e400410c247a"
      },
      "execution_count": null,
      "outputs": [
        {
          "output_type": "stream",
          "name": "stdout",
          "text": [
            "Not solve\n"
          ]
        }
      ]
    },
    {
      "cell_type": "code",
      "source": [
        "sudoko = [\n",
        "    [1,0,0,4],\n",
        "    [0,0,3,0],\n",
        "    [0,3,0,0],\n",
        "    [4,0,0,2]\n",
        "]\n",
        "\n",
        "def is_valid(board, row, col, num):\n",
        "    for i in range(4):\n",
        "        if board[row][i] == num or board[i][col] == num:\n",
        "            return False\n",
        "    start_row, start_col = 2 * (row // 2), 2 * (col // 2)\n",
        "    for i in range(start_row, start_row + 2):\n",
        "        for j in range(start_col, start_col + 2):\n",
        "            if board[i][j] == num:\n",
        "                return False\n",
        "    return True\n",
        "\n",
        "def solve_sudoko(board):\n",
        "    for row in range(4):\n",
        "        for col in range(4):\n",
        "            if board[row][col] == 0:\n",
        "                for num in range(1, 5):\n",
        "                    if is_valid(board, row, col, num):\n",
        "                        board[row][col] = num\n",
        "                        if solve_sudoko(board):\n",
        "                            return True\n",
        "                        board[row][col] = 0\n",
        "                return False\n",
        "    return True\n",
        "\n",
        "def print_board(board):\n",
        "    for row in board:\n",
        "        print(\" \".join(str(num) for num in row))  # Fixed the syntax error here\n",
        "\n",
        "if solve_sudoko(sudoko):\n",
        "    print(\"Solved\")\n",
        "    print_board(sudoko)\n",
        "else:\n",
        "    print(\"Not solved\")"
      ],
      "metadata": {
        "colab": {
          "base_uri": "https://localhost:8080/"
        },
        "id": "ziBK9XtfMnCf",
        "outputId": "7b59cb28-5d13-4643-a4e7-66a70adff32c"
      },
      "execution_count": null,
      "outputs": [
        {
          "output_type": "stream",
          "name": "stdout",
          "text": [
            "Not solved\n"
          ]
        }
      ]
    },
    {
      "cell_type": "code",
      "source": [
        "sudoko = [\n",
        "    [1,0,0,4],\n",
        "    [2,0,0,3],\n",
        "    [0,1,4,0],\n",
        "    [4,0,0,1]\n",
        "]\n",
        "\n",
        "def is_valid(board, row, col, num):\n",
        "    # Check row and column\n",
        "    for i in range(4):\n",
        "        if board[row][i] == num or board[i][col] == num:\n",
        "            return False\n",
        "    # Check 2x2 subgrid\n",
        "    start_row, start_col = 2 * (row // 2), 2 * (col // 2)\n",
        "    for i in range(start_row, start_row + 2):\n",
        "        for j in range(start_col, start_col + 2):\n",
        "            if board[i][j] == num:\n",
        "                return False\n",
        "    return True\n",
        "\n",
        "def solve_sudoko(board):\n",
        "    for row in range(4):\n",
        "        for col in range(4):\n",
        "            if board[row][col] == 0:  # If cell is empty\n",
        "                for num in range(1, 5):  # Try numbers 1-4\n",
        "                    if is_valid(board, row, col, num):\n",
        "                        board[row][col] = num  # Place the number\n",
        "                        if solve_sudoko(board):  # Recursively solve\n",
        "                            return True\n",
        "                        board[row][col] = 0  # Backtrack if no solution\n",
        "                return False  # No valid number found\n",
        "    return True  # Puzzle solved\n",
        "\n",
        "def print_board(board):\n",
        "    for row in board:\n",
        "        print(\" \".join(str(num) for num in row))\n",
        "\n",
        "if solve_sudoko(sudoko):\n",
        "    print(\"Solved\")\n",
        "    print_board(sudoko)\n",
        "else:\n",
        "    print(\"Not solved\")"
      ],
      "metadata": {
        "colab": {
          "base_uri": "https://localhost:8080/"
        },
        "id": "m2mICDqcNGff",
        "outputId": "1b015eff-470d-49c5-9c47-de488449f46c"
      },
      "execution_count": null,
      "outputs": [
        {
          "output_type": "stream",
          "name": "stdout",
          "text": [
            "Solved\n",
            "1 3 2 4\n",
            "2 4 1 3\n",
            "3 1 4 2\n",
            "4 2 3 1\n"
          ]
        }
      ]
    },
    {
      "cell_type": "code",
      "source": [],
      "metadata": {
        "id": "3IGb5VzOCV2T"
      },
      "execution_count": null,
      "outputs": []
    }
  ]
}