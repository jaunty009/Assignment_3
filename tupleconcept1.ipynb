{
  "nbformat": 4,
  "nbformat_minor": 0,
  "metadata": {
    "colab": {
      "provenance": [],
      "authorship_tag": "ABX9TyNSamdYCJZOs1AzsfZPnixf",
      "include_colab_link": true
    },
    "kernelspec": {
      "name": "python3",
      "display_name": "Python 3"
    },
    "language_info": {
      "name": "python"
    }
  },
  "cells": [
    {
      "cell_type": "markdown",
      "metadata": {
        "id": "view-in-github",
        "colab_type": "text"
      },
      "source": [
        "<a href=\"https://colab.research.google.com/github/jaunty009/Assignment_3/blob/main/tupleconcept1.ipynb\" target=\"_parent\"><img src=\"https://colab.research.google.com/assets/colab-badge.svg\" alt=\"Open In Colab\"/></a>"
      ]
    },
    {
      "cell_type": "markdown",
      "source": [
        "🧠 1. Tuple Concatenation\n",
        "Q: Given two tuples a = (1, 2, 3) and b = (4, 5), combine them into one tuple."
      ],
      "metadata": {
        "id": "vzwNbe9diJbZ"
      }
    },
    {
      "cell_type": "code",
      "execution_count": null,
      "metadata": {
        "colab": {
          "base_uri": "https://localhost:8080/"
        },
        "id": "ytghOL4AiCV2",
        "outputId": "e617458a-190c-4e2c-9df3-dd66a14e39d7"
      },
      "outputs": [
        {
          "output_type": "stream",
          "name": "stdout",
          "text": [
            "(1, 2, 3, 4, 5)\n"
          ]
        }
      ],
      "source": [
        "a = (1, 2, 3)\n",
        "b = (4, 5)\n",
        "combined_tuple = tuple(a+b)\n",
        "print(combined_tuple)"
      ]
    },
    {
      "cell_type": "markdown",
      "source": [
        "🔁 2. Repeating Elements\n",
        "Q: Given a tuple a = (10, 20), repeat the elements 3 times."
      ],
      "metadata": {
        "id": "UyUkWFNFmz-N"
      }
    },
    {
      "cell_type": "code",
      "source": [
        "a = (10, 20)\n",
        "repeated_tuple = a*3\n",
        "print(repeated_tuple)"
      ],
      "metadata": {
        "colab": {
          "base_uri": "https://localhost:8080/"
        },
        "id": "NVKobphwm3Tn",
        "outputId": "033cd699-74b9-426f-f53d-f637f0cf0768"
      },
      "execution_count": null,
      "outputs": [
        {
          "output_type": "stream",
          "name": "stdout",
          "text": [
            "(10, 20, 10, 20, 10, 20)\n"
          ]
        }
      ]
    },
    {
      "cell_type": "markdown",
      "source": [
        "🔢 3. Slicing a Tuple\n",
        "Q: Given t = (5, 10, 15, 20, 25), get a sub-tuple from index 1 to 3 (inclusive of 1, exclusive of 4).\n"
      ],
      "metadata": {
        "id": "8SXn_DWmnCUw"
      }
    },
    {
      "cell_type": "code",
      "source": [
        "t = (5, 10, 15, 20, 25)\n",
        "sub_tuple = t[1:3]\n",
        "print(sub_tuple)"
      ],
      "metadata": {
        "colab": {
          "base_uri": "https://localhost:8080/"
        },
        "id": "ND3Y6YEpnGx2",
        "outputId": "cd6fc7ec-6ed4-4ecb-d6a7-fc20cd11709c"
      },
      "execution_count": null,
      "outputs": [
        {
          "output_type": "stream",
          "name": "stdout",
          "text": [
            "(10, 15)\n"
          ]
        }
      ]
    },
    {
      "cell_type": "markdown",
      "source": [
        "🎯 4. Find Maximum and Minimum\n",
        "Q: Given nums = (3, 7, 1, 9, 4), find the maximum and minimum values."
      ],
      "metadata": {
        "id": "o8WCVTACok5o"
      }
    },
    {
      "cell_type": "code",
      "source": [
        "t = (3, 7, 1, 9, 4)\n",
        "max_value = max(t)\n",
        "print(max_value)\n",
        "min_value = min(t)\n",
        "print(min_value)"
      ],
      "metadata": {
        "colab": {
          "base_uri": "https://localhost:8080/"
        },
        "id": "EhlKNPPAotYw",
        "outputId": "9fd6b480-7f5e-4d81-df87-6cc0dab8e602"
      },
      "execution_count": null,
      "outputs": [
        {
          "output_type": "stream",
          "name": "stdout",
          "text": [
            "9\n",
            "1\n"
          ]
        }
      ]
    },
    {
      "cell_type": "markdown",
      "source": [
        "🔍 5. Search for an Element\n",
        "Q: Check if the number 7 exists in the tuple nums."
      ],
      "metadata": {
        "id": "qPgZTcJ-pN63"
      }
    },
    {
      "cell_type": "code",
      "source": [
        "t = (1, 3, 5, 7)\n",
        "if 7 in t:\n",
        "    print(\"7 is in the tuple\")\n",
        "else:\n",
        "    print(\"7 is not in the tuple\")"
      ],
      "metadata": {
        "colab": {
          "base_uri": "https://localhost:8080/"
        },
        "id": "1Ib3eJ2JpRWr",
        "outputId": "3ef231cd-d7de-4bba-dc46-7b7219f32d3a"
      },
      "execution_count": null,
      "outputs": [
        {
          "output_type": "stream",
          "name": "stdout",
          "text": [
            "7 is in the tuple\n"
          ]
        }
      ]
    },
    {
      "cell_type": "markdown",
      "source": [
        "🔄 6. Swap Tuples\n",
        "Q: Given a = (1, 2) and b = (3, 4), swap their values."
      ],
      "metadata": {
        "id": "YMEn1p-7pqWc"
      }
    },
    {
      "cell_type": "code",
      "source": [
        "a = (1, 2)\n",
        "b = (3, 4)\n",
        "a, b = b, a\n",
        "print('a', ':', a)\n",
        "print('b', ':', b)"
      ],
      "metadata": {
        "colab": {
          "base_uri": "https://localhost:8080/"
        },
        "id": "zBQKerCBpw3g",
        "outputId": "93ab24e3-019a-4fc5-daa0-76f95049bcdd"
      },
      "execution_count": null,
      "outputs": [
        {
          "output_type": "stream",
          "name": "stdout",
          "text": [
            "a : (3, 4)\n",
            "b : (1, 2)\n"
          ]
        }
      ]
    },
    {
      "cell_type": "markdown",
      "source": [
        "🔁 7. Convert List to Tuple\n",
        "Q: Convert the list l = [10, 20, 30] to a tuple."
      ],
      "metadata": {
        "id": "BtVtEbErq2sg"
      }
    },
    {
      "cell_type": "code",
      "source": [
        "l = [10, 20, 30]\n",
        "t = tuple(l)\n",
        "print(t)"
      ],
      "metadata": {
        "colab": {
          "base_uri": "https://localhost:8080/"
        },
        "id": "3CCrSR-Xq4Ey",
        "outputId": "71b2fd46-e693-40ea-d437-edd03558496d"
      },
      "execution_count": null,
      "outputs": [
        {
          "output_type": "stream",
          "name": "stdout",
          "text": [
            "(10, 20, 30)\n"
          ]
        }
      ]
    },
    {
      "cell_type": "markdown",
      "source": [
        "📦 8. Unpack a Tuple\n",
        "Q: Unpack the tuple t = (1, 2, 3) into variables a, b, and c."
      ],
      "metadata": {
        "id": "Vm9pFwkxrBjg"
      }
    },
    {
      "cell_type": "code",
      "source": [
        "t = (1, 2, 3)\n",
        "a, b, c = t\n",
        "print('a', '=', a)\n",
        "print('b', '=', b)\n",
        "print('c', '=', c)"
      ],
      "metadata": {
        "colab": {
          "base_uri": "https://localhost:8080/"
        },
        "id": "SYmM90R7rDut",
        "outputId": "155c6f48-98d4-4475-f1f0-a34091e08a15"
      },
      "execution_count": null,
      "outputs": [
        {
          "output_type": "stream",
          "name": "stdout",
          "text": [
            "a = 1\n",
            "b = 2\n",
            "c = 3\n"
          ]
        }
      ]
    },
    {
      "cell_type": "markdown",
      "source": [
        "\n",
        "🔀 9. Sort Elements in a Tuple\n",
        "Q: Sort the tuple t = (5, 2, 8, 1) in ascending order."
      ],
      "metadata": {
        "id": "xxKPYNzKrlFj"
      }
    },
    {
      "cell_type": "code",
      "source": [
        "t = (5, 2, 8, 1)\n",
        "sorted_tuple = tuple(sorted(t))\n",
        "print(sorted_tuple)"
      ],
      "metadata": {
        "colab": {
          "base_uri": "https://localhost:8080/"
        },
        "id": "oSLsGHuWrsIC",
        "outputId": "ddfbc610-2d3b-44e3-a088-784e8a68a924"
      },
      "execution_count": null,
      "outputs": [
        {
          "output_type": "stream",
          "name": "stdout",
          "text": [
            "(1, 2, 5, 8)\n"
          ]
        }
      ]
    },
    {
      "cell_type": "markdown",
      "source": [
        "🧮 10. Tuple with Mixed Data Types\n",
        "Q: Create a tuple with different data types: an integer, a string, a float, and a boolean."
      ],
      "metadata": {
        "id": "2Gge2xFtr2-6"
      }
    },
    {
      "cell_type": "code",
      "source": [
        "t = (1, \"jagan\", 5.4, \"yes\")\n",
        "for mixed_tuple in t:\n",
        "    print(mixed_tuple)"
      ],
      "metadata": {
        "colab": {
          "base_uri": "https://localhost:8080/"
        },
        "id": "1q99aUPyr2ob",
        "outputId": "f11f652a-2929-49a1-fbb6-70786ef9aba2"
      },
      "execution_count": null,
      "outputs": [
        {
          "output_type": "stream",
          "name": "stdout",
          "text": [
            "1\n",
            "jagan\n",
            "5.4\n",
            "yes\n"
          ]
        }
      ]
    }
  ]
}