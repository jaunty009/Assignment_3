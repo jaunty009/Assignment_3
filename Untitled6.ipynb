{
  "nbformat": 4,
  "nbformat_minor": 0,
  "metadata": {
    "colab": {
      "provenance": [],
      "authorship_tag": "ABX9TyOWjjy+087O/39Bc6afjTdd",
      "include_colab_link": true
    },
    "kernelspec": {
      "name": "python3",
      "display_name": "Python 3"
    },
    "language_info": {
      "name": "python"
    }
  },
  "cells": [
    {
      "cell_type": "markdown",
      "metadata": {
        "id": "view-in-github",
        "colab_type": "text"
      },
      "source": [
        "<a href=\"https://colab.research.google.com/github/jaunty009/Assignment_3/blob/main/Untitled6.ipynb\" target=\"_parent\"><img src=\"https://colab.research.google.com/assets/colab-badge.svg\" alt=\"Open In Colab\"/></a>"
      ]
    },
    {
      "cell_type": "markdown",
      "source": [
        "Write an if statement that prints \"Positive number\" if a variable x is greater than 0"
      ],
      "metadata": {
        "id": "az2EVcLTtkXO"
      }
    },
    {
      "cell_type": "code",
      "execution_count": null,
      "metadata": {
        "colab": {
          "base_uri": "https://localhost:8080/"
        },
        "id": "uPlGZYx4tid3",
        "outputId": "b408208e-d5e6-4ac1-9f32-7d230d93be72"
      },
      "outputs": [
        {
          "output_type": "stream",
          "name": "stdout",
          "text": [
            "Enter a number: -27\n",
            "negative number\n"
          ]
        }
      ],
      "source": [
        "a = float(input(\"Enter a number: \"))\n",
        "if a > 0:\n",
        "  print(\"positive number\")\n",
        "elif a < 0: # basically we dont need to use this step. but this is for my understanding purpose\n",
        "    print(\"negative number\")\n",
        "else:\n",
        "    print(\"zero\")"
      ]
    },
    {
      "cell_type": "markdown",
      "source": [
        "Even or Odd"
      ],
      "metadata": {
        "id": "YXWCfs3ovfS_"
      }
    },
    {
      "cell_type": "code",
      "source": [
        "a = int(input(\"Enter a number: \"))\n",
        "if a % 2 == 0:\n",
        "  print(\"Even number\")\n",
        "else:\n",
        " if a % 2 != 0:\n",
        "   print(\"Odd number\")"
      ],
      "metadata": {
        "colab": {
          "base_uri": "https://localhost:8080/"
        },
        "id": "X9G5eo80vEme",
        "outputId": "01153527-e7d9-4f74-ee09-17782ce88507"
      },
      "execution_count": null,
      "outputs": [
        {
          "output_type": "stream",
          "name": "stdout",
          "text": [
            "Enter a number: -24\n",
            "Even number\n"
          ]
        }
      ]
    },
    {
      "cell_type": "markdown",
      "source": [
        "Simple String Match"
      ],
      "metadata": {
        "id": "BVX225iEwmka"
      }
    },
    {
      "cell_type": "code",
      "source": [
        "a = int(input(\"Enter a string: \"))\n",
        "if a == (\"\"):\n",
        "  print(\"please fill the manidatory field\")\n",
        "else:\n",
        "  print(\"Hello\"  , a)"
      ],
      "metadata": {
        "colab": {
          "base_uri": "https://localhost:8080/"
        },
        "id": "eX98_SLhwne0",
        "outputId": "445fee14-26aa-4a7d-ffa4-d8783e491508"
      },
      "execution_count": null,
      "outputs": [
        {
          "output_type": "stream",
          "name": "stdout",
          "text": [
            "Enter a string: 24\n",
            "Hello 24\n"
          ]
        }
      ]
    },
    {
      "cell_type": "markdown",
      "source": [
        "Greater Number"
      ],
      "metadata": {
        "id": "1SGXUEey7sUH"
      }
    },
    {
      "cell_type": "code",
      "source": [
        "a = int(input(\"Enter a number: \"))\n",
        "b = int(input(\"Enter a number: \"))\n",
        "if a > b:\n",
        "  print(a, \"is great\")\n",
        "else:\n",
        "  if b > a:\n",
        "   print(b, \"is great\")"
      ],
      "metadata": {
        "colab": {
          "base_uri": "https://localhost:8080/"
        },
        "id": "JGM7ORd-7mpT",
        "outputId": "4ac251d3-2c8f-4e59-da31-f1e3463efabb"
      },
      "execution_count": null,
      "outputs": [
        {
          "output_type": "stream",
          "name": "stdout",
          "text": [
            "Enter a number: 6\n",
            "Enter a number: 26\n",
            "26 is great\n"
          ]
        }
      ]
    },
    {
      "cell_type": "markdown",
      "source": [
        "If-Elif-Else Ladder\n",
        "Below 0: \"Freezing\"\n",
        "\n",
        "0–20: \"Cold\"\n",
        "\n",
        "21–30: \"Warm\"\n",
        "\n",
        "Above 30: \"Hot\""
      ],
      "metadata": {
        "id": "ff3CMlxw8WaJ"
      }
    },
    {
      "cell_type": "code",
      "source": [
        "a = float(input(\"Enter a number: \"))\n",
        "if 0 <= a <= 20:\n",
        "  print(\"Cold\")\n",
        "elif 21 <= a <= 30:\n",
        "  print(\"Warm\")\n",
        "else:\n",
        "   if a > 30:\n",
        "    print(\"Hot\")\n",
        "\n"
      ],
      "metadata": {
        "colab": {
          "base_uri": "https://localhost:8080/"
        },
        "id": "DkXFku9O8YyO",
        "outputId": "9c39ce6c-2ed5-47fa-f428-b55ef65837d7"
      },
      "execution_count": null,
      "outputs": [
        {
          "output_type": "stream",
          "name": "stdout",
          "text": [
            "Enter a number: 21\n",
            "Warm\n"
          ]
        }
      ]
    },
    {
      "cell_type": "markdown",
      "source": [
        "Pass or Fail\n",
        "Ask the user to input their test score. If it’s 50 or higher, print \"Pass\", else \"Fail\""
      ],
      "metadata": {
        "id": "vuQmCJAl--aL"
      }
    },
    {
      "cell_type": "code",
      "source": [
        "a = float(input(\"Enter a number: \"))\n",
        "if a >= 50:\n",
        "  print(\"Pass\")\n",
        "else:            #if a < 50:\n",
        "   print(\"Fail\")"
      ],
      "metadata": {
        "colab": {
          "base_uri": "https://localhost:8080/"
        },
        "id": "FvJtY_dH_ZTX",
        "outputId": "2af6e128-cc79-40c9-bac8-9ec1fc51a01a"
      },
      "execution_count": null,
      "outputs": [
        {
          "output_type": "stream",
          "name": "stdout",
          "text": [
            "Enter a number: 50\n",
            "Pass\n"
          ]
        }
      ]
    },
    {
      "cell_type": "markdown",
      "source": [
        "String Contains Check\n",
        "Check if the string \"python\" is found inside a user's input sentence"
      ],
      "metadata": {
        "id": "TvzggiuY_q48"
      }
    },
    {
      "cell_type": "code",
      "source": [
        "a = input(\"Enter a string: \")\n",
        "b = \"python\"\n",
        "print(a.find(b))\n",
        "if a.find(b) >= 0:\n",
        "  print(\"found\")\n",
        "else:\n",
        "  print(\"not found\")"
      ],
      "metadata": {
        "colab": {
          "base_uri": "https://localhost:8080/"
        },
        "id": "5S8NmDj7_3cP",
        "outputId": "2f5eb7fc-e00c-4bb1-82ab-5517bfcb5693"
      },
      "execution_count": null,
      "outputs": [
        {
          "output_type": "stream",
          "name": "stdout",
          "text": [
            "Enter a string: we are in class\n",
            "-1\n",
            "not found\n"
          ]
        }
      ]
    },
    {
      "cell_type": "markdown",
      "source": [
        "Multiple Conditions with and\n",
        "Ask for age and citizenship status. If the user is over 18 and a citizen, print \"Eligible to vote\".\n"
      ],
      "metadata": {
        "id": "6GGmCfWq2Seb"
      }
    },
    {
      "cell_type": "code",
      "source": [
        "a = int(input(\"Enter your age: \"))\n",
        "b = input(\"Enter your citizenship status: \")\n",
        "if a > 18 and b == \"permanent\":\n",
        "  print(\"Eligible to vote\")\n",
        "else:\n",
        "  print(\"Not eligible to vote\")\n",
        "\n",
        "\n"
      ],
      "metadata": {
        "colab": {
          "base_uri": "https://localhost:8080/"
        },
        "id": "fdJ0HOTI2PS-",
        "outputId": "3485f856-6538-48a9-ab49-2c6aada7f644"
      },
      "execution_count": null,
      "outputs": [
        {
          "output_type": "stream",
          "name": "stdout",
          "text": [
            "Enter your age: 24\n",
            "Enter your citizenship status: permanent citizen\n",
            "Not eligible to vote\n"
          ]
        }
      ]
    },
    {
      "cell_type": "markdown",
      "source": [
        "Multiple Conditions with or\n",
        "Ask for a user's age. If they are younger than 13 or older than 65, print \"Discount eligible\".\n"
      ],
      "metadata": {
        "id": "3gwiTVxR5aOW"
      }
    },
    {
      "cell_type": "code",
      "source": [
        "a = int(input(\"Enter your age: \"))\n",
        "if a <= 13 or a >= 65:\n",
        "  print(\"eligible for discount\")\n",
        "else:\n",
        "  print(\"Not eligible for discount\")"
      ],
      "metadata": {
        "colab": {
          "base_uri": "https://localhost:8080/"
        },
        "id": "lt1y07rF5eLm",
        "outputId": "caa9999d-51e0-4963-ad87-cc8cb7b0036c"
      },
      "execution_count": null,
      "outputs": [
        {
          "output_type": "stream",
          "name": "stdout",
          "text": [
            "Enter your age: 65\n",
            "eligible for discount\n"
          ]
        }
      ]
    },
    {
      "cell_type": "markdown",
      "source": [
        "Nested If\n",
        "Check if a number is positive. If it is, check if it is also even.\n"
      ],
      "metadata": {
        "id": "TuRRY9l47PKW"
      }
    },
    {
      "cell_type": "code",
      "source": [
        "a = int(input(\"Enter a number: \"))\n",
        "if a > 0:\n",
        "  if a % 2 == 0:\n",
        "    print(\"even\")\n",
        "  else:\n",
        "    print(\"odd\")\n",
        "else:\n",
        "  print(\"negative\")\n"
      ],
      "metadata": {
        "colab": {
          "base_uri": "https://localhost:8080/"
        },
        "id": "Q3xH8PLj7RC4",
        "outputId": "3884d821-760c-4417-cfcc-aaffd957a048"
      },
      "execution_count": null,
      "outputs": [
        {
          "output_type": "stream",
          "name": "stdout",
          "text": [
            "Enter a number: -23\n",
            "negative\n"
          ]
        }
      ]
    },
    {
      "cell_type": "markdown",
      "source": [
        "Empty List Check\n",
        "If a list is empty, print \"List is empty\"; otherwise, print the number of items\n"
      ],
      "metadata": {
        "id": "T4FDJtOv8UBR"
      }
    },
    {
      "cell_type": "code",
      "source": [
        "a = input(\"Enter a number: \")\n",
        "if len(a) == 0:\n",
        "  print(\"list is empty\")\n",
        "else:\n",
        "  print(len(a))\n"
      ],
      "metadata": {
        "colab": {
          "base_uri": "https://localhost:8080/"
        },
        "id": "hhXJ4Pea8bEF",
        "outputId": "ee2025a1-676b-4ab2-805c-c04e0489fc02"
      },
      "execution_count": null,
      "outputs": [
        {
          "output_type": "stream",
          "name": "stdout",
          "text": [
            "Enter a number: \n",
            "list is empty\n"
          ]
        }
      ]
    },
    {
      "cell_type": "markdown",
      "source": [
        "Truthy Values\n",
        "Use if to check if a string variable is not empty, and print its value\n"
      ],
      "metadata": {
        "id": "FXWrvZFM9eDG"
      }
    },
    {
      "cell_type": "code",
      "source": [
        "a = input(\"Enter a string: \")\n",
        "if a != \"\":\n",
        "  print(a)\n",
        "else:\n",
        "  print(\"empty\")"
      ],
      "metadata": {
        "colab": {
          "base_uri": "https://localhost:8080/"
        },
        "id": "lmmevKrM9kXD",
        "outputId": "794deafc-f349-4c9c-ff85-7683f4cfa382"
      },
      "execution_count": null,
      "outputs": [
        {
          "output_type": "stream",
          "name": "stdout",
          "text": [
            "Enter a string: 24\n",
            "24\n"
          ]
        }
      ]
    },
    {
      "cell_type": "markdown",
      "source": [
        "\n",
        "Use if expression to assign \"Adult\" or \"Minor\" based on a user's age\n"
      ],
      "metadata": {
        "id": "Pbfk-mte-QzL"
      }
    },
    {
      "cell_type": "code",
      "source": [
        "a = int(input(\"Enter your age: \"))\n",
        "if a >= 18:\n",
        "  print(\"Major\")\n",
        "else:\n",
        "  print(\"Minor\")\n",
        "# Need to take explanation on terinary operator.\n"
      ],
      "metadata": {
        "colab": {
          "base_uri": "https://localhost:8080/"
        },
        "id": "RTuUCu6E-QRr",
        "outputId": "21c705a6-d93f-455e-f6d4-c304b85a19ed"
      },
      "execution_count": null,
      "outputs": [
        {
          "output_type": "stream",
          "name": "stdout",
          "text": [
            "Enter your age: 24\n",
            "Major\n"
          ]
        }
      ]
    },
    {
      "cell_type": "markdown",
      "source": [
        "Divisibility Check\n",
        "Ask for a number and print:\n",
        "\n",
        "\"Divisible by both 3 and 5\"\n",
        "\n",
        "\"Divisible by 3\"\n",
        "\n",
        "\"Divisible by 5\"\n",
        "\n",
        "Or \"Not divisible by 3 or 5\"\n",
        "\n",
        "\n"
      ],
      "metadata": {
        "id": "ZSGzLwId_PV9"
      }
    },
    {
      "cell_type": "code",
      "source": [
        "a = int(input(\"Enter a number: \"))\n",
        "if a % 3 == 0 and a % 5 == 0:\n",
        "  print(\"Divisible by both 3 and 5\")\n",
        "elif a % 3 == 0:\n",
        "  print(\"Divisible by 3\")\n",
        "elif a % 5 == 0:\n",
        "  print(\"Divisible by 5\")\n",
        "else:\n",
        "  print(\"Not divisible by 3 or 5\")"
      ],
      "metadata": {
        "colab": {
          "base_uri": "https://localhost:8080/"
        },
        "id": "jUDvPRQ2_34Y",
        "outputId": "2f7db34e-3c5c-497a-f854-ada2163ba6c2"
      },
      "execution_count": null,
      "outputs": [
        {
          "output_type": "stream",
          "name": "stdout",
          "text": [
            "Enter a number: 27\n",
            "Divisible by 3\n"
          ]
        }
      ]
    },
    {
      "cell_type": "markdown",
      "source": [
        "Grade Classification\n",
        "Ask for a numeric grade and use if-elif-else to classify it:\n",
        "\n",
        "90–100: A\n",
        "\n",
        "80–89: B\n",
        "\n",
        "70–79: C\n",
        "\n",
        "60–69: D\n",
        "\n",
        "Below 60: F\n"
      ],
      "metadata": {
        "id": "ekbxhxvoA4KM"
      }
    },
    {
      "cell_type": "code",
      "source": [
        "a = int(input(\"Enter a number: \"))\n",
        "if 90 <= a <= 100:\n",
        "  print(\"A\")\n",
        "elif 80 <= a <= 89:\n",
        "  print(\"B\")\n",
        "elif 70 <= a <= 79:\n",
        "  print(\"C\")\n",
        "elif 60 <= a <= 69:\n",
        "  print(\"D\")\n",
        "elif a < 65 :\n",
        "  print(\"F\")\n",
        "else:\n",
        "  print(\"Invalid input\")\n"
      ],
      "metadata": {
        "colab": {
          "base_uri": "https://localhost:8080/"
        },
        "id": "LGLXGwizBNJZ",
        "outputId": "cd4bf505-5947-4855-8108-5c56bbeb1034"
      },
      "execution_count": null,
      "outputs": [
        {
          "output_type": "stream",
          "name": "stdout",
          "text": [
            "Enter a number: 102\n",
            "Invalid input\n"
          ]
        }
      ]
    },
    {
      "cell_type": "markdown",
      "source": [
        "**FOR loop **"
      ],
      "metadata": {
        "id": "NY2BRaTbCUru"
      }
    },
    {
      "cell_type": "markdown",
      "source": [
        "Print Numbers from 1 to 10\n",
        "Use a for loop to print numbers from 1 to 10."
      ],
      "metadata": {
        "id": "AJOZzT0WChuU"
      }
    },
    {
      "cell_type": "code",
      "source": [
        "a = (1,2,3,4,5,6,7,8,9,10)\n",
        "for i in range(1, 11):\n",
        "  print(i)\n"
      ],
      "metadata": {
        "colab": {
          "base_uri": "https://localhost:8080/"
        },
        "id": "Oja3lkCbCn5C",
        "outputId": "ce6e74a6-b360-4eba-ee86-a32cfa727a17"
      },
      "execution_count": null,
      "outputs": [
        {
          "output_type": "stream",
          "name": "stdout",
          "text": [
            "1\n",
            "2\n",
            "3\n",
            "4\n",
            "5\n",
            "6\n",
            "7\n",
            "8\n",
            "9\n",
            "10\n"
          ]
        }
      ]
    },
    {
      "cell_type": "markdown",
      "source": [
        "Iterate Through a List\n",
        "Given a list fruits = [\"apple\", \"banana\", \"cherry\"], use a for loop to print each fruit.\n",
        "\n"
      ],
      "metadata": {
        "id": "M2JVJ8HADqNW"
      }
    },
    {
      "cell_type": "code",
      "source": [
        "a = [\"apple\", \"banana\", \"cherry\"]\n",
        "for fruits in a:\n",
        "  print(fruits)"
      ],
      "metadata": {
        "colab": {
          "base_uri": "https://localhost:8080/"
        },
        "id": "9vZbmxUnDvXW",
        "outputId": "81ffece6-e05c-409b-ee5d-8b5fc66a89e0"
      },
      "execution_count": null,
      "outputs": [
        {
          "output_type": "stream",
          "name": "stdout",
          "text": [
            "apple\n",
            "banana\n",
            "cherry\n"
          ]
        }
      ]
    },
    {
      "cell_type": "markdown",
      "source": [
        "Sum of Numbers\n",
        "Use a for loop to calculate the sum of numbers from 1 to 100."
      ],
      "metadata": {
        "id": "Ib18LHQZEW1b"
      }
    },
    {
      "cell_type": "code",
      "source": [
        "a = int(input(\"Enter a number: \"))\n",
        "result = 0\n",
        "for i in range(1, a + 1):\n",
        "    result += i\n",
        "print(\"The sum of all numbers is:\", sum)"
      ],
      "metadata": {
        "colab": {
          "base_uri": "https://localhost:8080/"
        },
        "id": "9MWMry-AD1gP",
        "outputId": "5c6dc2e8-43a6-4593-eaba-a676879d0136"
      },
      "execution_count": null,
      "outputs": [
        {
          "output_type": "stream",
          "name": "stdout",
          "text": [
            "Enter a number: 100\n",
            "The sum of all numbers is: 5050\n"
          ]
        }
      ]
    },
    {
      "cell_type": "markdown",
      "source": [
        "Print Each Character\n",
        "Use a for loop to print each character in the string \"Python\"."
      ],
      "metadata": {
        "id": "zKiIyh5SGEJ_"
      }
    },
    {
      "cell_type": "code",
      "source": [
        "a = \"python\"\n",
        "for i in a:\n",
        "  print(i)"
      ],
      "metadata": {
        "colab": {
          "base_uri": "https://localhost:8080/"
        },
        "id": "GTvlQUg-GNaV",
        "outputId": "6035b309-15ea-4b44-98b1-a43ae4b68908"
      },
      "execution_count": null,
      "outputs": [
        {
          "output_type": "stream",
          "name": "stdout",
          "text": [
            "p\n",
            "y\n",
            "t\n",
            "h\n",
            "o\n",
            "n\n"
          ]
        }
      ]
    },
    {
      "cell_type": "markdown",
      "source": [
        "Even Numbers Only\n",
        "Use a for loop to print all even numbers between 1 and 20\n"
      ],
      "metadata": {
        "id": "hNatuQs2GyqV"
      }
    },
    {
      "cell_type": "code",
      "source": [
        "a = int(input(\"Enter a number: \"))\n",
        "for i in range(1, a + 1):\n",
        "  if i % 2 == 0:\n",
        "    print(i)"
      ],
      "metadata": {
        "colab": {
          "base_uri": "https://localhost:8080/"
        },
        "id": "Fcsm7mZWG5Mz",
        "outputId": "bfe5d238-9419-4223-9996-bc7ee6b05828"
      },
      "execution_count": null,
      "outputs": [
        {
          "output_type": "stream",
          "name": "stdout",
          "text": [
            "Enter a number: 20\n",
            "2\n",
            "4\n",
            "6\n",
            "8\n",
            "10\n",
            "12\n",
            "14\n",
            "16\n",
            "18\n",
            "20\n"
          ]
        }
      ]
    },
    {
      "cell_type": "markdown",
      "source": [
        "Loop Through Dictionary\n",
        "Given a dictionary {\"name\": \"Alice\", \"age\": 25}, use a for loop to print each key and value.\n"
      ],
      "metadata": {
        "id": "G4JFLOgiID3P"
      }
    },
    {
      "cell_type": "code",
      "source": [
        "i = {\"name\": \"jaunty\", \"age\": 30 ,\"city\": \"youngstown\"}\n",
        "for key, value in i.items():\n",
        "  print(key,\":\",value)\n"
      ],
      "metadata": {
        "colab": {
          "base_uri": "https://localhost:8080/"
        },
        "id": "25jrDMTzIFl3",
        "outputId": "6eb8194b-fe72-4950-b761-fcf3ff64eb29"
      },
      "execution_count": null,
      "outputs": [
        {
          "output_type": "stream",
          "name": "stdout",
          "text": [
            "name : jaunty\n",
            "age : 30\n",
            "city : youngstown\n"
          ]
        }
      ]
    },
    {
      "cell_type": "markdown",
      "source": [
        "Nested Loops (Multiplication Table)\n",
        "Use nested for loops to print a multiplication table from 1 to 5."
      ],
      "metadata": {
        "id": "X7EtndwTMMzr"
      }
    },
    {
      "cell_type": "code",
      "source": [
        "a = int(input(\"Enter a number: \"))\n",
        "for i in range(1, a + 1):\n",
        "    for j in range(1, 10+ 1):\n",
        "        print(i, \"x\", j, \"=\", i * j)"
      ],
      "metadata": {
        "colab": {
          "base_uri": "https://localhost:8080/"
        },
        "id": "Bucbnp_pMI2N",
        "outputId": "7335959c-9f65-4c0a-b3a7-3286a23de1fa"
      },
      "execution_count": null,
      "outputs": [
        {
          "output_type": "stream",
          "name": "stdout",
          "text": [
            "Enter a number: 4\n",
            "1 x 1 = 1\n",
            "1 x 2 = 2\n",
            "1 x 3 = 3\n",
            "1 x 4 = 4\n",
            "1 x 5 = 5\n",
            "1 x 6 = 6\n",
            "1 x 7 = 7\n",
            "1 x 8 = 8\n",
            "1 x 9 = 9\n",
            "1 x 10 = 10\n",
            "2 x 1 = 2\n",
            "2 x 2 = 4\n",
            "2 x 3 = 6\n",
            "2 x 4 = 8\n",
            "2 x 5 = 10\n",
            "2 x 6 = 12\n",
            "2 x 7 = 14\n",
            "2 x 8 = 16\n",
            "2 x 9 = 18\n",
            "2 x 10 = 20\n",
            "3 x 1 = 3\n",
            "3 x 2 = 6\n",
            "3 x 3 = 9\n",
            "3 x 4 = 12\n",
            "3 x 5 = 15\n",
            "3 x 6 = 18\n",
            "3 x 7 = 21\n",
            "3 x 8 = 24\n",
            "3 x 9 = 27\n",
            "3 x 10 = 30\n",
            "4 x 1 = 4\n",
            "4 x 2 = 8\n",
            "4 x 3 = 12\n",
            "4 x 4 = 16\n",
            "4 x 5 = 20\n",
            "4 x 6 = 24\n",
            "4 x 7 = 28\n",
            "4 x 8 = 32\n",
            "4 x 9 = 36\n",
            "4 x 10 = 40\n"
          ]
        }
      ]
    },
    {
      "cell_type": "markdown",
      "source": [
        "\n",
        "Loop with Range and Step\n",
        "Use a for loop with range() to print numbers from 10 to 1 in reverse order\n"
      ],
      "metadata": {
        "id": "-XWelNm8QDnU"
      }
    },
    {
      "cell_type": "code",
      "source": [
        "a = int(input(\"Enter a number: \"))\n",
        "for i in range(a, 0, -1):\n",
        "  print(i)"
      ],
      "metadata": {
        "colab": {
          "base_uri": "https://localhost:8080/"
        },
        "id": "jO0toRISo7Z8",
        "outputId": "4a24a94d-7134-477e-f365-6d08d195c3c0"
      },
      "execution_count": null,
      "outputs": [
        {
          "output_type": "stream",
          "name": "stdout",
          "text": [
            "Enter a number: 10\n",
            "10\n",
            "9\n",
            "8\n",
            "7\n",
            "6\n",
            "5\n",
            "4\n",
            "3\n",
            "2\n",
            "1\n"
          ]
        }
      ]
    },
    {
      "cell_type": "markdown",
      "source": [
        "pasword generator project\n",
        "## 12 digit password\"  -> step 1\n",
        "\n",
        "## 12 digit password minimum 1 digit  -> step2\n",
        "\n",
        "## 12 digit password minimum 1 digit, special character check(Hint: ascill)-> step3\n",
        "\n",
        "##12 digit password minimum 1 digit,minimum 1 Upper case, special character check(Hint: ascill)-> step3\n"
      ],
      "metadata": {
        "id": "gXLMDzEOanh6"
      }
    },
    {
      "cell_type": "code",
      "source": [
        "\n"
      ],
      "metadata": {
        "id": "NhSthYXeamjp"
      },
      "execution_count": null,
      "outputs": []
    },
    {
      "cell_type": "markdown",
      "source": [
        "  to  Everyone\n",
        "pasword generator project\n",
        "## 12 digit password\"  -> step 1\n",
        "\n",
        "## 12 digit password minimum 1 digit  -> step2\n",
        "\n",
        "## 12 digit password minimum 1 digit, special character check(Hint: ascill)-> step3\n",
        "\n",
        "##12 digit password minimum 1 digit,minimum 1 Upper case, special character check(Hint: ascill)-> step3\n",
        "\n",
        "tirumal Rao 11:23 PM\n",
        "In Bagels, a deductive logic game, you must guess a secret three-digit number based on clues. The game offers one of the following hints in response to your guess: “Pico” when your guess has a correct digit in the wrong place, “Fermi” when your guess has a correct digit in the correct place, and “Bagels” if your guess has no correct digits. You have 10 tries to guess the secret number."
      ],
      "metadata": {
        "id": "M9BN-SR5egAI"
      }
    }
  ]
}