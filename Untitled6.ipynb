{
  "nbformat": 4,
  "nbformat_minor": 0,
  "metadata": {
    "colab": {
      "provenance": [],
      "authorship_tag": "ABX9TyPoEbGFonUvRH2g3g3G/uZU",
      "include_colab_link": true
    },
    "kernelspec": {
      "name": "python3",
      "display_name": "Python 3"
    },
    "language_info": {
      "name": "python"
    }
  },
  "cells": [
    {
      "cell_type": "markdown",
      "metadata": {
        "id": "view-in-github",
        "colab_type": "text"
      },
      "source": [
        "<a href=\"https://colab.research.google.com/github/jaunty009/Assignment_3/blob/main/Untitled6.ipynb\" target=\"_parent\"><img src=\"https://colab.research.google.com/assets/colab-badge.svg\" alt=\"Open In Colab\"/></a>"
      ]
    },
    {
      "cell_type": "markdown",
      "source": [
        "Write an if statement that prints \"Positive number\" if a variable x is greater than 0"
      ],
      "metadata": {
        "id": "az2EVcLTtkXO"
      }
    },
    {
      "cell_type": "code",
      "execution_count": 6,
      "metadata": {
        "colab": {
          "base_uri": "https://localhost:8080/"
        },
        "id": "uPlGZYx4tid3",
        "outputId": "6ab5dd24-98ec-4a8d-b960-b80dc39fa55b"
      },
      "outputs": [
        {
          "output_type": "stream",
          "name": "stdout",
          "text": [
            "Enter a number: -25.78\n",
            "negative number\n"
          ]
        }
      ],
      "source": [
        "a = float(input(\"Enter a number: \"))\n",
        "if a > 0:\n",
        "  print(\"positive number\")\n",
        "else:\n",
        "  if a < 0: # basically we dont need to use this step. but this is for my understanding purpose\n",
        "    print(\"negative number\")\n",
        "\n"
      ]
    },
    {
      "cell_type": "markdown",
      "source": [
        "Even or Odd"
      ],
      "metadata": {
        "id": "YXWCfs3ovfS_"
      }
    },
    {
      "cell_type": "code",
      "source": [
        "a = int(input(\"Enter a number: \"))\n",
        "if a % 2 == 0:\n",
        "  print(\"Even number\")\n",
        "else:\n",
        " if a % 2 != 0:\n",
        "   print(\"Odd number\")"
      ],
      "metadata": {
        "colab": {
          "base_uri": "https://localhost:8080/"
        },
        "id": "X9G5eo80vEme",
        "outputId": "01153527-e7d9-4f74-ee09-17782ce88507"
      },
      "execution_count": 14,
      "outputs": [
        {
          "output_type": "stream",
          "name": "stdout",
          "text": [
            "Enter a number: -24\n",
            "Even number\n"
          ]
        }
      ]
    },
    {
      "cell_type": "markdown",
      "source": [
        "Simple String Match"
      ],
      "metadata": {
        "id": "BVX225iEwmka"
      }
    },
    {
      "cell_type": "code",
      "source": [
        "a = input(\"Enter a string: \")\n",
        "if a == (\"\"):\n",
        "  print(\"please fill the manidatory field\")\n",
        "else:\n",
        "  print(\"Hello\", a)"
      ],
      "metadata": {
        "colab": {
          "base_uri": "https://localhost:8080/"
        },
        "id": "eX98_SLhwne0",
        "outputId": "24d65e43-26dd-4cac-bf0f-42691ca652de"
      },
      "execution_count": 26,
      "outputs": [
        {
          "output_type": "stream",
          "name": "stdout",
          "text": [
            "Enter a string: \n",
            "please fill the manidatory field\n"
          ]
        }
      ]
    },
    {
      "cell_type": "markdown",
      "source": [
        "Greater Number"
      ],
      "metadata": {
        "id": "1SGXUEey7sUH"
      }
    },
    {
      "cell_type": "code",
      "source": [
        "a = int(input(\"Enter a number: \"))\n",
        "b = int(input(\"Enter a number: \"))\n",
        "if a > b:\n",
        "  print(a, \"is great\")\n",
        "else:\n",
        "  if b > a:\n",
        "   print(b, \"is great\")"
      ],
      "metadata": {
        "colab": {
          "base_uri": "https://localhost:8080/"
        },
        "id": "JGM7ORd-7mpT",
        "outputId": "4ac251d3-2c8f-4e59-da31-f1e3463efabb"
      },
      "execution_count": 28,
      "outputs": [
        {
          "output_type": "stream",
          "name": "stdout",
          "text": [
            "Enter a number: 6\n",
            "Enter a number: 26\n",
            "26 is great\n"
          ]
        }
      ]
    },
    {
      "cell_type": "markdown",
      "source": [
        "If-Elif-Else Ladder\n",
        "Below 0: \"Freezing\"\n",
        "\n",
        "0–20: \"Cold\"\n",
        "\n",
        "21–30: \"Warm\"\n",
        "\n",
        "Above 30: \"Hot\""
      ],
      "metadata": {
        "id": "ff3CMlxw8WaJ"
      }
    },
    {
      "cell_type": "code",
      "source": [
        "a = float(input(\"Enter a number: \"))\n",
        "if 0 <= a <= 20:\n",
        "  print(\"Cold\")\n",
        "elif 21 <= a <= 30:\n",
        "  print(\"Warm\")\n",
        "else:\n",
        "   if a > 30:\n",
        "    print(\"Hot\")\n",
        "\n"
      ],
      "metadata": {
        "colab": {
          "base_uri": "https://localhost:8080/"
        },
        "id": "DkXFku9O8YyO",
        "outputId": "9c39ce6c-2ed5-47fa-f428-b55ef65837d7"
      },
      "execution_count": 50,
      "outputs": [
        {
          "output_type": "stream",
          "name": "stdout",
          "text": [
            "Enter a number: 21\n",
            "Warm\n"
          ]
        }
      ]
    },
    {
      "cell_type": "markdown",
      "source": [
        "Pass or Fail\n",
        "Ask the user to input their test score. If it’s 50 or higher, print \"Pass\", else \"Fail\""
      ],
      "metadata": {
        "id": "vuQmCJAl--aL"
      }
    },
    {
      "cell_type": "code",
      "source": [
        "a = float(input(\"Enter a number: \"))\n",
        "if a >= 50:\n",
        "  print(\"Pass\")\n",
        "else:\n",
        "  if a < 50:\n",
        "   print(\"Fail\")"
      ],
      "metadata": {
        "colab": {
          "base_uri": "https://localhost:8080/"
        },
        "id": "FvJtY_dH_ZTX",
        "outputId": "2af6e128-cc79-40c9-bac8-9ec1fc51a01a"
      },
      "execution_count": 53,
      "outputs": [
        {
          "output_type": "stream",
          "name": "stdout",
          "text": [
            "Enter a number: 50\n",
            "Pass\n"
          ]
        }
      ]
    },
    {
      "cell_type": "markdown",
      "source": [
        "String Contains Check\n",
        "Check if the string \"python\" is found inside a user's input sentence"
      ],
      "metadata": {
        "id": "TvzggiuY_q48"
      }
    },
    {
      "cell_type": "code",
      "source": [
        "a = input(\"Enter a string: \")\n",
        "if a == \"python\":\n",
        "  print(\"yes\")\n",
        "else:\n",
        "  print(\"no\")"
      ],
      "metadata": {
        "colab": {
          "base_uri": "https://localhost:8080/"
        },
        "id": "5S8NmDj7_3cP",
        "outputId": "e0385fcd-c8cb-4aae-dcfe-d545683f6718"
      },
      "execution_count": 9,
      "outputs": [
        {
          "output_type": "stream",
          "name": "stdout",
          "text": [
            "Enter a string: python\n",
            "yes\n"
          ]
        }
      ]
    },
    {
      "cell_type": "markdown",
      "source": [
        "Multiple Conditions with and\n",
        "Ask for age and citizenship status. If the user is over 18 and a citizen, print \"Eligible to vote\".\n"
      ],
      "metadata": {
        "id": "6GGmCfWq2Seb"
      }
    },
    {
      "cell_type": "code",
      "source": [
        "a = int(input(\"Enter your age: \"))\n",
        "b = input(\"Enter your citizenship status: \")\n",
        "if a > 18 and b == \"permanent\":\n",
        "  print(\"Eligible to vote\")\n",
        "else:\n",
        "  print(\"Not eligible to vote\")\n",
        "\n",
        "\n",
        ""
      ],
      "metadata": {
        "colab": {
          "base_uri": "https://localhost:8080/"
        },
        "id": "fdJ0HOTI2PS-",
        "outputId": "3485f856-6538-48a9-ab49-2c6aada7f644"
      },
      "execution_count": 5,
      "outputs": [
        {
          "output_type": "stream",
          "name": "stdout",
          "text": [
            "Enter your age: 24\n",
            "Enter your citizenship status: permanent citizen\n",
            "Not eligible to vote\n"
          ]
        }
      ]
    },
    {
      "cell_type": "markdown",
      "source": [
        "Multiple Conditions with or\n",
        "Ask for a user's age. If they are younger than 13 or older than 65, print \"Discount eligible\".\n"
      ],
      "metadata": {
        "id": "3gwiTVxR5aOW"
      }
    },
    {
      "cell_type": "code",
      "source": [
        "a = int(input(\"Enter your age: \"))\n",
        "if a <= 13 or a >= 65:\n",
        "  print(\"eligible for discount\")\n",
        "else:\n",
        "  print(\"Not eligible for discount\")"
      ],
      "metadata": {
        "colab": {
          "base_uri": "https://localhost:8080/"
        },
        "id": "lt1y07rF5eLm",
        "outputId": "caa9999d-51e0-4963-ad87-cc8cb7b0036c"
      },
      "execution_count": 14,
      "outputs": [
        {
          "output_type": "stream",
          "name": "stdout",
          "text": [
            "Enter your age: 65\n",
            "eligible for discount\n"
          ]
        }
      ]
    },
    {
      "cell_type": "markdown",
      "source": [
        "Nested If\n",
        "Check if a number is positive. If it is, check if it is also even.\n"
      ],
      "metadata": {
        "id": "TuRRY9l47PKW"
      }
    },
    {
      "cell_type": "code",
      "source": [
        "a = int(input(\"Enter a number: \"))\n",
        "if a > 0:\n",
        "  if a % 2 == 0:\n",
        "    print(\"even\")\n",
        "  else:\n",
        "    print(\"odd\")\n",
        "else:\n",
        "  print(\"negative\")\n"
      ],
      "metadata": {
        "colab": {
          "base_uri": "https://localhost:8080/"
        },
        "id": "Q3xH8PLj7RC4",
        "outputId": "3884d821-760c-4417-cfcc-aaffd957a048"
      },
      "execution_count": 21,
      "outputs": [
        {
          "output_type": "stream",
          "name": "stdout",
          "text": [
            "Enter a number: -23\n",
            "negative\n"
          ]
        }
      ]
    }
  ]
}