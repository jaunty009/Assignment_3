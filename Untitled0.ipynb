{
  "nbformat": 4,
  "nbformat_minor": 0,
  "metadata": {
    "colab": {
      "provenance": [],
      "authorship_tag": "ABX9TyOIjUeJ8C7asRAvf9Cu0pyZ",
      "include_colab_link": true
    },
    "kernelspec": {
      "name": "python3",
      "display_name": "Python 3"
    },
    "language_info": {
      "name": "python"
    }
  },
  "cells": [
    {
      "cell_type": "markdown",
      "metadata": {
        "id": "view-in-github",
        "colab_type": "text"
      },
      "source": [
        "<a href=\"https://colab.research.google.com/github/jaunty009/Assignment_3/blob/main/Untitled0.ipynb\" target=\"_parent\"><img src=\"https://colab.research.google.com/assets/colab-badge.svg\" alt=\"Open In Colab\"/></a>"
      ]
    },
    {
      "cell_type": "code",
      "execution_count": null,
      "metadata": {
        "id": "G4HBPMDYfr7L"
      },
      "outputs": [],
      "source": []
    },
    {
      "cell_type": "code",
      "source": [
        "a = 'jaunty'\n",
        "for x in a:\n",
        "  print(x)\n"
      ],
      "metadata": {
        "colab": {
          "base_uri": "https://localhost:8080/"
        },
        "id": "iscRSWBsftq_",
        "outputId": "55ced898-c7c3-45c6-9867-e55f4be03c1d"
      },
      "execution_count": null,
      "outputs": [
        {
          "output_type": "stream",
          "name": "stdout",
          "text": [
            "j\n",
            "a\n",
            "u\n",
            "n\n",
            "t\n",
            "y\n"
          ]
        }
      ]
    },
    {
      "cell_type": "code",
      "source": [
        "x = 'mahanti'\n",
        "for y in x:\n",
        "  print(y)"
      ],
      "metadata": {
        "colab": {
          "base_uri": "https://localhost:8080/"
        },
        "id": "CT9o6LTigVtx",
        "outputId": "ecd2f741-68d8-4f17-a71f-6746910b6725"
      },
      "execution_count": null,
      "outputs": [
        {
          "output_type": "stream",
          "name": "stdout",
          "text": [
            "m\n",
            "a\n",
            "h\n",
            "a\n",
            "n\n",
            "t\n",
            "i\n"
          ]
        }
      ]
    },
    {
      "cell_type": "code",
      "source": [
        "for x in range(1,11):\n",
        "  print(x)\n"
      ],
      "metadata": {
        "colab": {
          "base_uri": "https://localhost:8080/"
        },
        "id": "GeQSOYB9g7xs",
        "outputId": "65cbb119-71f6-4581-d5a7-bde43e656f54"
      },
      "execution_count": null,
      "outputs": [
        {
          "output_type": "stream",
          "name": "stdout",
          "text": [
            "1\n",
            "2\n",
            "3\n",
            "4\n",
            "5\n",
            "6\n",
            "7\n",
            "8\n",
            "9\n",
            "10\n"
          ]
        }
      ]
    },
    {
      "cell_type": "code",
      "source": [
        "a = 'pranay'\n",
        "for y in a:\n",
        "  print(y)"
      ],
      "metadata": {
        "colab": {
          "base_uri": "https://localhost:8080/"
        },
        "id": "JU3cLxLYhfm5",
        "outputId": "6857087a-55a9-4b7d-e779-aa9e0af60aaf"
      },
      "execution_count": null,
      "outputs": [
        {
          "output_type": "stream",
          "name": "stdout",
          "text": [
            "p\n",
            "r\n",
            "a\n",
            "n\n",
            "a\n",
            "y\n"
          ]
        }
      ]
    },
    {
      "cell_type": "code",
      "source": [
        "b = 'SHIVA'\n",
        "for d in b:\n",
        "  print(d)"
      ],
      "metadata": {
        "colab": {
          "base_uri": "https://localhost:8080/"
        },
        "id": "vQbjD3mGhvbE",
        "outputId": "0b5a2e23-96a4-4032-8281-9f4670af72ae"
      },
      "execution_count": null,
      "outputs": [
        {
          "output_type": "stream",
          "name": "stdout",
          "text": [
            "S\n",
            "H\n",
            "I\n",
            "V\n",
            "A\n"
          ]
        }
      ]
    },
    {
      "cell_type": "code",
      "source": [
        "x = 'madhubabuyalavarthi'\n",
        "y = 'jaunty'\n",
        "for i in x:\n",
        "  for j in y:\n",
        "    print(i,j)"
      ],
      "metadata": {
        "colab": {
          "base_uri": "https://localhost:8080/"
        },
        "id": "_FCDxDa6kSTC",
        "outputId": "54fa1a79-bd8e-48f7-805b-54fcd43dd7f1"
      },
      "execution_count": null,
      "outputs": [
        {
          "output_type": "stream",
          "name": "stdout",
          "text": [
            "m j\n",
            "m a\n",
            "m u\n",
            "m n\n",
            "m t\n",
            "m y\n",
            "a j\n",
            "a a\n",
            "a u\n",
            "a n\n",
            "a t\n",
            "a y\n",
            "d j\n",
            "d a\n",
            "d u\n",
            "d n\n",
            "d t\n",
            "d y\n",
            "h j\n",
            "h a\n",
            "h u\n",
            "h n\n",
            "h t\n",
            "h y\n",
            "u j\n",
            "u a\n",
            "u u\n",
            "u n\n",
            "u t\n",
            "u y\n",
            "b j\n",
            "b a\n",
            "b u\n",
            "b n\n",
            "b t\n",
            "b y\n",
            "a j\n",
            "a a\n",
            "a u\n",
            "a n\n",
            "a t\n",
            "a y\n",
            "b j\n",
            "b a\n",
            "b u\n",
            "b n\n",
            "b t\n",
            "b y\n",
            "u j\n",
            "u a\n",
            "u u\n",
            "u n\n",
            "u t\n",
            "u y\n",
            "y j\n",
            "y a\n",
            "y u\n",
            "y n\n",
            "y t\n",
            "y y\n",
            "a j\n",
            "a a\n",
            "a u\n",
            "a n\n",
            "a t\n",
            "a y\n",
            "l j\n",
            "l a\n",
            "l u\n",
            "l n\n",
            "l t\n",
            "l y\n",
            "a j\n",
            "a a\n",
            "a u\n",
            "a n\n",
            "a t\n",
            "a y\n",
            "v j\n",
            "v a\n",
            "v u\n",
            "v n\n",
            "v t\n",
            "v y\n",
            "a j\n",
            "a a\n",
            "a u\n",
            "a n\n",
            "a t\n",
            "a y\n",
            "r j\n",
            "r a\n",
            "r u\n",
            "r n\n",
            "r t\n",
            "r y\n",
            "t j\n",
            "t a\n",
            "t u\n",
            "t n\n",
            "t t\n",
            "t y\n",
            "h j\n",
            "h a\n",
            "h u\n",
            "h n\n",
            "h t\n",
            "h y\n",
            "i j\n",
            "i a\n",
            "i u\n",
            "i n\n",
            "i t\n",
            "i y\n"
          ]
        }
      ]
    }
  ]
}