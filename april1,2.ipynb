{
  "nbformat": 4,
  "nbformat_minor": 0,
  "metadata": {
    "colab": {
      "provenance": [],
      "authorship_tag": "ABX9TyNYHX5IZ03NQUaIshaFNVM7",
      "include_colab_link": true
    },
    "kernelspec": {
      "name": "python3",
      "display_name": "Python 3"
    },
    "language_info": {
      "name": "python"
    }
  },
  "cells": [
    {
      "cell_type": "markdown",
      "metadata": {
        "id": "view-in-github",
        "colab_type": "text"
      },
      "source": [
        "<a href=\"https://colab.research.google.com/github/jaunty009/Assignment_3/blob/main/april1%2C2.ipynb\" target=\"_parent\"><img src=\"https://colab.research.google.com/assets/colab-badge.svg\" alt=\"Open In Colab\"/></a>"
      ]
    },
    {
      "cell_type": "code",
      "execution_count": 1,
      "metadata": {
        "colab": {
          "base_uri": "https://localhost:8080/"
        },
        "id": "4i0XdgMwiiEn",
        "outputId": "7a499d69-ee5f-41ac-ce10-901a7cca3c32"
      },
      "outputs": [
        {
          "output_type": "stream",
          "name": "stdout",
          "text": [
            " python is cool \n"
          ]
        }
      ],
      "source": [
        "a = \"  python  is  cool  \"\n",
        "\n",
        "def remove_spaces(a):\n",
        "    res = \"\"\n",
        "    char = 0\n",
        "    while char < len(a):\n",
        "        if ord(a[char]) == 32:\n",
        "\n",
        "            if char + 1 < len(a) and ord(a[char + 1]) == 32:\n",
        "                char += 1\n",
        "                continue\n",
        "        res += a[char]\n",
        "        char += 1\n",
        "    return res\n",
        "\n",
        "print(remove_spaces(a))"
      ]
    },
    {
      "cell_type": "code",
      "source": [
        " def main():\n",
        "     s = 'PythonIsCool'\n",
        "     T = ''\n",
        "     for i in range(len(s)):\n",
        "         if 65 <= ord(s[i]) <= 90:\n",
        "             if i != 0:\n",
        "                 T += \" \"\n",
        "             T += chr(ord(s[i]))\n",
        "         else:\n",
        "             T += s[i]\n",
        "     print(T)\n",
        "\n",
        " main()"
      ],
      "metadata": {
        "colab": {
          "base_uri": "https://localhost:8080/"
        },
        "id": "8JBLwUfBvejS",
        "outputId": "9b58e679-9264-4293-b3cf-1bdbb4d726a4"
      },
      "execution_count": 15,
      "outputs": [
        {
          "output_type": "stream",
          "name": "stdout",
          "text": [
            "Python Is Cool\n"
          ]
        }
      ]
    },
    {
      "cell_type": "code",
      "source": [
        "t = ' python is   cool '\n",
        "\n",
        "def to_upper(t):\n",
        "    re = ''\n",
        "    for i in range(len(t)):\n",
        "        ascii_val = ord(t[i])\n",
        "        if 97 <= ascii_val <= 122:\n",
        "            upp = ascii_val - 32\n",
        "            re += chr(upp)\n",
        "        else:\n",
        "            re += t[i]\n",
        "    return re\n",
        "\n",
        "print(to_upper(t))"
      ],
      "metadata": {
        "colab": {
          "base_uri": "https://localhost:8080/"
        },
        "id": "uVjqqW5UvYh7",
        "outputId": "8b31e16b-e78f-4e3f-a2b1-63cb7083441c"
      },
      "execution_count": 14,
      "outputs": [
        {
          "output_type": "stream",
          "name": "stdout",
          "text": [
            " PYTHON IS   COOL \n"
          ]
        }
      ]
    },
    {
      "cell_type": "code",
      "source": [
        "text = \"There are 24 apples and 12 apples\"\n",
        "number = \"\"\n",
        "for char in text:\n",
        "    if '0' <= char <= '9':\n",
        "        number += char\n",
        "    else:\n",
        "        if number != \"\":\n",
        "            print(number)\n",
        "            number = \"\"\n",
        "if number != \"\":\n",
        "    print(number)"
      ],
      "metadata": {
        "colab": {
          "base_uri": "https://localhost:8080/"
        },
        "id": "ldnzOXYwj6So",
        "outputId": "45592659-4cec-4b81-b5f0-1a689f403432"
      },
      "execution_count": 3,
      "outputs": [
        {
          "output_type": "stream",
          "name": "stdout",
          "text": [
            "24\n",
            "12\n"
          ]
        }
      ]
    },
    {
      "cell_type": "code",
      "source": [
        "email = \"test@example.com\"\n",
        "ends_with_com = False\n",
        "has_at_symbol = False\n",
        "\n",
        "for i in range(len(email)):\n",
        "    if email[i:] == '.com' and '@' in email:\n",
        "        ends_with_com = True\n",
        "        has_at_symbol = True\n",
        "        break\n",
        "if ends_with_com and has_at_symbol:\n",
        "    print(\"valid email\")\n",
        "else:\n",
        "    print(\"invalid email\")"
      ],
      "metadata": {
        "colab": {
          "base_uri": "https://localhost:8080/"
        },
        "id": "4qdacTCGlDnh",
        "outputId": "b4cf5666-0985-455f-e670-41ab7068aed2"
      },
      "execution_count": 37,
      "outputs": [
        {
          "output_type": "stream",
          "name": "stdout",
          "text": [
            "valid email\n"
          ]
        }
      ]
    },
    {
      "cell_type": "code",
      "source": [
        "def calculator(operation, *args):\n",
        "    if operation == \"add\":\n",
        "        return sum(args)\n",
        "\n",
        "    elif operation == \"subtract\":\n",
        "        result = args[0]\n",
        "        for num in args[1:]:\n",
        "            result -= num\n",
        "        return result\n",
        "\n",
        "    elif operation == \"multiply\":\n",
        "        result = 1\n",
        "        for num in args:\n",
        "            result *= num\n",
        "        return result\n",
        "\n",
        "    elif operation == \"divide\":\n",
        "        result = args[0]\n",
        "        for num in args[1:]:\n",
        "            if num != 0:\n",
        "                result /= num\n",
        "            else:\n",
        "                return \"Cannot divide by zero\"\n",
        "        return result\n",
        "\n",
        "    else:\n",
        "        return \"Invalid operation\"\n",
        "\n",
        "print(calculator(\"add\", 2,4,5))\n",
        "print(calculator(\"subtract\", 500,50,25))\n",
        "print(calculator(\"multiply\", 3,4,5))\n",
        "print(calculator(\"divide\", 100,5,2))"
      ],
      "metadata": {
        "colab": {
          "base_uri": "https://localhost:8080/"
        },
        "id": "26xTOFTcoP5V",
        "outputId": "a87b5cbb-aee7-4966-9547-fe90aa5f169e"
      },
      "execution_count": 23,
      "outputs": [
        {
          "output_type": "stream",
          "name": "stdout",
          "text": [
            "11\n",
            "425\n",
            "60\n",
            "10.0\n"
          ]
        }
      ]
    },
    {
      "cell_type": "code",
      "source": [
        "def find_capitals(sentence):\n",
        "  words = sentence.split(\" \")\n",
        "  capital_words = []\n",
        "  for i in range(len(words)):\n",
        "    if 'A' <= words[i][0] <= 'Z':\n",
        "      capital_words.append(words[i])\n",
        "  return capital_words\n",
        "\n",
        "sentence = \"Today is Good Day\"\n",
        "print(find_capitals(sentence))\n"
      ],
      "metadata": {
        "colab": {
          "base_uri": "https://localhost:8080/"
        },
        "id": "oIHFxytYtpvC",
        "outputId": "92fb6868-950d-4cd1-f6f3-3d05e8217be4"
      },
      "execution_count": 12,
      "outputs": [
        {
          "output_type": "stream",
          "name": "stdout",
          "text": [
            "['Today', 'Good', 'Day']\n"
          ]
        }
      ]
    },
    {
      "cell_type": "code",
      "source": [
        "# Define calculator operations using lambda functions\n",
        "calculator = {\n",
        "    'add': lambda x, y: x + y,\n",
        "    'sub': lambda x, y: x - y,\n",
        "    'mul': lambda x, y: x * y,\n",
        "    'div': lambda x, y: x / y if y != 0 else \"Error: Cannot divide by zero\"\n",
        "}\n",
        "\n",
        "# Display menu\n",
        "print(\"Simple Calculator using Lambda Functions\")\n",
        "print(\"Available operations: add, sub, mul, div\")\n",
        "\n",
        "# Get user input\n",
        "operation = input(\"Enter operation (add/sub/mul/div): \")\n",
        "num1 = float(input(\"Enter first number: \"))\n",
        "num2 = float(input(\"Enter second number: \"))\n",
        "\n",
        "# Perform operation\n",
        "if operation in calculator:\n",
        "    result = calculator[operation](num1, num2)\n",
        "    print(\"Result:\", result)\n",
        "else:\n",
        "    print(\"Invalid operation\")"
      ],
      "metadata": {
        "colab": {
          "base_uri": "https://localhost:8080/"
        },
        "id": "5W7GuRYmE0xS",
        "outputId": "7a896f2c-5863-4b96-ee9e-2060d8703f77"
      },
      "execution_count": 49,
      "outputs": [
        {
          "output_type": "stream",
          "name": "stdout",
          "text": [
            "Simple Calculator using Lambda Functions\n",
            "Available operations: add, sub, mul, div\n",
            "Enter operation (add/sub/mul/div): add\n",
            "Enter first number: 2.87\n",
            "Enter second number: 2.23\n",
            "Result: 5.1\n"
          ]
        }
      ]
    },
    {
      "cell_type": "markdown",
      "source": [
        "Lambda examples"
      ],
      "metadata": {
        "id": "1TtTqbW0Im4N"
      }
    },
    {
      "cell_type": "code",
      "source": [
        "#Reverse a string\n",
        "reverse_string = lambda s: s[::-1]\n",
        "print(reverse_string(\"python\"))"
      ],
      "metadata": {
        "colab": {
          "base_uri": "https://localhost:8080/"
        },
        "id": "LJyhRQnkIjbP",
        "outputId": "0b3645eb-5821-4b0e-b329-077fafa28c9a"
      },
      "execution_count": 50,
      "outputs": [
        {
          "output_type": "stream",
          "name": "stdout",
          "text": [
            "nohtyp\n"
          ]
        }
      ]
    },
    {
      "cell_type": "code",
      "source": [
        "numbers = [10, 20, 30, 40, 50]\n",
        "find_num = lambda lst, num: next((x for x in lst if x == num), None)\n",
        "print(find_num(numbers, 30))\n",
        "print(find_num(numbers, 20))"
      ],
      "metadata": {
        "colab": {
          "base_uri": "https://localhost:8080/"
        },
        "id": "PgmbskHsJu7P",
        "outputId": "cc80e50b-02b8-44ca-c30f-d47fafc167de"
      },
      "execution_count": 57,
      "outputs": [
        {
          "output_type": "stream",
          "name": "stdout",
          "text": [
            "30\n",
            "20\n"
          ]
        }
      ]
    }
  ]
}