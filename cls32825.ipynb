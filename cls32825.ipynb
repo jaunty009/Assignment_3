{
  "nbformat": 4,
  "nbformat_minor": 0,
  "metadata": {
    "colab": {
      "provenance": [],
      "authorship_tag": "ABX9TyMITyoLSNoMBRxro2O4b2nf",
      "include_colab_link": true
    },
    "kernelspec": {
      "name": "python3",
      "display_name": "Python 3"
    },
    "language_info": {
      "name": "python"
    }
  },
  "cells": [
    {
      "cell_type": "markdown",
      "metadata": {
        "id": "view-in-github",
        "colab_type": "text"
      },
      "source": [
        "<a href=\"https://colab.research.google.com/github/jaunty009/Assignment_3/blob/main/cls32825.ipynb\" target=\"_parent\"><img src=\"https://colab.research.google.com/assets/colab-badge.svg\" alt=\"Open In Colab\"/></a>"
      ]
    },
    {
      "cell_type": "code",
      "execution_count": null,
      "metadata": {
        "colab": {
          "base_uri": "https://localhost:8080/"
        },
        "id": "LYdKXfQTGcnx",
        "outputId": "f6c0600a-a86b-4a04-b560-9c3b4ec8b039"
      },
      "outputs": [
        {
          "output_type": "stream",
          "name": "stdout",
          "text": [
            "['a', 'j', 'n', 't', 'u', 'y']\n",
            "['a', 'a', 'b', 'h', 'v', 'y']\n",
            "['a', 'h', 'h', 'i', 'k', 't', 'y']\n"
          ]
        }
      ],
      "source": [
        "s1 = 'jaunty'\n",
        "print(sorted(s1))\n",
        "s2 = 'bhavya'\n",
        "print(sorted(s2))\n",
        "s3 = 'khyathi'\n",
        "print(sorted(s3))"
      ]
    },
    {
      "cell_type": "code",
      "source": [
        "def anagrams(s1,s2):\n",
        "  return sorted(s1) == sorted(s2)\n",
        "s1 = 'listen'\n",
        "s2 = 'silent'\n",
        "print(anagrams(s1,s2))"
      ],
      "metadata": {
        "colab": {
          "base_uri": "https://localhost:8080/"
        },
        "id": "3o0G_trYP3l-",
        "outputId": "f5fc2378-951d-454f-ce0d-f377655ad29a"
      },
      "execution_count": null,
      "outputs": [
        {
          "output_type": "stream",
          "name": "stdout",
          "text": [
            "True\n"
          ]
        }
      ]
    },
    {
      "cell_type": "markdown",
      "source": [
        "- remove spaces\n",
        "- front, word-word, last\n",
        "-output word-word spaces"
      ],
      "metadata": {
        "id": "ePfJZhDkYmVA"
      }
    },
    {
      "cell_type": "code",
      "source": [
        "def remove_spaces(a):\n",
        "    res = \"\"\n",
        "    for char in a:\n",
        "      if ord(char) == 32:\n",
        "        continue\n",
        "      res += char\n",
        "    return res\n",
        "input_string = input(\"Enter a string: \")\n",
        "print(remove_spaces(input_string))\n"
      ],
      "metadata": {
        "colab": {
          "base_uri": "https://localhost:8080/"
        },
        "id": "OrlQF1m8WRoF",
        "outputId": "9836f6b4-f021-44f9-d2d8-1a4d052718d9"
      },
      "execution_count": null,
      "outputs": [
        {
          "output_type": "stream",
          "name": "stdout",
          "text": [
            "Enter a string: \"  python  is  cool  \"\n",
            "\"pythoniscool\"\n"
          ]
        }
      ]
    },
    {
      "cell_type": "code",
      "source": [
        "a = ' python is   cool '\n",
        "def to_upper(a):\n",
        "     re = ''\n",
        "     for i in a:\n",
        "         ascii = ord(i)\n",
        "         if 97 <= ascii <= 122:\n",
        "             upp = ascii - 32\n",
        "             re += chr(upp)\n",
        "         else:\n",
        "             re += i\n",
        "     return re\n",
        "\n",
        "print(to_upper(a))"
      ],
      "metadata": {
        "colab": {
          "base_uri": "https://localhost:8080/"
        },
        "id": "T-nf9_nVedjD",
        "outputId": "8d5ad70d-2767-48e0-85d3-0fb24bb40208"
      },
      "execution_count": 6,
      "outputs": [
        {
          "output_type": "stream",
          "name": "stdout",
          "text": [
            " PYTHON IS   COOL \n"
          ]
        }
      ]
    },
    {
      "cell_type": "code",
      "source": [],
      "metadata": {
        "id": "_A5RylAJkYog"
      },
      "execution_count": null,
      "outputs": []
    }
  ]
}