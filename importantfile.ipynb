{
  "nbformat": 4,
  "nbformat_minor": 0,
  "metadata": {
    "colab": {
      "provenance": [],
      "authorship_tag": "ABX9TyMd8q6Il9+qFnYxt6PVLXAB",
      "include_colab_link": true
    },
    "kernelspec": {
      "name": "python3",
      "display_name": "Python 3"
    },
    "language_info": {
      "name": "python"
    }
  },
  "cells": [
    {
      "cell_type": "markdown",
      "metadata": {
        "id": "view-in-github",
        "colab_type": "text"
      },
      "source": [
        "<a href=\"https://colab.research.google.com/github/jaunty009/Assignment_3/blob/main/importantfile.ipynb\" target=\"_parent\"><img src=\"https://colab.research.google.com/assets/colab-badge.svg\" alt=\"Open In Colab\"/></a>"
      ]
    },
    {
      "cell_type": "markdown",
      "source": [
        "Write an if statement that prints \"Positive number\" if a variable x is greater than 0"
      ],
      "metadata": {
        "id": "az2EVcLTtkXO"
      }
    },
    {
      "cell_type": "code",
      "execution_count": null,
      "metadata": {
        "colab": {
          "base_uri": "https://localhost:8080/"
        },
        "id": "uPlGZYx4tid3",
        "outputId": "b408208e-d5e6-4ac1-9f32-7d230d93be72"
      },
      "outputs": [
        {
          "output_type": "stream",
          "name": "stdout",
          "text": [
            "Enter a number: -27\n",
            "negative number\n"
          ]
        }
      ],
      "source": [
        "a = float(input(\"Enter a number: \"))\n",
        "if a > 0:\n",
        "  print(\"positive number\")\n",
        "elif a < 0: # basically we dont need to use this step. but this is for my understanding purpose\n",
        "    print(\"negative number\")\n",
        "else:\n",
        "    print(\"zero\")"
      ]
    },
    {
      "cell_type": "markdown",
      "source": [
        "Even or Odd"
      ],
      "metadata": {
        "id": "YXWCfs3ovfS_"
      }
    },
    {
      "cell_type": "code",
      "source": [
        "a = int(input(\"Enter a number: \"))\n",
        "if a % 2 == 0:\n",
        "  print(\"Even number\")\n",
        "else:\n",
        " if a % 2 != 0:\n",
        "   print(\"Odd number\")"
      ],
      "metadata": {
        "colab": {
          "base_uri": "https://localhost:8080/"
        },
        "id": "X9G5eo80vEme",
        "outputId": "01153527-e7d9-4f74-ee09-17782ce88507"
      },
      "execution_count": null,
      "outputs": [
        {
          "output_type": "stream",
          "name": "stdout",
          "text": [
            "Enter a number: -24\n",
            "Even number\n"
          ]
        }
      ]
    },
    {
      "cell_type": "markdown",
      "source": [
        "Simple String Match"
      ],
      "metadata": {
        "id": "BVX225iEwmka"
      }
    },
    {
      "cell_type": "code",
      "source": [
        "a = int(input(\"Enter a string: \"))\n",
        "if a == (\"\"):\n",
        "  print(\"please fill the manidatory field\")\n",
        "else:\n",
        "  print(\"Hello\"  , a)"
      ],
      "metadata": {
        "colab": {
          "base_uri": "https://localhost:8080/"
        },
        "id": "eX98_SLhwne0",
        "outputId": "445fee14-26aa-4a7d-ffa4-d8783e491508"
      },
      "execution_count": null,
      "outputs": [
        {
          "output_type": "stream",
          "name": "stdout",
          "text": [
            "Enter a string: 24\n",
            "Hello 24\n"
          ]
        }
      ]
    },
    {
      "cell_type": "markdown",
      "source": [
        "Greater Number"
      ],
      "metadata": {
        "id": "1SGXUEey7sUH"
      }
    },
    {
      "cell_type": "code",
      "source": [
        "a = int(input(\"Enter a number: \"))\n",
        "b = int(input(\"Enter a number: \"))\n",
        "if a > b:\n",
        "  print(a, \"is great\")\n",
        "else:\n",
        "  if b > a:\n",
        "   print(b, \"is great\")"
      ],
      "metadata": {
        "colab": {
          "base_uri": "https://localhost:8080/"
        },
        "id": "JGM7ORd-7mpT",
        "outputId": "4ac251d3-2c8f-4e59-da31-f1e3463efabb"
      },
      "execution_count": null,
      "outputs": [
        {
          "output_type": "stream",
          "name": "stdout",
          "text": [
            "Enter a number: 6\n",
            "Enter a number: 26\n",
            "26 is great\n"
          ]
        }
      ]
    },
    {
      "cell_type": "markdown",
      "source": [
        "If-Elif-Else Ladder\n",
        "Below 0: \"Freezing\"\n",
        "\n",
        "0–20: \"Cold\"\n",
        "\n",
        "21–30: \"Warm\"\n",
        "\n",
        "Above 30: \"Hot\""
      ],
      "metadata": {
        "id": "ff3CMlxw8WaJ"
      }
    },
    {
      "cell_type": "code",
      "source": [
        "a = float(input(\"Enter a number: \"))\n",
        "if 0 <= a <= 20:\n",
        "  print(\"Cold\")\n",
        "elif 21 <= a <= 30:\n",
        "  print(\"Warm\")\n",
        "else:\n",
        "   if a > 30:\n",
        "    print(\"Hot\")\n",
        "\n"
      ],
      "metadata": {
        "colab": {
          "base_uri": "https://localhost:8080/"
        },
        "id": "DkXFku9O8YyO",
        "outputId": "9c39ce6c-2ed5-47fa-f428-b55ef65837d7"
      },
      "execution_count": null,
      "outputs": [
        {
          "output_type": "stream",
          "name": "stdout",
          "text": [
            "Enter a number: 21\n",
            "Warm\n"
          ]
        }
      ]
    },
    {
      "cell_type": "markdown",
      "source": [
        "Pass or Fail\n",
        "Ask the user to input their test score. If it’s 50 or higher, print \"Pass\", else \"Fail\""
      ],
      "metadata": {
        "id": "vuQmCJAl--aL"
      }
    },
    {
      "cell_type": "code",
      "source": [
        "a = float(input(\"Enter a number: \"))\n",
        "if a >= 50:\n",
        "  print(\"Pass\")\n",
        "else:            #if a < 50:\n",
        "   print(\"Fail\")"
      ],
      "metadata": {
        "colab": {
          "base_uri": "https://localhost:8080/"
        },
        "id": "FvJtY_dH_ZTX",
        "outputId": "2af6e128-cc79-40c9-bac8-9ec1fc51a01a"
      },
      "execution_count": null,
      "outputs": [
        {
          "output_type": "stream",
          "name": "stdout",
          "text": [
            "Enter a number: 50\n",
            "Pass\n"
          ]
        }
      ]
    },
    {
      "cell_type": "markdown",
      "source": [
        "String Contains Check\n",
        "Check if the string \"python\" is found inside a user's input sentence"
      ],
      "metadata": {
        "id": "TvzggiuY_q48"
      }
    },
    {
      "cell_type": "code",
      "source": [
        "a = input(\"Enter a string: \")\n",
        "b = \"python\"\n",
        "print(a.find(b))\n",
        "if a.find(b) >= 0:\n",
        "  print(\"found\")\n",
        "else:\n",
        "  print(\"not found\")"
      ],
      "metadata": {
        "colab": {
          "base_uri": "https://localhost:8080/"
        },
        "id": "5S8NmDj7_3cP",
        "outputId": "2f5eb7fc-e00c-4bb1-82ab-5517bfcb5693"
      },
      "execution_count": null,
      "outputs": [
        {
          "output_type": "stream",
          "name": "stdout",
          "text": [
            "Enter a string: we are in class\n",
            "-1\n",
            "not found\n"
          ]
        }
      ]
    },
    {
      "cell_type": "markdown",
      "source": [
        "Multiple Conditions with and\n",
        "Ask for age and citizenship status. If the user is over 18 and a citizen, print \"Eligible to vote\".\n"
      ],
      "metadata": {
        "id": "6GGmCfWq2Seb"
      }
    },
    {
      "cell_type": "code",
      "source": [
        "a = int(input(\"Enter your age: \"))\n",
        "b = input(\"Enter your citizenship status: \")\n",
        "if a > 18 and b == \"permanent\":\n",
        "  print(\"Eligible to vote\")\n",
        "else:\n",
        "  print(\"Not eligible to vote\")\n",
        "\n",
        "\n"
      ],
      "metadata": {
        "colab": {
          "base_uri": "https://localhost:8080/"
        },
        "id": "fdJ0HOTI2PS-",
        "outputId": "3485f856-6538-48a9-ab49-2c6aada7f644"
      },
      "execution_count": null,
      "outputs": [
        {
          "output_type": "stream",
          "name": "stdout",
          "text": [
            "Enter your age: 24\n",
            "Enter your citizenship status: permanent citizen\n",
            "Not eligible to vote\n"
          ]
        }
      ]
    },
    {
      "cell_type": "markdown",
      "source": [
        "Multiple Conditions with or\n",
        "Ask for a user's age. If they are younger than 13 or older than 65, print \"Discount eligible\".\n"
      ],
      "metadata": {
        "id": "3gwiTVxR5aOW"
      }
    },
    {
      "cell_type": "code",
      "source": [
        "a = int(input(\"Enter your age: \"))\n",
        "if a <= 13 or a >= 65:\n",
        "  print(\"eligible for discount\")\n",
        "else:\n",
        "  print(\"Not eligible for discount\")"
      ],
      "metadata": {
        "colab": {
          "base_uri": "https://localhost:8080/"
        },
        "id": "lt1y07rF5eLm",
        "outputId": "caa9999d-51e0-4963-ad87-cc8cb7b0036c"
      },
      "execution_count": null,
      "outputs": [
        {
          "output_type": "stream",
          "name": "stdout",
          "text": [
            "Enter your age: 65\n",
            "eligible for discount\n"
          ]
        }
      ]
    },
    {
      "cell_type": "markdown",
      "source": [
        "Nested If\n",
        "Check if a number is positive. If it is, check if it is also even.\n"
      ],
      "metadata": {
        "id": "TuRRY9l47PKW"
      }
    },
    {
      "cell_type": "code",
      "source": [
        "a = int(input(\"Enter a number: \"))\n",
        "if a > 0:\n",
        "  if a % 2 == 0:\n",
        "    print(\"even\")\n",
        "  else:\n",
        "    print(\"odd\")\n",
        "else:\n",
        "  print(\"negative\")\n"
      ],
      "metadata": {
        "colab": {
          "base_uri": "https://localhost:8080/"
        },
        "id": "Q3xH8PLj7RC4",
        "outputId": "3884d821-760c-4417-cfcc-aaffd957a048"
      },
      "execution_count": null,
      "outputs": [
        {
          "output_type": "stream",
          "name": "stdout",
          "text": [
            "Enter a number: -23\n",
            "negative\n"
          ]
        }
      ]
    },
    {
      "cell_type": "markdown",
      "source": [
        "Empty List Check\n",
        "If a list is empty, print \"List is empty\"; otherwise, print the number of items\n"
      ],
      "metadata": {
        "id": "T4FDJtOv8UBR"
      }
    },
    {
      "cell_type": "code",
      "source": [
        "a = input(\"Enter a number: \")\n",
        "if len(a) == 0:\n",
        "  print(\"list is empty\")\n",
        "else:\n",
        "  print(len(a))\n"
      ],
      "metadata": {
        "colab": {
          "base_uri": "https://localhost:8080/"
        },
        "id": "hhXJ4Pea8bEF",
        "outputId": "ee2025a1-676b-4ab2-805c-c04e0489fc02"
      },
      "execution_count": null,
      "outputs": [
        {
          "output_type": "stream",
          "name": "stdout",
          "text": [
            "Enter a number: \n",
            "list is empty\n"
          ]
        }
      ]
    },
    {
      "cell_type": "markdown",
      "source": [
        "Truthy Values\n",
        "Use if to check if a string variable is not empty, and print its value\n"
      ],
      "metadata": {
        "id": "FXWrvZFM9eDG"
      }
    },
    {
      "cell_type": "code",
      "source": [
        "a = input(\"Enter a string: \")\n",
        "if a != \"\":\n",
        "  print(a)\n",
        "else:\n",
        "  print(\"empty\")"
      ],
      "metadata": {
        "colab": {
          "base_uri": "https://localhost:8080/"
        },
        "id": "lmmevKrM9kXD",
        "outputId": "794deafc-f349-4c9c-ff85-7683f4cfa382"
      },
      "execution_count": null,
      "outputs": [
        {
          "output_type": "stream",
          "name": "stdout",
          "text": [
            "Enter a string: 24\n",
            "24\n"
          ]
        }
      ]
    },
    {
      "cell_type": "markdown",
      "source": [
        "\n",
        "Use if expression to assign \"Adult\" or \"Minor\" based on a user's age\n"
      ],
      "metadata": {
        "id": "Pbfk-mte-QzL"
      }
    },
    {
      "cell_type": "code",
      "source": [
        "a = int(input(\"Enter your age: \"))\n",
        "if a >= 18:\n",
        "  print(\"Major\")\n",
        "else:\n",
        "  print(\"Minor\")\n",
        "# Need to take explanation on terinary operator.\n"
      ],
      "metadata": {
        "colab": {
          "base_uri": "https://localhost:8080/"
        },
        "id": "RTuUCu6E-QRr",
        "outputId": "21c705a6-d93f-455e-f6d4-c304b85a19ed"
      },
      "execution_count": null,
      "outputs": [
        {
          "output_type": "stream",
          "name": "stdout",
          "text": [
            "Enter your age: 24\n",
            "Major\n"
          ]
        }
      ]
    },
    {
      "cell_type": "markdown",
      "source": [
        "Divisibility Check\n",
        "Ask for a number and print:\n",
        "\n",
        "\"Divisible by both 3 and 5\"\n",
        "\n",
        "\"Divisible by 3\"\n",
        "\n",
        "\"Divisible by 5\"\n",
        "\n",
        "Or \"Not divisible by 3 or 5\"\n",
        "\n",
        "\n"
      ],
      "metadata": {
        "id": "ZSGzLwId_PV9"
      }
    },
    {
      "cell_type": "code",
      "source": [
        "a = int(input(\"Enter a number: \"))\n",
        "if a % 3 == 0 and a % 5 == 0:\n",
        "  print(\"Divisible by both 3 and 5\")\n",
        "elif a % 3 == 0:\n",
        "  print(\"Divisible by 3\")\n",
        "elif a % 5 == 0:\n",
        "  print(\"Divisible by 5\")\n",
        "else:\n",
        "  print(\"Not divisible by 3 or 5\")"
      ],
      "metadata": {
        "colab": {
          "base_uri": "https://localhost:8080/"
        },
        "id": "jUDvPRQ2_34Y",
        "outputId": "2f7db34e-3c5c-497a-f854-ada2163ba6c2"
      },
      "execution_count": null,
      "outputs": [
        {
          "output_type": "stream",
          "name": "stdout",
          "text": [
            "Enter a number: 27\n",
            "Divisible by 3\n"
          ]
        }
      ]
    },
    {
      "cell_type": "markdown",
      "source": [
        "Grade Classification\n",
        "Ask for a numeric grade and use if-elif-else to classify it:\n",
        "\n",
        "90–100: A\n",
        "\n",
        "80–89: B\n",
        "\n",
        "70–79: C\n",
        "\n",
        "60–69: D\n",
        "\n",
        "Below 60: F\n"
      ],
      "metadata": {
        "id": "ekbxhxvoA4KM"
      }
    },
    {
      "cell_type": "code",
      "source": [
        "a = int(input(\"Enter a number: \"))\n",
        "if 90 <= a <= 100:\n",
        "  print(\"A\")\n",
        "elif 80 <= a <= 89:\n",
        "  print(\"B\")\n",
        "elif 70 <= a <= 79:\n",
        "  print(\"C\")\n",
        "elif 60 <= a <= 69:\n",
        "  print(\"D\")\n",
        "elif a < 65 :\n",
        "  print(\"F\")\n",
        "else:\n",
        "  print(\"Invalid input\")\n"
      ],
      "metadata": {
        "colab": {
          "base_uri": "https://localhost:8080/"
        },
        "id": "LGLXGwizBNJZ",
        "outputId": "cd4bf505-5947-4855-8108-5c56bbeb1034"
      },
      "execution_count": null,
      "outputs": [
        {
          "output_type": "stream",
          "name": "stdout",
          "text": [
            "Enter a number: 102\n",
            "Invalid input\n"
          ]
        }
      ]
    },
    {
      "cell_type": "markdown",
      "source": [
        "**FOR loop **"
      ],
      "metadata": {
        "id": "NY2BRaTbCUru"
      }
    },
    {
      "cell_type": "markdown",
      "source": [
        "Print Numbers from 1 to 10\n",
        "Use a for loop to print numbers from 1 to 10."
      ],
      "metadata": {
        "id": "AJOZzT0WChuU"
      }
    },
    {
      "cell_type": "code",
      "source": [
        "a = (1,2,3,4,5,6,7,8,9,10)\n",
        "for i in range(1, 11):\n",
        "  print(i)\n"
      ],
      "metadata": {
        "colab": {
          "base_uri": "https://localhost:8080/"
        },
        "id": "Oja3lkCbCn5C",
        "outputId": "ce6e74a6-b360-4eba-ee86-a32cfa727a17"
      },
      "execution_count": null,
      "outputs": [
        {
          "output_type": "stream",
          "name": "stdout",
          "text": [
            "1\n",
            "2\n",
            "3\n",
            "4\n",
            "5\n",
            "6\n",
            "7\n",
            "8\n",
            "9\n",
            "10\n"
          ]
        }
      ]
    },
    {
      "cell_type": "markdown",
      "source": [
        "Iterate Through a List\n",
        "Given a list fruits = [\"apple\", \"banana\", \"cherry\"], use a for loop to print each fruit.\n",
        "\n"
      ],
      "metadata": {
        "id": "M2JVJ8HADqNW"
      }
    },
    {
      "cell_type": "code",
      "source": [
        "a = [\"apple\", \"banana\", \"cherry\"]\n",
        "for fruits in a:\n",
        "  print(fruits)"
      ],
      "metadata": {
        "colab": {
          "base_uri": "https://localhost:8080/"
        },
        "id": "9vZbmxUnDvXW",
        "outputId": "81ffece6-e05c-409b-ee5d-8b5fc66a89e0"
      },
      "execution_count": null,
      "outputs": [
        {
          "output_type": "stream",
          "name": "stdout",
          "text": [
            "apple\n",
            "banana\n",
            "cherry\n"
          ]
        }
      ]
    },
    {
      "cell_type": "markdown",
      "source": [
        "Sum of Numbers\n",
        "Use a for loop to calculate the sum of numbers from 1 to 100."
      ],
      "metadata": {
        "id": "Ib18LHQZEW1b"
      }
    },
    {
      "cell_type": "code",
      "source": [
        "a = int(input(\"Enter a number: \"))\n",
        "result = 0\n",
        "for i in range(1, a + 1):\n",
        "    result += i\n",
        "print(\"The sum of all numbers is:\", sum)"
      ],
      "metadata": {
        "colab": {
          "base_uri": "https://localhost:8080/"
        },
        "id": "9MWMry-AD1gP",
        "outputId": "5c6dc2e8-43a6-4593-eaba-a676879d0136"
      },
      "execution_count": null,
      "outputs": [
        {
          "output_type": "stream",
          "name": "stdout",
          "text": [
            "Enter a number: 100\n",
            "The sum of all numbers is: 5050\n"
          ]
        }
      ]
    },
    {
      "cell_type": "markdown",
      "source": [
        "Print Each Character\n",
        "Use a for loop to print each character in the string \"Python\"."
      ],
      "metadata": {
        "id": "zKiIyh5SGEJ_"
      }
    },
    {
      "cell_type": "code",
      "source": [
        "a = \"python\"\n",
        "for i in a:\n",
        "  print(i)"
      ],
      "metadata": {
        "colab": {
          "base_uri": "https://localhost:8080/"
        },
        "id": "GTvlQUg-GNaV",
        "outputId": "6035b309-15ea-4b44-98b1-a43ae4b68908"
      },
      "execution_count": null,
      "outputs": [
        {
          "output_type": "stream",
          "name": "stdout",
          "text": [
            "p\n",
            "y\n",
            "t\n",
            "h\n",
            "o\n",
            "n\n"
          ]
        }
      ]
    },
    {
      "cell_type": "markdown",
      "source": [
        "Even Numbers Only\n",
        "Use a for loop to print all even numbers between 1 and 20\n"
      ],
      "metadata": {
        "id": "hNatuQs2GyqV"
      }
    },
    {
      "cell_type": "code",
      "source": [
        "a = int(input(\"Enter a number: \"))\n",
        "for i in range(1, a + 1):\n",
        "  if i % 2 == 0:\n",
        "    print(i)"
      ],
      "metadata": {
        "colab": {
          "base_uri": "https://localhost:8080/"
        },
        "id": "Fcsm7mZWG5Mz",
        "outputId": "bfe5d238-9419-4223-9996-bc7ee6b05828"
      },
      "execution_count": null,
      "outputs": [
        {
          "output_type": "stream",
          "name": "stdout",
          "text": [
            "Enter a number: 20\n",
            "2\n",
            "4\n",
            "6\n",
            "8\n",
            "10\n",
            "12\n",
            "14\n",
            "16\n",
            "18\n",
            "20\n"
          ]
        }
      ]
    },
    {
      "cell_type": "markdown",
      "source": [
        "Loop Through Dictionary\n",
        "Given a dictionary {\"name\": \"Alice\", \"age\": 25}, use a for loop to print each key and value.\n"
      ],
      "metadata": {
        "id": "G4JFLOgiID3P"
      }
    },
    {
      "cell_type": "code",
      "source": [
        "i = {\"name\": \"jaunty\", \"age\": 30 ,\"city\": \"youngstown\"}\n",
        "for key, value in i.items():\n",
        "  print(key,\":\",value)\n"
      ],
      "metadata": {
        "colab": {
          "base_uri": "https://localhost:8080/"
        },
        "id": "25jrDMTzIFl3",
        "outputId": "6eb8194b-fe72-4950-b761-fcf3ff64eb29"
      },
      "execution_count": null,
      "outputs": [
        {
          "output_type": "stream",
          "name": "stdout",
          "text": [
            "name : jaunty\n",
            "age : 30\n",
            "city : youngstown\n"
          ]
        }
      ]
    },
    {
      "cell_type": "markdown",
      "source": [
        "Nested Loops (Multiplication Table)\n",
        "Use nested for loops to print a multiplication table from 1 to 5."
      ],
      "metadata": {
        "id": "X7EtndwTMMzr"
      }
    },
    {
      "cell_type": "code",
      "source": [
        "a = int(input(\"Enter a number: \"))\n",
        "for i in range(1, a + 1):\n",
        "    for j in range(1, 10+ 1):\n",
        "        print(i, \"x\", j, \"=\", i * j)"
      ],
      "metadata": {
        "colab": {
          "base_uri": "https://localhost:8080/"
        },
        "id": "Bucbnp_pMI2N",
        "outputId": "7335959c-9f65-4c0a-b3a7-3286a23de1fa"
      },
      "execution_count": null,
      "outputs": [
        {
          "output_type": "stream",
          "name": "stdout",
          "text": [
            "Enter a number: 4\n",
            "1 x 1 = 1\n",
            "1 x 2 = 2\n",
            "1 x 3 = 3\n",
            "1 x 4 = 4\n",
            "1 x 5 = 5\n",
            "1 x 6 = 6\n",
            "1 x 7 = 7\n",
            "1 x 8 = 8\n",
            "1 x 9 = 9\n",
            "1 x 10 = 10\n",
            "2 x 1 = 2\n",
            "2 x 2 = 4\n",
            "2 x 3 = 6\n",
            "2 x 4 = 8\n",
            "2 x 5 = 10\n",
            "2 x 6 = 12\n",
            "2 x 7 = 14\n",
            "2 x 8 = 16\n",
            "2 x 9 = 18\n",
            "2 x 10 = 20\n",
            "3 x 1 = 3\n",
            "3 x 2 = 6\n",
            "3 x 3 = 9\n",
            "3 x 4 = 12\n",
            "3 x 5 = 15\n",
            "3 x 6 = 18\n",
            "3 x 7 = 21\n",
            "3 x 8 = 24\n",
            "3 x 9 = 27\n",
            "3 x 10 = 30\n",
            "4 x 1 = 4\n",
            "4 x 2 = 8\n",
            "4 x 3 = 12\n",
            "4 x 4 = 16\n",
            "4 x 5 = 20\n",
            "4 x 6 = 24\n",
            "4 x 7 = 28\n",
            "4 x 8 = 32\n",
            "4 x 9 = 36\n",
            "4 x 10 = 40\n"
          ]
        }
      ]
    },
    {
      "cell_type": "markdown",
      "source": [
        "\n",
        "Loop with Range and Step\n",
        "Use a for loop with range() to print numbers from 10 to 1 in reverse order\n"
      ],
      "metadata": {
        "id": "-XWelNm8QDnU"
      }
    },
    {
      "cell_type": "code",
      "source": [
        "a = int(input(\"Enter a number: \"))\n",
        "for i in range(a, 0, -1):\n",
        "  print(i)"
      ],
      "metadata": {
        "colab": {
          "base_uri": "https://localhost:8080/"
        },
        "id": "jO0toRISo7Z8",
        "outputId": "4a24a94d-7134-477e-f365-6d08d195c3c0"
      },
      "execution_count": null,
      "outputs": [
        {
          "output_type": "stream",
          "name": "stdout",
          "text": [
            "Enter a number: 10\n",
            "10\n",
            "9\n",
            "8\n",
            "7\n",
            "6\n",
            "5\n",
            "4\n",
            "3\n",
            "2\n",
            "1\n"
          ]
        }
      ]
    },
    {
      "cell_type": "markdown",
      "source": [
        "pasword generator project\n",
        "## 12 digit password\"  -> step 1\n",
        "\n",
        "## 12 digit password minimum 1 digit  -> step2\n",
        "\n",
        "## 12 digit password minimum 1 digit, special character check(Hint: ascill)-> step3\n",
        "\n",
        "##12 digit password minimum 1 digit,minimum 1 Upper case, special character check(Hint: ascill)-> step3\n"
      ],
      "metadata": {
        "id": "gXLMDzEOanh6"
      }
    },
    {
      "cell_type": "code",
      "source": [
        "name = input(\"enter your name\")\n",
        "password = input(\"enter your password\")\n",
        "\n",
        "if len(password) == 12:\n",
        "  print(\"password is valid\")\n",
        "else:\n",
        "  print(\"invalid password\")\n",
        "\n"
      ],
      "metadata": {
        "colab": {
          "base_uri": "https://localhost:8080/"
        },
        "id": "7I9bcKrqjGmZ",
        "outputId": "0e1a461f-8354-4a7b-efc6-a721c5166e68"
      },
      "execution_count": null,
      "outputs": [
        {
          "output_type": "stream",
          "name": "stdout",
          "text": [
            "enter your namejaunty\n",
            "enter your passwordjauntysunpil\n",
            "password is valid\n"
          ]
        }
      ]
    },
    {
      "cell_type": "code",
      "source": [
        "name = input(\"enter your name\")\n",
        "\n",
        "password = input(\"enter your password\")\n",
        "\n",
        "if len(password) == 12:\n",
        "  if password.isalnum():\n",
        "    print(\"password is valid\")\n",
        "  else:\n",
        "    print(\"atleast one int should be given\")\n",
        "else:\n",
        "  print(\"invalid password\")"
      ],
      "metadata": {
        "colab": {
          "base_uri": "https://localhost:8080/"
        },
        "id": "afxr6azjlxdX",
        "outputId": "133cf2dc-990d-4c83-e776-ca98bd471eb7"
      },
      "execution_count": null,
      "outputs": [
        {
          "output_type": "stream",
          "name": "stdout",
          "text": [
            "enter your namejauntysun\n",
            "enter your passwordjauntysun009\n",
            "password is valid\n"
          ]
        }
      ]
    },
    {
      "cell_type": "markdown",
      "source": [
        "without using ascii\n"
      ],
      "metadata": {
        "id": "DZeEhB33tWJI"
      }
    },
    {
      "cell_type": "code",
      "source": [
        "name = input(\"enter your name\")\n",
        "\n",
        "password = input(\"enter your password\")\n",
        "\n",
        "if len(password) == 12:\n",
        "  if any(password.isalnum()):\n",
        "    if any(password.isupper()):\n",
        "      print(\"password is valid\")\n",
        "    else:\n",
        "      print(\"atleast one capital letter should be given\")\n",
        "  else:\n",
        "    print(\"atleast one int should be given\")\n",
        "else:\n",
        "  print(\"invalid password\")"
      ],
      "metadata": {
        "colab": {
          "base_uri": "https://localhost:8080/",
          "height": 245
        },
        "id": "A_q7mzu9pRDa",
        "outputId": "d31f5af1-7f32-4714-c576-961a539fd8a3"
      },
      "execution_count": null,
      "outputs": [
        {
          "name": "stdout",
          "output_type": "stream",
          "text": [
            "enter your namejaunty\n",
            "enter your passwordJauntysun009\n"
          ]
        },
        {
          "output_type": "error",
          "ename": "TypeError",
          "evalue": "'bool' object is not iterable",
          "traceback": [
            "\u001b[0;31m---------------------------------------------------------------------------\u001b[0m",
            "\u001b[0;31mTypeError\u001b[0m                                 Traceback (most recent call last)",
            "\u001b[0;32m<ipython-input-14-ea19148f5477>\u001b[0m in \u001b[0;36m<cell line: 0>\u001b[0;34m()\u001b[0m\n\u001b[1;32m      4\u001b[0m \u001b[0;34m\u001b[0m\u001b[0m\n\u001b[1;32m      5\u001b[0m \u001b[0;32mif\u001b[0m \u001b[0mlen\u001b[0m\u001b[0;34m(\u001b[0m\u001b[0mpassword\u001b[0m\u001b[0;34m)\u001b[0m \u001b[0;34m==\u001b[0m \u001b[0;36m12\u001b[0m\u001b[0;34m:\u001b[0m\u001b[0;34m\u001b[0m\u001b[0;34m\u001b[0m\u001b[0m\n\u001b[0;32m----> 6\u001b[0;31m   \u001b[0;32mif\u001b[0m \u001b[0many\u001b[0m\u001b[0;34m(\u001b[0m\u001b[0mpassword\u001b[0m\u001b[0;34m.\u001b[0m\u001b[0misalnum\u001b[0m\u001b[0;34m(\u001b[0m\u001b[0;34m)\u001b[0m\u001b[0;34m)\u001b[0m\u001b[0;34m:\u001b[0m\u001b[0;34m\u001b[0m\u001b[0;34m\u001b[0m\u001b[0m\n\u001b[0m\u001b[1;32m      7\u001b[0m     \u001b[0;32mif\u001b[0m \u001b[0many\u001b[0m\u001b[0;34m(\u001b[0m\u001b[0mpassword\u001b[0m\u001b[0;34m.\u001b[0m\u001b[0misupper\u001b[0m\u001b[0;34m(\u001b[0m\u001b[0;34m)\u001b[0m\u001b[0;34m)\u001b[0m\u001b[0;34m:\u001b[0m\u001b[0;34m\u001b[0m\u001b[0;34m\u001b[0m\u001b[0m\n\u001b[1;32m      8\u001b[0m       \u001b[0mprint\u001b[0m\u001b[0;34m(\u001b[0m\u001b[0;34m\"password is valid\"\u001b[0m\u001b[0;34m)\u001b[0m\u001b[0;34m\u001b[0m\u001b[0;34m\u001b[0m\u001b[0m\n",
            "\u001b[0;31mTypeError\u001b[0m: 'bool' object is not iterable"
          ]
        }
      ]
    },
    {
      "cell_type": "markdown",
      "source": [],
      "metadata": {
        "id": "Cazpa3rOrp50"
      }
    },
    {
      "cell_type": "code",
      "source": [
        "name = input(\"enter your name\")\n",
        "\n",
        "password = input(\"enter your password\")\n",
        "\n",
        "if len(password) == 12:\n",
        "  if any(c.isdigit() for c in password):\n",
        "    if any(c.isupper() for c in password):\n",
        "      if any(c.islower() for c in password):\n",
        "        print(\"password is valid\")\n",
        "      else:\n",
        "        print(\"atleast one small letter should be given\")\n",
        "    else:\n",
        "      print(\"atleast one capital letter should be given\")\n",
        "  else:\n",
        "    print(\"atleast one int should be given\")\n",
        "else:\n",
        "  print(\"invalid password\")"
      ],
      "metadata": {
        "colab": {
          "base_uri": "https://localhost:8080/"
        },
        "id": "YNZw-zH7rlXd",
        "outputId": "642cdd35-1250-4563-f157-dae06a6e60e4"
      },
      "execution_count": 14,
      "outputs": [
        {
          "output_type": "stream",
          "name": "stdout",
          "text": [
            "enter your namejaunty\n",
            "enter your passwordPaulwalker$9\n",
            "password is valid\n"
          ]
        }
      ]
    },
    {
      "cell_type": "code",
      "source": [
        "password = input(\"enter your password: \")\n",
        "if any(c.isupper() for c in password):\n",
        "  print(\"password is valid\")\n",
        "else:\n",
        "  print(\"atleast one capital letter should be given\")"
      ],
      "metadata": {
        "id": "1U4k9karQxu7"
      },
      "execution_count": null,
      "outputs": []
    },
    {
      "cell_type": "code",
      "source": [
        "password = input(\"enter your password: \")\n",
        "for c in password:\n",
        " if c.isupper():\n",
        "  print(\"password is valid\")\n",
        " else:\n",
        "   print (\"letter should be given\")"
      ],
      "metadata": {
        "id": "pn6rw1ScREm_"
      },
      "execution_count": null,
      "outputs": []
    },
    {
      "cell_type": "markdown",
      "source": [
        "using ascii"
      ],
      "metadata": {
        "id": "eWB1sbdGt0Pp"
      }
    },
    {
      "cell_type": "code",
      "source": [
        "name = input(\"enter your name\")\n",
        "\n",
        "password = input(\"enter your password\")\n",
        "\n",
        "if len(password) == 12:\n",
        "  if any(48 <= ord(c) <= 57 for c in password):\n",
        "    if any(65 <= ord(c) <= 90 for c in password):\n",
        "      if any(97 <= ord(c) <= 122 for c in password):\n",
        "        if any(33 <= ord(c) <= 47 or 58 <= ord(c) <= 64 or 91 <= ord(c) <= 96 for c in password):\n",
        "          print(\"password is valid\")\n",
        "        else:\n",
        "          print(\"atleast one special character should be given\")\n",
        "      else:\n",
        "        print(\"atleast one small letter should be given\")\n",
        "    else:\n",
        "      print(\"atleast one capital letter should be given\")\n",
        "  else:\n",
        "    print(\"atleast one int should be given\")\n",
        "else:\n",
        "  print(\"invalid password\")"
      ],
      "metadata": {
        "colab": {
          "base_uri": "https://localhost:8080/"
        },
        "id": "AX8jcB24sXxX",
        "outputId": "baa87dc2-4017-42cd-f27a-fcd29886e876"
      },
      "execution_count": 9,
      "outputs": [
        {
          "output_type": "stream",
          "name": "stdout",
          "text": [
            "enter your namejaunty\n",
            "enter your passwordPaulwalker$9\n",
            "password is valid\n"
          ]
        }
      ]
    },
    {
      "cell_type": "code",
      "source": [
        "import random\n",
        "\n",
        "user = input(\"Enter your name: \")\n",
        "total = 0\n",
        "\n",
        "for turns in range(1, 21):\n",
        "    print(input(\"press Enter to roll the die...\"))\n",
        "    roll = random.randint(1, 6)\n",
        "    total += roll\n",
        "    print(\"You rolled: {roll} | Total: {total} | Turns: {turns}\")\n",
        "    if total >= 20:\n",
        "        break\n",
        "\n",
        "print(\"{user} won in {turns} turns!\")"
      ],
      "metadata": {
        "colab": {
          "base_uri": "https://localhost:8080/"
        },
        "id": "VU5eVDL23pTT",
        "outputId": "a12e9f0d-5040-44f1-8127-2a5690468ae4"
      },
      "execution_count": 17,
      "outputs": [
        {
          "output_type": "stream",
          "name": "stdout",
          "text": [
            "Enter your name: \n",
            "press Enter to roll the die...\n",
            "\n",
            "You rolled: {roll} | Total: {total} | Turns: {turns}\n",
            "press Enter to roll the die...\n",
            "\n",
            "You rolled: {roll} | Total: {total} | Turns: {turns}\n",
            "press Enter to roll the die...\n",
            "\n",
            "You rolled: {roll} | Total: {total} | Turns: {turns}\n",
            "press Enter to roll the die...\n",
            "\n",
            "You rolled: {roll} | Total: {total} | Turns: {turns}\n",
            "press Enter to roll the die...\n",
            "\n",
            "You rolled: {roll} | Total: {total} | Turns: {turns}\n",
            "{user} won in {turns} turns!\n"
          ]
        }
      ]
    },
    {
      "cell_type": "code",
      "source": [
        "\n",
        "\n",
        "#1 user 20limit, how many turns it takes to reach 20.  -> for loop\n",
        "import random\n",
        "\n",
        "user = input(\"Enter your name: \")\n",
        "total = 0\n",
        "for turns in range(1, 21):\n",
        "    input(\"press Enter to roll the die...\")\n",
        "    roll = random.randint(1, 6)\n",
        "    total += roll\n",
        "    print(f\"You rolled: {roll} | Total: {total} | Turns: {turns}\")\n",
        "    if total >= 20:\n",
        "        break\n",
        "print(f\"\\n{user} won in {turns} turns!\")\n",
        "\n"
      ],
      "metadata": {
        "colab": {
          "base_uri": "https://localhost:8080/"
        },
        "id": "qsClj5j-z-Js",
        "outputId": "15f1ab50-a7f7-469c-877d-3207e6820c41"
      },
      "execution_count": 26,
      "outputs": [
        {
          "output_type": "stream",
          "name": "stdout",
          "text": [
            "Enter your name: j\n",
            "press Enter to roll the die...\n",
            "You rolled: 6 | Total: 6 | Turns: 1\n",
            "press Enter to roll the die...\n",
            "You rolled: 3 | Total: 9 | Turns: 2\n",
            "press Enter to roll the die...\n",
            "You rolled: 3 | Total: 12 | Turns: 3\n",
            "press Enter to roll the die...\n",
            "You rolled: 4 | Total: 16 | Turns: 4\n",
            "press Enter to roll the die...\n",
            "You rolled: 6 | Total: 22 | Turns: 5\n",
            "\n",
            "j won in 5 turns!\n"
          ]
        }
      ]
    },
    {
      "cell_type": "code",
      "source": [
        "import random\n",
        "user1 = input(\"Player 1 name: \")\n",
        "user2 = input(\"Player 2 name: \")\n",
        "total1 = 0\n",
        "total2 = 0\n",
        "\n",
        "for turn in range(1, 21):\n",
        "\n",
        "    input(f\"{user1}, press Enter to roll...\")\n",
        "    roll = random.randint(1, 6)\n",
        "    total1 += roll\n",
        "    print(f\"rolled: {roll} | Total: {total1}\")\n",
        "    if total1 >= 20:\n",
        "       print(f\"\\n{user1} won in {turn} turns!\")\n",
        "       break\n",
        "\n",
        "    input(f\"{user2}, press Enter to roll...\")\n",
        "    roll = random.randint(1, 6)\n",
        "    total2 += roll\n",
        "    print(f\"rolled: {roll} | Total: {total2}\")\n",
        "    if total2 >= 20:\n",
        "        print(f\"\\n{user2} won in {turn} turns!\")\n",
        "        break"
      ],
      "metadata": {
        "colab": {
          "base_uri": "https://localhost:8080/"
        },
        "id": "BKsu3Mhj6EP6",
        "outputId": "0c2ec4f0-c7b2-4e17-8471-694ac1a6104b"
      },
      "execution_count": null,
      "outputs": [
        {
          "output_type": "stream",
          "name": "stdout",
          "text": [
            "Player 1 name: j\n",
            "Player 2 name: k\n",
            "j, press Enter to roll...\n",
            "rolled: 4 | Total: 4\n",
            "k, press Enter to roll...\n",
            "rolled: 5 | Total: 5\n",
            "j, press Enter to roll...\n",
            "rolled: 4 | Total: 8\n",
            "k, press Enter to roll...\n",
            "rolled: 2 | Total: 7\n",
            "j, press Enter to roll...\n",
            "rolled: 6 | Total: 14\n",
            "k, press Enter to roll...\n",
            "rolled: 1 | Total: 8\n",
            "j, press Enter to roll...\n",
            "rolled: 1 | Total: 15\n",
            "k, press Enter to roll...\n",
            "rolled: 3 | Total: 11\n",
            "j, press Enter to roll...\n",
            "rolled: 5 | Total: 20\n",
            "\n",
            "j won in 5 turns!\n"
          ]
        }
      ]
    },
    {
      "cell_type": "code",
      "source": [
        "import random\n",
        "\n",
        "user1 = input(\"Enter your name: \")\n",
        "user2 = input(\"Enter your name: \")\n",
        "total1 = 0\n",
        "total2 = 0\n",
        "\n",
        "for turns in range(1, 21):\n",
        "\n",
        "    input(f\"{user1}, press Enter to roll the die...\")\n",
        "    roll = random.randint(1, 6)\n",
        "    total1 += roll\n",
        "    print(f\"You rolled: {roll} | Total: {total1} | Turns: {turns}\")\n",
        "    if total1 >= 20:\n",
        "        break\n",
        "print(f\"\\n{user1} won in {turns} turns!\")\n",
        "\n",
        "\n",
        "for turns in range(1, 21):\n",
        "    input(f\"{user2}, press Enter to roll the die...\")\n",
        "    roll = random.randint(1, 6)\n",
        "    total2 += roll\n",
        "    print(f\"You rolled: {roll} | Total: {total2} | Turns: {turns}\")\n",
        "    if total2 >= 20:\n",
        "      break\n",
        "print(f\"\\n{user2} won in {turns} turns!\")"
      ],
      "metadata": {
        "colab": {
          "base_uri": "https://localhost:8080/"
        },
        "id": "TMQs2AIINFxA",
        "outputId": "7e13883b-3a82-4033-8505-1f4e2b6c11bf"
      },
      "execution_count": 22,
      "outputs": [
        {
          "output_type": "stream",
          "name": "stdout",
          "text": [
            "Enter your name: k\n",
            "Enter your name: j\n",
            "k, press Enter to roll the die...\n",
            "You rolled: 5 | Total: 5 | Turns: 1\n",
            "k, press Enter to roll the die...\n",
            "You rolled: 6 | Total: 11 | Turns: 2\n",
            "k, press Enter to roll the die...\n",
            "You rolled: 2 | Total: 13 | Turns: 3\n",
            "k, press Enter to roll the die...\n",
            "You rolled: 1 | Total: 14 | Turns: 4\n",
            "k, press Enter to roll the die...\n",
            "You rolled: 1 | Total: 15 | Turns: 5\n",
            "k, press Enter to roll the die...\n",
            "You rolled: 3 | Total: 18 | Turns: 6\n",
            "k, press Enter to roll the die...\n",
            "You rolled: 6 | Total: 24 | Turns: 7\n",
            "\n",
            "k won in 7 turns!\n",
            "j, press Enter to roll the die...\n",
            "You rolled: 6 | Total: 6 | Turns: 1\n",
            "j, press Enter to roll the die...\n",
            "You rolled: 1 | Total: 7 | Turns: 2\n",
            "j, press Enter to roll the die...\n",
            "You rolled: 1 | Total: 8 | Turns: 3\n",
            "j, press Enter to roll the die...\n",
            "You rolled: 2 | Total: 10 | Turns: 4\n",
            "j, press Enter to roll the die...\n",
            "You rolled: 2 | Total: 12 | Turns: 5\n",
            "j, press Enter to roll the die...\n",
            "You rolled: 4 | Total: 16 | Turns: 6\n",
            "j, press Enter to roll the die...\n",
            "You rolled: 6 | Total: 22 | Turns: 7\n",
            "\n",
            "j won in 7 turns!\n"
          ]
        }
      ]
    },
    {
      "cell_type": "markdown",
      "source": [
        "** *programs* on inbuilt functions using dict**\n",
        "\n",
        "---\n",
        "\n"
      ],
      "metadata": {
        "id": "Q1ef-3EZ7ttQ"
      }
    },
    {
      "cell_type": "markdown",
      "source": [
        "Create a dictionary with at least 3 key-value pairs. Use print() along with keys() and values() to display all keys and values."
      ],
      "metadata": {
        "id": "yRD-SxzN6d0p"
      }
    },
    {
      "cell_type": "code",
      "source": [
        "my_dict = {\"name\": \"jaunty\", \"age\": 30, \"city\": \"vice city\"}\n",
        "print(\"keys:\", my_dict.keys())\n",
        "print(\"values:\", my_dict.values())"
      ],
      "metadata": {
        "colab": {
          "base_uri": "https://localhost:8080/"
        },
        "id": "ix9hBQUM6fK5",
        "outputId": "225d1e25-0aa4-41de-8d82-f8d983eee36c"
      },
      "execution_count": 32,
      "outputs": [
        {
          "output_type": "stream",
          "name": "stdout",
          "text": [
            "keys: dict_keys(['name', 'age', 'city'])\n",
            "values: dict_values(['jaunty', 30, 'vice city'])\n"
          ]
        }
      ]
    },
    {
      "cell_type": "markdown",
      "source": [
        "Here's a simpler version of the program that checks if a key exists in a dictionary using the get() method:"
      ],
      "metadata": {
        "id": "Dm9Jg_gz89Nx"
      }
    },
    {
      "cell_type": "code",
      "source": [
        "my_dict = {'a': \"party\", 'b': 2025, 'c': \"dice\"}\n",
        "\n",
        "key = input(\"Enter a key: \")\n",
        "\n",
        "if my_dict.get(key) != 0:\n",
        "    print(\"valid key\")\n",
        "else:\n",
        "    print(\"invalid Key\")"
      ],
      "metadata": {
        "colab": {
          "base_uri": "https://localhost:8080/"
        },
        "id": "ZFTnSa3y88Uv",
        "outputId": "0ab07d4b-2ba1-4818-c370-1734c779c54d"
      },
      "execution_count": 16,
      "outputs": [
        {
          "output_type": "stream",
          "name": "stdout",
          "text": [
            "Enter a key: a\n",
            "valid key\n"
          ]
        }
      ]
    },
    {
      "cell_type": "markdown",
      "source": [
        "Write a program to add a new key-value pair to an existing dictionary using update()"
      ],
      "metadata": {
        "id": "DNnmv_jSA8dk"
      }
    },
    {
      "cell_type": "code",
      "source": [
        "my_dict = {'a': \"party\", 'b': 2025, 'c': \"dice\"}\n",
        "my_dict.update({\"d\": \"hello\"})\n",
        "print(my_dict)"
      ],
      "metadata": {
        "colab": {
          "base_uri": "https://localhost:8080/"
        },
        "id": "6RPdDlAp_ScY",
        "outputId": "368e734b-e35f-4720-a62e-1ac4295e2fa4"
      },
      "execution_count": 20,
      "outputs": [
        {
          "output_type": "stream",
          "name": "stdout",
          "text": [
            "{'a': 'party', 'b': 2025, 'c': 'dice', 'd': 'hello'}\n"
          ]
        }
      ]
    },
    {
      "cell_type": "markdown",
      "source": [
        "Use fromkeys() to create a dictionary with 3 keys ('a', 'b', 'c') and assign the same value (0) to all."
      ],
      "metadata": {
        "id": "kfMUD0S1AGz0"
      }
    },
    {
      "cell_type": "code",
      "source": [
        "keys = ['a', 'b', 'c']\n",
        "value = 0\n",
        "my_dict = dict.fromkeys(keys, value)\n",
        "\n",
        "print(my_dict)\n"
      ],
      "metadata": {
        "colab": {
          "base_uri": "https://localhost:8080/"
        },
        "id": "eAWqccHfAGZP",
        "outputId": "d4550439-2e2b-4dac-98a3-c6a82878e186"
      },
      "execution_count": 24,
      "outputs": [
        {
          "output_type": "stream",
          "name": "stdout",
          "text": [
            "{'a': 0, 'b': 0, 'c': 0}\n"
          ]
        }
      ]
    },
    {
      "cell_type": "markdown",
      "source": [
        "\n",
        "Write a program to remove a specific key from a dictionary using the pop() method"
      ],
      "metadata": {
        "id": "5I0uiJ_gBt2R"
      }
    },
    {
      "cell_type": "code",
      "source": [
        "my_dict = {'a': 1, 'b': 2, 'c': 3}\n",
        "my_dict.pop('b')\n",
        "print(my_dict)"
      ],
      "metadata": {
        "colab": {
          "base_uri": "https://localhost:8080/"
        },
        "id": "NbB8r0fNCAyK",
        "outputId": "ec9403e1-52c9-43fc-866b-da293c29d9d8"
      },
      "execution_count": 27,
      "outputs": [
        {
          "output_type": "stream",
          "name": "stdout",
          "text": [
            "{'a': 1, 'c': 3}\n"
          ]
        }
      ]
    },
    {
      "cell_type": "markdown",
      "source": [
        "Create a dictionary and print each key and value using a for loop and the items() method"
      ],
      "metadata": {
        "id": "vjvrT3KQDTnt"
      }
    },
    {
      "cell_type": "code",
      "source": [
        "my_dict = {'first name': \"sachin\", 'mid name': \"ramesh\", 'last name': \"tendulkar\"}\n",
        "for key, value in my_dict.items():\n",
        "    print(key,\":\", value)"
      ],
      "metadata": {
        "colab": {
          "base_uri": "https://localhost:8080/"
        },
        "id": "Rnlu7XBeDU0P",
        "outputId": "6a93e79c-fc96-4080-a71e-9cb3100a77ad"
      },
      "execution_count": 35,
      "outputs": [
        {
          "output_type": "stream",
          "name": "stdout",
          "text": [
            "first name : sachin\n",
            "mid name : ramesh\n",
            "last name : tendulkar\n"
          ]
        }
      ]
    },
    {
      "cell_type": "markdown",
      "source": [
        "Write a program to create a dictionary where the keys are numbers from 1 to 5 and the values are their squares."
      ],
      "metadata": {
        "id": "TmU0eBZtEvTd"
      }
    },
    {
      "cell_type": "code",
      "source": [
        "my_dict = {1: 1 ,  20 , 3 , 4}\n",
        "for \"key\", \"value\" in my_dict():\n",
        "  print(i,\":\", i**2)"
      ],
      "metadata": {
        "colab": {
          "base_uri": "https://localhost:8080/"
        },
        "id": "vgysNTejEu_m",
        "outputId": "10439e64-890f-41d3-d971-cda0e6813a0c"
      },
      "execution_count": 42,
      "outputs": [
        {
          "output_type": "stream",
          "name": "stdout",
          "text": [
            "1 : 1\n",
            "3 : 9\n",
            "20 : 400\n",
            "4 : 16\n"
          ]
        }
      ]
    },
    {
      "cell_type": "markdown",
      "source": [
        "Use setdefault() to add a key with a default value if it is not already in the dictionary. Print the dictionary before and after."
      ],
      "metadata": {
        "id": "tfUlQ6XbFkMI"
      }
    },
    {
      "cell_type": "code",
      "source": [
        "need explanation on setdefault"
      ],
      "metadata": {
        "colab": {
          "base_uri": "https://localhost:8080/",
          "height": 106
        },
        "id": "mFlemO9_FzGY",
        "outputId": "24764937-c8a6-4f46-9fc7-1b7ec96b598a"
      },
      "execution_count": 40,
      "outputs": [
        {
          "output_type": "error",
          "ename": "SyntaxError",
          "evalue": "invalid syntax (<ipython-input-40-f1d61be4c522>, line 1)",
          "traceback": [
            "\u001b[0;36m  File \u001b[0;32m\"<ipython-input-40-f1d61be4c522>\"\u001b[0;36m, line \u001b[0;32m1\u001b[0m\n\u001b[0;31m    need explanation\u001b[0m\n\u001b[0m         ^\u001b[0m\n\u001b[0;31mSyntaxError\u001b[0m\u001b[0;31m:\u001b[0m invalid syntax\n"
          ]
        }
      ]
    },
    {
      "cell_type": "markdown",
      "source": [
        "Write a program to copy a dictionary using the copy() method and show that changes to one don’t affect the other."
      ],
      "metadata": {
        "id": "1qQ0WCG7HM-q"
      }
    },
    {
      "cell_type": "code",
      "source": [
        "my_dict = {'a': 1, 'b': 2, 'c': 3}\n",
        "new_dict= {\"name\": \"jaunty\", \"age\": 30, \"city\": \"vice city\"}\n",
        "new_dict = my_dict.copy()\n",
        "print(new_dict)"
      ],
      "metadata": {
        "colab": {
          "base_uri": "https://localhost:8080/"
        },
        "id": "8Qoj-0lxG5Qf",
        "outputId": "a43366cb-74d5-4949-93a5-1fa5b33d82ab"
      },
      "execution_count": 45,
      "outputs": [
        {
          "output_type": "stream",
          "name": "stdout",
          "text": [
            "{'a': 1, 'b': 2, 'c': 3}\n"
          ]
        }
      ]
    },
    {
      "cell_type": "markdown",
      "source": [
        "**list inbuilt functions**\n"
      ],
      "metadata": {
        "id": "A0nenZGJIVm7"
      }
    },
    {
      "cell_type": "markdown",
      "source": [
        "Create a list of 5 integers and print the length of the list using len()."
      ],
      "metadata": {
        "id": "_2s3lUVuId2a"
      }
    },
    {
      "cell_type": "code",
      "source": [
        "a = [1, 2, 3, 4, 5]\n",
        "print(len(a))"
      ],
      "metadata": {
        "colab": {
          "base_uri": "https://localhost:8080/"
        },
        "id": "skrTFpBIIfQX",
        "outputId": "8232b71c-01c9-460f-808b-a0d4b1b522e7"
      },
      "execution_count": 46,
      "outputs": [
        {
          "output_type": "stream",
          "name": "stdout",
          "text": [
            "5\n"
          ]
        }
      ]
    },
    {
      "cell_type": "markdown",
      "source": [
        "Write a program to append an element to the end of a list using the append() method."
      ],
      "metadata": {
        "id": "ZZBIVT2tI3Ev"
      }
    },
    {
      "cell_type": "code",
      "source": [
        "b = [1, 2, 3, 4, 5]\n",
        "b.append(6)\n",
        "print(b)"
      ],
      "metadata": {
        "colab": {
          "base_uri": "https://localhost:8080/"
        },
        "id": "Iszr1v1uI2Kh",
        "outputId": "d5f830c5-f4e2-4296-ff79-8b4464f139dc"
      },
      "execution_count": 47,
      "outputs": [
        {
          "output_type": "stream",
          "name": "stdout",
          "text": [
            "[1, 2, 3, 4, 5, 6]\n"
          ]
        }
      ]
    },
    {
      "cell_type": "markdown",
      "source": [
        "Write a program to insert an element at a specific position in the list using insert()."
      ],
      "metadata": {
        "id": "hKfHvg_ZI8k8"
      }
    },
    {
      "cell_type": "code",
      "source": [
        "c = [1, 2, 3, 4, 5]\n",
        "c.insert(3, 6)\n",
        "print(c)"
      ],
      "metadata": {
        "colab": {
          "base_uri": "https://localhost:8080/"
        },
        "id": "lDfL4WlyJBDJ",
        "outputId": "b88cb45b-3f9b-47ef-d18f-f3eb0ca031a9"
      },
      "execution_count": 48,
      "outputs": [
        {
          "output_type": "stream",
          "name": "stdout",
          "text": [
            "[1, 2, 3, 6, 4, 5]\n"
          ]
        }
      ]
    },
    {
      "cell_type": "markdown",
      "source": [
        "Remove a specific element from the list using the remove() method."
      ],
      "metadata": {
        "id": "oLJYHwowJI34"
      }
    },
    {
      "cell_type": "code",
      "source": [
        "d = [1, 2, 3, 4, 5]\n",
        "d.remove(3)\n",
        "print(d)"
      ],
      "metadata": {
        "colab": {
          "base_uri": "https://localhost:8080/"
        },
        "id": "OW5O47rYJIel",
        "outputId": "157fad00-da6c-4422-b2d5-2bd985819185"
      },
      "execution_count": 49,
      "outputs": [
        {
          "output_type": "stream",
          "name": "stdout",
          "text": [
            "[1, 2, 4, 5]\n"
          ]
        }
      ]
    },
    {
      "cell_type": "markdown",
      "source": [
        "Use pop() to remove the last item from a list and print the item and the updated list.\n"
      ],
      "metadata": {
        "id": "cxdJlFz9JW5p"
      }
    },
    {
      "cell_type": "code",
      "source": [
        "e = [11, 2, 3, 4, 7]\n",
        "e.pop(0)\n",
        "print(e)"
      ],
      "metadata": {
        "colab": {
          "base_uri": "https://localhost:8080/"
        },
        "id": "o8UDwNtiJbC1",
        "outputId": "6a83ae08-5edf-499a-c681-6a3dd170c184"
      },
      "execution_count": 52,
      "outputs": [
        {
          "output_type": "stream",
          "name": "stdout",
          "text": [
            "[2, 3, 4, 7]\n"
          ]
        }
      ]
    },
    {
      "cell_type": "markdown",
      "source": [
        "Use index() to find the index of a specific element in a list."
      ],
      "metadata": {
        "id": "d8i8KZfsJ0Yd"
      }
    },
    {
      "cell_type": "code",
      "source": [
        "f = [1, 27, 5, 39]\n",
        "\n",
        "print(f.index(27))"
      ],
      "metadata": {
        "colab": {
          "base_uri": "https://localhost:8080/"
        },
        "id": "seaWaOmRJ4bn",
        "outputId": "b8251567-3028-4c8d-80f0-ff6e4accff4a"
      },
      "execution_count": 57,
      "outputs": [
        {
          "output_type": "stream",
          "name": "stdout",
          "text": [
            "1\n"
          ]
        }
      ]
    },
    {
      "cell_type": "markdown",
      "source": [
        "Write a program to count how many times a specific value appears in a list using count().\n"
      ],
      "metadata": {
        "id": "JreGF0S-KPbP"
      }
    },
    {
      "cell_type": "code",
      "source": [
        "g = [1, 3, 5, 3, 7, 3, 9]\n",
        "print(g.count(3))\n"
      ],
      "metadata": {
        "colab": {
          "base_uri": "https://localhost:8080/"
        },
        "id": "ImiICka2KVJk",
        "outputId": "6ee2e90f-6af4-4196-ad1f-51994d420e5a"
      },
      "execution_count": 59,
      "outputs": [
        {
          "output_type": "stream",
          "name": "stdout",
          "text": [
            "3\n"
          ]
        }
      ]
    },
    {
      "cell_type": "markdown",
      "source": [],
      "metadata": {
        "id": "IKbGnD7yLmfH"
      }
    }
  ]
}