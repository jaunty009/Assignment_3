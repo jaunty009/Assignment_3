{
  "nbformat": 4,
  "nbformat_minor": 0,
  "metadata": {
    "colab": {
      "provenance": [],
      "authorship_tag": "ABX9TyMD/aeByPnRdhtIiYgYfcuc",
      "include_colab_link": true
    },
    "kernelspec": {
      "name": "python3",
      "display_name": "Python 3"
    },
    "language_info": {
      "name": "python"
    }
  },
  "cells": [
    {
      "cell_type": "markdown",
      "metadata": {
        "id": "view-in-github",
        "colab_type": "text"
      },
      "source": [
        "<a href=\"https://colab.research.google.com/github/jaunty009/Assignment_3/blob/main/april3rd.ipynb\" target=\"_parent\"><img src=\"https://colab.research.google.com/assets/colab-badge.svg\" alt=\"Open In Colab\"/></a>"
      ]
    },
    {
      "cell_type": "code",
      "execution_count": null,
      "metadata": {
        "colab": {
          "base_uri": "https://localhost:8080/"
        },
        "id": "Cahcji8c-CV8",
        "outputId": "c289462c-bc59-4c5f-bf39-e3d3769b7650"
      },
      "outputs": [
        {
          "output_type": "stream",
          "name": "stdout",
          "text": [
            "1680\n"
          ]
        }
      ],
      "source": [
        "#multiplication\n",
        "numbers = [5,6,7,8]\n",
        "result = 1\n",
        "for num in numbers:\n",
        "    result = result * num\n",
        "print(result)"
      ]
    },
    {
      "cell_type": "code",
      "source": [
        "#addition\n",
        "numbers = [10,20,25,30,40,50]\n",
        "total = sum(numbers)\n",
        "print(\"sum of the total\",total)"
      ],
      "metadata": {
        "colab": {
          "base_uri": "https://localhost:8080/"
        },
        "id": "-MQ-ja6N-qA1",
        "outputId": "f6f49daf-5aa2-4c9a-946f-ab9bea95c9ef"
      },
      "execution_count": null,
      "outputs": [
        {
          "output_type": "stream",
          "name": "stdout",
          "text": [
            "sum of the total 175\n"
          ]
        }
      ]
    },
    {
      "cell_type": "code",
      "source": [
        "#maximum number in the list\n",
        "numbers = [10,25,82,76,65,43,99,51]\n",
        "larg_numb = max(numbers)\n",
        "print(larg_numb)"
      ],
      "metadata": {
        "colab": {
          "base_uri": "https://localhost:8080/"
        },
        "id": "_hMkchEl_A9F",
        "outputId": "d6de736f-9964-4422-fd96-f4728705412f"
      },
      "execution_count": null,
      "outputs": [
        {
          "output_type": "stream",
          "name": "stdout",
          "text": [
            "99\n"
          ]
        }
      ]
    },
    {
      "cell_type": "code",
      "source": [
        "#get smallest number in the list\n",
        "numbers =[23,55,76,92,7.5,87,65]\n",
        "small_numb = min(numbers)\n",
        "print(\"smallest number in the list:\",small_numb)"
      ],
      "metadata": {
        "colab": {
          "base_uri": "https://localhost:8080/"
        },
        "id": "lVmELmzk_0LG",
        "outputId": "c9c5c71b-433a-4e34-d4b0-4550c36f7e4d"
      },
      "execution_count": null,
      "outputs": [
        {
          "output_type": "stream",
          "name": "stdout",
          "text": [
            "smallest number in the list: 7.5\n"
          ]
        }
      ]
    },
    {
      "cell_type": "code",
      "source": [
        "#count strings with same start and end\n",
        "words = ['abc','xyz','aba','1221']\n",
        "count = 0\n",
        "for word in words:\n",
        "  if(len(word)) >= 2 and word[0] == word[-1]:\n",
        "    count += 1\n",
        "print(count)\n"
      ],
      "metadata": {
        "colab": {
          "base_uri": "https://localhost:8080/"
        },
        "id": "btU13e3-Akse",
        "outputId": "7dc321ba-a416-4d7e-8da9-ce6018093416"
      },
      "execution_count": null,
      "outputs": [
        {
          "output_type": "stream",
          "name": "stdout",
          "text": [
            "2\n"
          ]
        }
      ]
    },
    {
      "cell_type": "code",
      "source": [
        "num1 = float(input(\"enter a number:\"))\n",
        "operator = input(\"+, -, *, /, %, **, // \")\n",
        "num2 = float(input(\"enter a number:\"))\n",
        "if operator == \"+\":\n",
        "  print(num1 + num2)\n",
        "elif operator == \"-\":\n",
        "  print(num1 - num2)\n",
        "elif operator == \"*\":\n",
        "  print(num1 * num2)\n",
        "elif operator == \"/\":\n",
        "  print(num1 / num2)\n",
        "elif operator == \"%\":\n",
        "  print(num1 % num2)\n",
        "elif operator == \"**\":\n",
        "  print(num1 ** num2)\n",
        "elif operator == \"//\":\n",
        "  print(num1 // num2)\n",
        "else:\n",
        "  print(\"invalid operator\")"
      ],
      "metadata": {
        "id": "ArKXqQ1czid1",
        "outputId": "bd8561d8-d6a2-45b3-f841-195895e84f1b",
        "colab": {
          "base_uri": "https://localhost:8080/"
        }
      },
      "execution_count": null,
      "outputs": [
        {
          "name": "stdout",
          "output_type": "stream",
          "text": [
            "enter a number:7\n"
          ]
        }
      ]
    },
    {
      "cell_type": "code",
      "source": [],
      "metadata": {
        "id": "JoI1Da0w1sO0"
      },
      "execution_count": null,
      "outputs": []
    }
  ]
}